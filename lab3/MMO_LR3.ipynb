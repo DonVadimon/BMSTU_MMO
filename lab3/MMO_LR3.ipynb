{
 "cells": [
  {
   "cell_type": "markdown",
   "metadata": {
    "id": "GL56whFAvNE3"
   },
   "source": [
    "# Задание лабораторной работы"
   ]
  },
  {
   "cell_type": "markdown",
   "metadata": {
    "id": "jFP0R4S4vPrJ"
   },
   "source": [
    "- Выбрать один или несколько наборов данных (датасетов) для решения следующих задач. Каждая задача может быть решена на отдельном датасете, или несколько задач могут быть решены на одном датасете. Просьба не использовать датасет, на котором данная задача решалась в лекции.\n",
    "- Для выбранного датасета (датасетов) на основе материалов лекций решить следующие задачи:\n",
    "  - масштабирование признаков (не менее чем тремя способами);\n",
    "  - обработку выбросов для числовых признаков (по одному способу для удаления выбросов и для замены выбросов);\n",
    "  - обработку по крайней мере одного нестандартного признака (который не является числовым или категориальным);\n",
    "  - отбор признаков:\n",
    "    - один метод из группы методов фильтрации (filter methods);\n",
    "    - один метод из группы методов обертывания (wrapper methods);\n",
    "    - один метод из группы методов вложений (embedded methods)."
   ]
  },
  {
   "cell_type": "markdown",
   "metadata": {
    "id": "84yMTQdlvVjr"
   },
   "source": [
    "# Выполнение работы"
   ]
  },
  {
   "cell_type": "markdown",
   "metadata": {
    "id": "7D2P0L-GvYVs"
   },
   "source": [
    "## Текстовое описание датасета"
   ]
  },
  {
   "cell_type": "markdown",
   "metadata": {
    "id": "_KZP_AZHt3BT"
   },
   "source": [
    "В качестве данных для анализа используется датасет `AutoRu1.csv`, представляющий собой таблицу, содержащую информацию о проданных автомобилях на сайте auto.ru за определенный период."
   ]
  },
  {
   "cell_type": "markdown",
   "metadata": {
    "id": "O6vLQd2oSzMA"
   },
   "source": [
    "Для анализа в ЛР используются не все признаки."
   ]
  },
  {
   "cell_type": "markdown",
   "metadata": {
    "id": "tdmONsx5vhlf"
   },
   "source": [
    "## Импорт библиотек"
   ]
  },
  {
   "cell_type": "code",
   "execution_count": 1,
   "metadata": {
    "id": "jsXJth3FvjbC"
   },
   "outputs": [],
   "source": [
    "import pandas as pd\n",
    "import matplotlib.pyplot as plt\n",
    "import numpy as np\n",
    "import seaborn as sns\n",
    "from sklearn.model_selection import train_test_split\n",
    "from sklearn.preprocessing import StandardScaler\n",
    "from sklearn.preprocessing import MinMaxScaler\n",
    "from sklearn.preprocessing import RobustScaler\n",
    "from sklearn.preprocessing import MaxAbsScaler\n",
    "import scipy.stats as stats\n"
   ]
  },
  {
   "cell_type": "markdown",
   "metadata": {
    "id": "6KbAHfbUvmJq"
   },
   "source": [
    "## Подключение Google Диска для работы с Google Colab"
   ]
  },
  {
   "cell_type": "code",
   "execution_count": 2,
   "metadata": {
    "colab": {
     "base_uri": "https://localhost:8080/"
    },
    "id": "jrBud0xjvm0C",
    "outputId": "e00e9563-d94c-4ed7-f787-b97f32cc9e7b"
   },
   "outputs": [],
   "source": [
    "# from google.colab import drive\n",
    "# drive.mount('/content/drive')"
   ]
  },
  {
   "cell_type": "markdown",
   "metadata": {
    "id": "apIx19Hcvv5Q"
   },
   "source": [
    "## Чтение данных"
   ]
  },
  {
   "cell_type": "code",
   "execution_count": 3,
   "metadata": {
    "id": "UXVGlhhJvt4j"
   },
   "outputs": [],
   "source": [
    "data = pd.read_csv('../data/zomato.csv')"
   ]
  },
  {
   "cell_type": "code",
   "execution_count": 4,
   "metadata": {
    "colab": {
     "base_uri": "https://localhost:8080/",
     "height": 481
    },
    "id": "r111Hvc2vzx5",
    "outputId": "87983b5c-9598-4200-e029-b1eeea2de851"
   },
   "outputs": [
    {
     "data": {
      "text/html": [
       "<div>\n",
       "<style scoped>\n",
       "    .dataframe tbody tr th:only-of-type {\n",
       "        vertical-align: middle;\n",
       "    }\n",
       "\n",
       "    .dataframe tbody tr th {\n",
       "        vertical-align: top;\n",
       "    }\n",
       "\n",
       "    .dataframe thead th {\n",
       "        text-align: right;\n",
       "    }\n",
       "</style>\n",
       "<table border=\"1\" class=\"dataframe\">\n",
       "  <thead>\n",
       "    <tr style=\"text-align: right;\">\n",
       "      <th></th>\n",
       "      <th>url</th>\n",
       "      <th>address</th>\n",
       "      <th>name</th>\n",
       "      <th>online_order</th>\n",
       "      <th>book_table</th>\n",
       "      <th>rate</th>\n",
       "      <th>votes</th>\n",
       "      <th>phone</th>\n",
       "      <th>location</th>\n",
       "      <th>rest_type</th>\n",
       "      <th>dish_liked</th>\n",
       "      <th>cuisines</th>\n",
       "      <th>approx_cost(for two people)</th>\n",
       "      <th>reviews_list</th>\n",
       "      <th>menu_item</th>\n",
       "      <th>listed_in(type)</th>\n",
       "      <th>listed_in(city)</th>\n",
       "    </tr>\n",
       "  </thead>\n",
       "  <tbody>\n",
       "    <tr>\n",
       "      <th>0</th>\n",
       "      <td>https://www.zomato.com/bangalore/jalsa-banasha...</td>\n",
       "      <td>942, 21st Main Road, 2nd Stage, Banashankari, ...</td>\n",
       "      <td>Jalsa</td>\n",
       "      <td>Yes</td>\n",
       "      <td>Yes</td>\n",
       "      <td>4.1/5</td>\n",
       "      <td>775</td>\n",
       "      <td>080 42297555\\r\\n+91 9743772233</td>\n",
       "      <td>Banashankari</td>\n",
       "      <td>Casual Dining</td>\n",
       "      <td>Pasta, Lunch Buffet, Masala Papad, Paneer Laja...</td>\n",
       "      <td>North Indian, Mughlai, Chinese</td>\n",
       "      <td>800</td>\n",
       "      <td>[('Rated 4.0', 'RATED\\n  A beautiful place to ...</td>\n",
       "      <td>[]</td>\n",
       "      <td>Buffet</td>\n",
       "      <td>Banashankari</td>\n",
       "    </tr>\n",
       "    <tr>\n",
       "      <th>1</th>\n",
       "      <td>https://www.zomato.com/bangalore/spice-elephan...</td>\n",
       "      <td>2nd Floor, 80 Feet Road, Near Big Bazaar, 6th ...</td>\n",
       "      <td>Spice Elephant</td>\n",
       "      <td>Yes</td>\n",
       "      <td>No</td>\n",
       "      <td>4.1/5</td>\n",
       "      <td>787</td>\n",
       "      <td>080 41714161</td>\n",
       "      <td>Banashankari</td>\n",
       "      <td>Casual Dining</td>\n",
       "      <td>Momos, Lunch Buffet, Chocolate Nirvana, Thai G...</td>\n",
       "      <td>Chinese, North Indian, Thai</td>\n",
       "      <td>800</td>\n",
       "      <td>[('Rated 4.0', 'RATED\\n  Had been here for din...</td>\n",
       "      <td>[]</td>\n",
       "      <td>Buffet</td>\n",
       "      <td>Banashankari</td>\n",
       "    </tr>\n",
       "    <tr>\n",
       "      <th>2</th>\n",
       "      <td>https://www.zomato.com/SanchurroBangalore?cont...</td>\n",
       "      <td>1112, Next to KIMS Medical College, 17th Cross...</td>\n",
       "      <td>San Churro Cafe</td>\n",
       "      <td>Yes</td>\n",
       "      <td>No</td>\n",
       "      <td>3.8/5</td>\n",
       "      <td>918</td>\n",
       "      <td>+91 9663487993</td>\n",
       "      <td>Banashankari</td>\n",
       "      <td>Cafe, Casual Dining</td>\n",
       "      <td>Churros, Cannelloni, Minestrone Soup, Hot Choc...</td>\n",
       "      <td>Cafe, Mexican, Italian</td>\n",
       "      <td>800</td>\n",
       "      <td>[('Rated 3.0', \"RATED\\n  Ambience is not that ...</td>\n",
       "      <td>[]</td>\n",
       "      <td>Buffet</td>\n",
       "      <td>Banashankari</td>\n",
       "    </tr>\n",
       "    <tr>\n",
       "      <th>3</th>\n",
       "      <td>https://www.zomato.com/bangalore/addhuri-udupi...</td>\n",
       "      <td>1st Floor, Annakuteera, 3rd Stage, Banashankar...</td>\n",
       "      <td>Addhuri Udupi Bhojana</td>\n",
       "      <td>No</td>\n",
       "      <td>No</td>\n",
       "      <td>3.7/5</td>\n",
       "      <td>88</td>\n",
       "      <td>+91 9620009302</td>\n",
       "      <td>Banashankari</td>\n",
       "      <td>Quick Bites</td>\n",
       "      <td>Masala Dosa</td>\n",
       "      <td>South Indian, North Indian</td>\n",
       "      <td>300</td>\n",
       "      <td>[('Rated 4.0', \"RATED\\n  Great food and proper...</td>\n",
       "      <td>[]</td>\n",
       "      <td>Buffet</td>\n",
       "      <td>Banashankari</td>\n",
       "    </tr>\n",
       "    <tr>\n",
       "      <th>4</th>\n",
       "      <td>https://www.zomato.com/bangalore/grand-village...</td>\n",
       "      <td>10, 3rd Floor, Lakshmi Associates, Gandhi Baza...</td>\n",
       "      <td>Grand Village</td>\n",
       "      <td>No</td>\n",
       "      <td>No</td>\n",
       "      <td>3.8/5</td>\n",
       "      <td>166</td>\n",
       "      <td>+91 8026612447\\r\\n+91 9901210005</td>\n",
       "      <td>Basavanagudi</td>\n",
       "      <td>Casual Dining</td>\n",
       "      <td>Panipuri, Gol Gappe</td>\n",
       "      <td>North Indian, Rajasthani</td>\n",
       "      <td>600</td>\n",
       "      <td>[('Rated 4.0', 'RATED\\n  Very good restaurant ...</td>\n",
       "      <td>[]</td>\n",
       "      <td>Buffet</td>\n",
       "      <td>Banashankari</td>\n",
       "    </tr>\n",
       "  </tbody>\n",
       "</table>\n",
       "</div>"
      ],
      "text/plain": [
       "                                                 url  \\\n",
       "0  https://www.zomato.com/bangalore/jalsa-banasha...   \n",
       "1  https://www.zomato.com/bangalore/spice-elephan...   \n",
       "2  https://www.zomato.com/SanchurroBangalore?cont...   \n",
       "3  https://www.zomato.com/bangalore/addhuri-udupi...   \n",
       "4  https://www.zomato.com/bangalore/grand-village...   \n",
       "\n",
       "                                             address                   name  \\\n",
       "0  942, 21st Main Road, 2nd Stage, Banashankari, ...                  Jalsa   \n",
       "1  2nd Floor, 80 Feet Road, Near Big Bazaar, 6th ...         Spice Elephant   \n",
       "2  1112, Next to KIMS Medical College, 17th Cross...        San Churro Cafe   \n",
       "3  1st Floor, Annakuteera, 3rd Stage, Banashankar...  Addhuri Udupi Bhojana   \n",
       "4  10, 3rd Floor, Lakshmi Associates, Gandhi Baza...          Grand Village   \n",
       "\n",
       "  online_order book_table   rate  votes                             phone  \\\n",
       "0          Yes        Yes  4.1/5    775    080 42297555\\r\\n+91 9743772233   \n",
       "1          Yes         No  4.1/5    787                      080 41714161   \n",
       "2          Yes         No  3.8/5    918                    +91 9663487993   \n",
       "3           No         No  3.7/5     88                    +91 9620009302   \n",
       "4           No         No  3.8/5    166  +91 8026612447\\r\\n+91 9901210005   \n",
       "\n",
       "       location            rest_type  \\\n",
       "0  Banashankari        Casual Dining   \n",
       "1  Banashankari        Casual Dining   \n",
       "2  Banashankari  Cafe, Casual Dining   \n",
       "3  Banashankari          Quick Bites   \n",
       "4  Basavanagudi        Casual Dining   \n",
       "\n",
       "                                          dish_liked  \\\n",
       "0  Pasta, Lunch Buffet, Masala Papad, Paneer Laja...   \n",
       "1  Momos, Lunch Buffet, Chocolate Nirvana, Thai G...   \n",
       "2  Churros, Cannelloni, Minestrone Soup, Hot Choc...   \n",
       "3                                        Masala Dosa   \n",
       "4                                Panipuri, Gol Gappe   \n",
       "\n",
       "                         cuisines approx_cost(for two people)  \\\n",
       "0  North Indian, Mughlai, Chinese                         800   \n",
       "1     Chinese, North Indian, Thai                         800   \n",
       "2          Cafe, Mexican, Italian                         800   \n",
       "3      South Indian, North Indian                         300   \n",
       "4        North Indian, Rajasthani                         600   \n",
       "\n",
       "                                        reviews_list menu_item  \\\n",
       "0  [('Rated 4.0', 'RATED\\n  A beautiful place to ...        []   \n",
       "1  [('Rated 4.0', 'RATED\\n  Had been here for din...        []   \n",
       "2  [('Rated 3.0', \"RATED\\n  Ambience is not that ...        []   \n",
       "3  [('Rated 4.0', \"RATED\\n  Great food and proper...        []   \n",
       "4  [('Rated 4.0', 'RATED\\n  Very good restaurant ...        []   \n",
       "\n",
       "  listed_in(type) listed_in(city)  \n",
       "0          Buffet    Banashankari  \n",
       "1          Buffet    Banashankari  \n",
       "2          Buffet    Banashankari  \n",
       "3          Buffet    Banashankari  \n",
       "4          Buffet    Banashankari  "
      ]
     },
     "execution_count": 4,
     "metadata": {},
     "output_type": "execute_result"
    }
   ],
   "source": [
    "data.head()"
   ]
  },
  {
   "cell_type": "code",
   "execution_count": 5,
   "metadata": {
    "colab": {
     "base_uri": "https://localhost:8080/"
    },
    "id": "UKqwI33Qv19m",
    "outputId": "20024856-2d47-44a5-8bf7-d2ac30ce0ff1"
   },
   "outputs": [
    {
     "data": {
      "text/plain": [
       "(51717, 17)"
      ]
     },
     "execution_count": 5,
     "metadata": {},
     "output_type": "execute_result"
    }
   ],
   "source": [
    "data.shape"
   ]
  },
  {
   "cell_type": "code",
   "execution_count": 6,
   "metadata": {},
   "outputs": [
    {
     "data": {
      "text/plain": [
       "7"
      ]
     },
     "execution_count": 6,
     "metadata": {},
     "output_type": "execute_result"
    }
   ],
   "source": [
    "len(data['listed_in(type)'].unique())"
   ]
  },
  {
   "cell_type": "markdown",
   "metadata": {
    "id": "ZrK_Z5GkMhux"
   },
   "source": [
    "## Первичная обработка данных"
   ]
  },
  {
   "cell_type": "markdown",
   "metadata": {
    "id": "y6nNB0zSNkOv"
   },
   "source": [
    "Оставим в исходной выборке лишь некоторые признаки:"
   ]
  },
  {
   "cell_type": "code",
   "execution_count": 7,
   "metadata": {
    "id": "KJwueTTANm0z"
   },
   "outputs": [],
   "source": [
    "data.drop(['url', 'address', 'name', 'votes', 'phone', 'reviews_list', 'dish_liked'], inplace=True, axis=1)"
   ]
  },
  {
   "cell_type": "code",
   "execution_count": 8,
   "metadata": {
    "colab": {
     "base_uri": "https://localhost:8080/"
    },
    "id": "UZ-dOp51N2Yj",
    "outputId": "92d18f20-2625-44ec-eb30-3f4f4917f2c1"
   },
   "outputs": [
    {
     "name": "stdout",
     "output_type": "stream",
     "text": [
      "<class 'pandas.core.frame.DataFrame'>\n",
      "RangeIndex: 51717 entries, 0 to 51716\n",
      "Data columns (total 10 columns):\n",
      " #   Column                       Non-Null Count  Dtype \n",
      "---  ------                       --------------  ----- \n",
      " 0   online_order                 51717 non-null  object\n",
      " 1   book_table                   51717 non-null  object\n",
      " 2   rate                         43942 non-null  object\n",
      " 3   location                     51696 non-null  object\n",
      " 4   rest_type                    51490 non-null  object\n",
      " 5   cuisines                     51672 non-null  object\n",
      " 6   approx_cost(for two people)  51371 non-null  object\n",
      " 7   menu_item                    51717 non-null  object\n",
      " 8   listed_in(type)              51717 non-null  object\n",
      " 9   listed_in(city)              51717 non-null  object\n",
      "dtypes: object(10)\n",
      "memory usage: 3.9+ MB\n"
     ]
    }
   ],
   "source": [
    "data.info()"
   ]
  },
  {
   "cell_type": "markdown",
   "metadata": {
    "id": "M_eCzUMzUu2N"
   },
   "source": [
    "Удалим пропуски:"
   ]
  },
  {
   "cell_type": "code",
   "execution_count": 9,
   "metadata": {
    "colab": {
     "base_uri": "https://localhost:8080/"
    },
    "id": "3y_U2TNGUey_",
    "outputId": "2fe3456c-909d-458e-d013-85bb3ce36501"
   },
   "outputs": [
    {
     "name": "stdout",
     "output_type": "stream",
     "text": [
      "rate : 7775\n",
      "location : 21\n",
      "rest_type : 227\n",
      "cuisines : 45\n",
      "approx_cost(for two people) : 346\n"
     ]
    }
   ],
   "source": [
    "for column in data.columns:\n",
    "  if (data[column].isnull().sum() != 0):\n",
    "    print(column,':',data[column].isnull().sum())"
   ]
  },
  {
   "cell_type": "code",
   "execution_count": 10,
   "metadata": {
    "id": "4sraSVI_c2v_"
   },
   "outputs": [],
   "source": [
    "data = data.dropna()"
   ]
  },
  {
   "cell_type": "code",
   "execution_count": 11,
   "metadata": {
    "id": "C1Or48cedF-R"
   },
   "outputs": [
    {
     "data": {
      "text/plain": [
       "online_order                   0\n",
       "book_table                     0\n",
       "rate                           0\n",
       "location                       0\n",
       "rest_type                      0\n",
       "cuisines                       0\n",
       "approx_cost(for two people)    0\n",
       "menu_item                      0\n",
       "listed_in(type)                0\n",
       "listed_in(city)                0\n",
       "dtype: int64"
      ]
     },
     "execution_count": 11,
     "metadata": {},
     "output_type": "execute_result"
    }
   ],
   "source": [
    "data.isnull().sum()"
   ]
  },
  {
   "cell_type": "code",
   "execution_count": 12,
   "metadata": {},
   "outputs": [
    {
     "data": {
      "text/plain": [
       "(43533, 10)"
      ]
     },
     "execution_count": 12,
     "metadata": {},
     "output_type": "execute_result"
    }
   ],
   "source": [
    "data.shape"
   ]
  },
  {
   "cell_type": "markdown",
   "metadata": {},
   "source": [
    "### Обработка строкового представления числа"
   ]
  },
  {
   "cell_type": "code",
   "execution_count": 13,
   "metadata": {},
   "outputs": [],
   "source": [
    "import re\n",
    "\n",
    "rate_p = '[\\d]+([.,][\\d]+)?'\n",
    "def parse_rate(s):\n",
    "    if isinstance(s, str) and re.search(rate_p, s) is not None:\n",
    "        for catch in re.finditer(rate_p, s):\n",
    "            return int(float(catch[0].replace(',', '.')) * 10)\n",
    "    else:\n",
    "        return None\n",
    "      \n",
    "\n",
    "coast_p = '[\\d]+([.,][\\d]+)?'\n",
    "def parse_coast(s):\n",
    "    if isinstance(s, str) and re.search(coast_p, s) is not None:\n",
    "        for catch in re.finditer(coast_p, s):\n",
    "            return int(catch[0].replace(',', ''))\n",
    "    else:\n",
    "        return None\n",
    "\n",
    "data['rate'] = data['rate'].apply(parse_rate)\n",
    "data['approx_cost(for two people)'] = data['approx_cost(for two people)'].apply(parse_coast)\n",
    "\n",
    "# Если остались наны\n",
    "data = data.dropna()\n",
    "\n",
    "data['rate'] = data['rate'].astype('int64')\n",
    "data['approx_cost(for two people)'] = data['approx_cost(for two people)'].astype('int64')\n",
    "\n",
    "data['menu_item'] = data['menu_item'].apply(lambda x: len(x)).astype('int64')"
   ]
  },
  {
   "cell_type": "markdown",
   "metadata": {
    "id": "fRXoVog4OZTf"
   },
   "source": [
    "Закодируем признаки:"
   ]
  },
  {
   "cell_type": "markdown",
   "metadata": {
    "id": "ghkBwNANRMmr"
   },
   "source": [
    "LabelEncoder"
   ]
  },
  {
   "cell_type": "code",
   "execution_count": 14,
   "metadata": {
    "id": "d_DT58vtOpn4"
   },
   "outputs": [],
   "source": [
    "from sklearn.preprocessing import LabelEncoder"
   ]
  },
  {
   "cell_type": "code",
   "execution_count": 15,
   "metadata": {
    "id": "H92CULBjOx9N"
   },
   "outputs": [],
   "source": [
    "letype = LabelEncoder()\n",
    "learrtype = letype.fit_transform(data[\"listed_in(type)\"])\n",
    "data[\"listed_in(type)\"] = learrtype\n",
    "data = data.astype({\"listed_in(type)\":\"int64\"})"
   ]
  },
  {
   "cell_type": "code",
   "execution_count": 16,
   "metadata": {
    "id": "egOEowpoQFY7"
   },
   "outputs": [],
   "source": [
    "leeng = LabelEncoder()\n",
    "learren = leeng.fit_transform(data[\"rest_type\"])\n",
    "data[\"rest_type\"] = learren\n",
    "data = data.astype({\"rest_type\":\"int64\"})"
   ]
  },
  {
   "cell_type": "code",
   "execution_count": 17,
   "metadata": {
    "id": "TLl3We0VRdKk"
   },
   "outputs": [],
   "source": [
    "lecuisines = LabelEncoder()\n",
    "learrm = lecuisines.fit_transform(data[\"cuisines\"])\n",
    "data[\"cuisines\"] = learrm\n",
    "data = data.astype({\"cuisines\":\"int64\"})"
   ]
  },
  {
   "cell_type": "code",
   "execution_count": 18,
   "metadata": {},
   "outputs": [],
   "source": [
    "lelocation = LabelEncoder()\n",
    "learrm = lelocation.fit_transform(data[\"location\"])\n",
    "data[\"location\"] = learrm\n",
    "data = data.astype({\"location\":\"int64\"})"
   ]
  },
  {
   "cell_type": "code",
   "execution_count": 19,
   "metadata": {},
   "outputs": [],
   "source": [
    "lelc = LabelEncoder()\n",
    "learrm = lelc.fit_transform(data[\"listed_in(city)\"])\n",
    "data[\"listed_in(city)\"] = learrm\n",
    "data = data.astype({\"listed_in(city)\":\"int64\"})"
   ]
  },
  {
   "cell_type": "markdown",
   "metadata": {
    "id": "mq68UNcVRQJi"
   },
   "source": [
    "## CountEncoder"
   ]
  },
  {
   "cell_type": "code",
   "execution_count": 20,
   "metadata": {
    "colab": {
     "base_uri": "https://localhost:8080/"
    },
    "id": "W66WS2CoPJ2K",
    "outputId": "977832c6-1197-43f8-86c8-ee7f5828f76b"
   },
   "outputs": [],
   "source": [
    "# !pip install category_encoders"
   ]
  },
  {
   "cell_type": "code",
   "execution_count": 21,
   "metadata": {
    "id": "7HLcggubPIvC"
   },
   "outputs": [],
   "source": [
    "from category_encoders.count import CountEncoder as ce_CountEncoder"
   ]
  },
  {
   "cell_type": "code",
   "execution_count": 22,
   "metadata": {
    "id": "ysceYfjSPklJ"
   },
   "outputs": [],
   "source": [
    "ce_CountEncoder1 = ce_CountEncoder()\n",
    "data[\"online_order\"] = ce_CountEncoder1.fit_transform(data['online_order'])"
   ]
  },
  {
   "cell_type": "markdown",
   "metadata": {
    "id": "AmoWMZhMRSYu"
   },
   "source": [
    "### FrequencyEncoder"
   ]
  },
  {
   "cell_type": "code",
   "execution_count": 23,
   "metadata": {
    "id": "oNlPPDDlQ5-Q"
   },
   "outputs": [],
   "source": [
    "ce_CountEncoder3 = ce_CountEncoder(normalize=True)\n",
    "data[\"book_table\"] = ce_CountEncoder3.fit_transform(data['book_table'])"
   ]
  },
  {
   "cell_type": "code",
   "execution_count": 24,
   "metadata": {
    "colab": {
     "base_uri": "https://localhost:8080/",
     "height": 206
    },
    "id": "yT1u3qLBQQ_5",
    "outputId": "c84adae9-65a7-4729-bd67-9e0b7d29293e"
   },
   "outputs": [
    {
     "data": {
      "text/html": [
       "<div>\n",
       "<style scoped>\n",
       "    .dataframe tbody tr th:only-of-type {\n",
       "        vertical-align: middle;\n",
       "    }\n",
       "\n",
       "    .dataframe tbody tr th {\n",
       "        vertical-align: top;\n",
       "    }\n",
       "\n",
       "    .dataframe thead th {\n",
       "        text-align: right;\n",
       "    }\n",
       "</style>\n",
       "<table border=\"1\" class=\"dataframe\">\n",
       "  <thead>\n",
       "    <tr style=\"text-align: right;\">\n",
       "      <th></th>\n",
       "      <th>online_order</th>\n",
       "      <th>book_table</th>\n",
       "      <th>rate</th>\n",
       "      <th>location</th>\n",
       "      <th>rest_type</th>\n",
       "      <th>cuisines</th>\n",
       "      <th>approx_cost(for two people)</th>\n",
       "      <th>menu_item</th>\n",
       "      <th>listed_in(type)</th>\n",
       "      <th>listed_in(city)</th>\n",
       "    </tr>\n",
       "  </thead>\n",
       "  <tbody>\n",
       "    <tr>\n",
       "      <th>0</th>\n",
       "      <td>27102</td>\n",
       "      <td>0.152776</td>\n",
       "      <td>41</td>\n",
       "      <td>1</td>\n",
       "      <td>24</td>\n",
       "      <td>1894</td>\n",
       "      <td>800</td>\n",
       "      <td>2</td>\n",
       "      <td>0</td>\n",
       "      <td>1</td>\n",
       "    </tr>\n",
       "    <tr>\n",
       "      <th>1</th>\n",
       "      <td>27102</td>\n",
       "      <td>0.847224</td>\n",
       "      <td>41</td>\n",
       "      <td>1</td>\n",
       "      <td>24</td>\n",
       "      <td>816</td>\n",
       "      <td>800</td>\n",
       "      <td>2</td>\n",
       "      <td>0</td>\n",
       "      <td>1</td>\n",
       "    </tr>\n",
       "    <tr>\n",
       "      <th>2</th>\n",
       "      <td>27102</td>\n",
       "      <td>0.847224</td>\n",
       "      <td>38</td>\n",
       "      <td>1</td>\n",
       "      <td>19</td>\n",
       "      <td>653</td>\n",
       "      <td>800</td>\n",
       "      <td>2</td>\n",
       "      <td>0</td>\n",
       "      <td>1</td>\n",
       "    </tr>\n",
       "    <tr>\n",
       "      <th>3</th>\n",
       "      <td>14161</td>\n",
       "      <td>0.847224</td>\n",
       "      <td>37</td>\n",
       "      <td>1</td>\n",
       "      <td>73</td>\n",
       "      <td>2221</td>\n",
       "      <td>300</td>\n",
       "      <td>2</td>\n",
       "      <td>0</td>\n",
       "      <td>1</td>\n",
       "    </tr>\n",
       "    <tr>\n",
       "      <th>4</th>\n",
       "      <td>14161</td>\n",
       "      <td>0.847224</td>\n",
       "      <td>38</td>\n",
       "      <td>4</td>\n",
       "      <td>24</td>\n",
       "      <td>1921</td>\n",
       "      <td>600</td>\n",
       "      <td>2</td>\n",
       "      <td>0</td>\n",
       "      <td>1</td>\n",
       "    </tr>\n",
       "  </tbody>\n",
       "</table>\n",
       "</div>"
      ],
      "text/plain": [
       "   online_order  book_table  rate  location  rest_type  cuisines  \\\n",
       "0         27102    0.152776    41         1         24      1894   \n",
       "1         27102    0.847224    41         1         24       816   \n",
       "2         27102    0.847224    38         1         19       653   \n",
       "3         14161    0.847224    37         1         73      2221   \n",
       "4         14161    0.847224    38         4         24      1921   \n",
       "\n",
       "   approx_cost(for two people)  menu_item  listed_in(type)  listed_in(city)  \n",
       "0                          800          2                0                1  \n",
       "1                          800          2                0                1  \n",
       "2                          800          2                0                1  \n",
       "3                          300          2                0                1  \n",
       "4                          600          2                0                1  "
      ]
     },
     "execution_count": 24,
     "metadata": {},
     "output_type": "execute_result"
    }
   ],
   "source": [
    "data.head()"
   ]
  },
  {
   "cell_type": "code",
   "execution_count": 25,
   "metadata": {
    "colab": {
     "base_uri": "https://localhost:8080/"
    },
    "id": "yByAzgeyPtYP",
    "outputId": "863d3eb7-2738-48fc-f30e-e8a74b024754"
   },
   "outputs": [
    {
     "name": "stdout",
     "output_type": "stream",
     "text": [
      "<class 'pandas.core.frame.DataFrame'>\n",
      "Int64Index: 41263 entries, 0 to 51716\n",
      "Data columns (total 10 columns):\n",
      " #   Column                       Non-Null Count  Dtype  \n",
      "---  ------                       --------------  -----  \n",
      " 0   online_order                 41263 non-null  int64  \n",
      " 1   book_table                   41263 non-null  float64\n",
      " 2   rate                         41263 non-null  int64  \n",
      " 3   location                     41263 non-null  int64  \n",
      " 4   rest_type                    41263 non-null  int64  \n",
      " 5   cuisines                     41263 non-null  int64  \n",
      " 6   approx_cost(for two people)  41263 non-null  int64  \n",
      " 7   menu_item                    41263 non-null  int64  \n",
      " 8   listed_in(type)              41263 non-null  int64  \n",
      " 9   listed_in(city)              41263 non-null  int64  \n",
      "dtypes: float64(1), int64(9)\n",
      "memory usage: 3.5 MB\n"
     ]
    }
   ],
   "source": [
    "data.info()"
   ]
  },
  {
   "cell_type": "code",
   "execution_count": 26,
   "metadata": {
    "colab": {
     "base_uri": "https://localhost:8080/"
    },
    "id": "vTkIxDlweDpw",
    "outputId": "6f8ff224-2af3-4a04-a2e7-6186b2ec1da0"
   },
   "outputs": [
    {
     "data": {
      "text/plain": [
       "online_order                     int64\n",
       "book_table                     float64\n",
       "rate                             int64\n",
       "location                         int64\n",
       "rest_type                        int64\n",
       "cuisines                         int64\n",
       "approx_cost(for two people)      int64\n",
       "menu_item                        int64\n",
       "listed_in(type)                  int64\n",
       "listed_in(city)                  int64\n",
       "dtype: object"
      ]
     },
     "execution_count": 26,
     "metadata": {},
     "output_type": "execute_result"
    }
   ],
   "source": [
    "data.dtypes"
   ]
  },
  {
   "cell_type": "markdown",
   "metadata": {
    "id": "95Lrnyk8WBZj"
   },
   "source": [
    "## Разделение выборки"
   ]
  },
  {
   "cell_type": "code",
   "execution_count": 27,
   "metadata": {
    "colab": {
     "base_uri": "https://localhost:8080/",
     "height": 300
    },
    "id": "DNhwgtGo_T-W",
    "outputId": "3bb34e27-aaa6-4019-ee44-b371170727bf"
   },
   "outputs": [
    {
     "data": {
      "text/html": [
       "<div>\n",
       "<style scoped>\n",
       "    .dataframe tbody tr th:only-of-type {\n",
       "        vertical-align: middle;\n",
       "    }\n",
       "\n",
       "    .dataframe tbody tr th {\n",
       "        vertical-align: top;\n",
       "    }\n",
       "\n",
       "    .dataframe thead th {\n",
       "        text-align: right;\n",
       "    }\n",
       "</style>\n",
       "<table border=\"1\" class=\"dataframe\">\n",
       "  <thead>\n",
       "    <tr style=\"text-align: right;\">\n",
       "      <th></th>\n",
       "      <th>online_order</th>\n",
       "      <th>book_table</th>\n",
       "      <th>rate</th>\n",
       "      <th>location</th>\n",
       "      <th>rest_type</th>\n",
       "      <th>cuisines</th>\n",
       "      <th>approx_cost(for two people)</th>\n",
       "      <th>menu_item</th>\n",
       "      <th>listed_in(type)</th>\n",
       "      <th>listed_in(city)</th>\n",
       "    </tr>\n",
       "  </thead>\n",
       "  <tbody>\n",
       "    <tr>\n",
       "      <th>count</th>\n",
       "      <td>41263.000000</td>\n",
       "      <td>41263.000000</td>\n",
       "      <td>41263.000000</td>\n",
       "      <td>41263.000000</td>\n",
       "      <td>41263.000000</td>\n",
       "      <td>41263.000000</td>\n",
       "      <td>41263.000000</td>\n",
       "      <td>41263.000000</td>\n",
       "      <td>41263.000000</td>\n",
       "      <td>41263.000000</td>\n",
       "    </tr>\n",
       "    <tr>\n",
       "      <th>mean</th>\n",
       "      <td>22660.793568</td>\n",
       "      <td>0.741129</td>\n",
       "      <td>37.020115</td>\n",
       "      <td>35.715096</td>\n",
       "      <td>45.289727</td>\n",
       "      <td>1208.839129</td>\n",
       "      <td>603.914063</td>\n",
       "      <td>668.438213</td>\n",
       "      <td>2.806946</td>\n",
       "      <td>14.254538</td>\n",
       "    </tr>\n",
       "    <tr>\n",
       "      <th>std</th>\n",
       "      <td>6144.123431</td>\n",
       "      <td>0.249846</td>\n",
       "      <td>4.399848</td>\n",
       "      <td>26.406399</td>\n",
       "      <td>26.085202</td>\n",
       "      <td>670.720623</td>\n",
       "      <td>464.942973</td>\n",
       "      <td>1467.678594</td>\n",
       "      <td>1.170420</td>\n",
       "      <td>8.277449</td>\n",
       "    </tr>\n",
       "    <tr>\n",
       "      <th>min</th>\n",
       "      <td>14161.000000</td>\n",
       "      <td>0.152776</td>\n",
       "      <td>18.000000</td>\n",
       "      <td>0.000000</td>\n",
       "      <td>0.000000</td>\n",
       "      <td>0.000000</td>\n",
       "      <td>40.000000</td>\n",
       "      <td>2.000000</td>\n",
       "      <td>0.000000</td>\n",
       "      <td>0.000000</td>\n",
       "    </tr>\n",
       "    <tr>\n",
       "      <th>25%</th>\n",
       "      <td>14161.000000</td>\n",
       "      <td>0.847224</td>\n",
       "      <td>34.000000</td>\n",
       "      <td>12.000000</td>\n",
       "      <td>24.000000</td>\n",
       "      <td>590.000000</td>\n",
       "      <td>300.000000</td>\n",
       "      <td>2.000000</td>\n",
       "      <td>2.000000</td>\n",
       "      <td>7.000000</td>\n",
       "    </tr>\n",
       "    <tr>\n",
       "      <th>50%</th>\n",
       "      <td>27102.000000</td>\n",
       "      <td>0.847224</td>\n",
       "      <td>37.000000</td>\n",
       "      <td>31.000000</td>\n",
       "      <td>37.000000</td>\n",
       "      <td>1255.000000</td>\n",
       "      <td>500.000000</td>\n",
       "      <td>2.000000</td>\n",
       "      <td>2.000000</td>\n",
       "      <td>15.000000</td>\n",
       "    </tr>\n",
       "    <tr>\n",
       "      <th>75%</th>\n",
       "      <td>27102.000000</td>\n",
       "      <td>0.847224</td>\n",
       "      <td>40.000000</td>\n",
       "      <td>54.000000</td>\n",
       "      <td>73.000000</td>\n",
       "      <td>1700.000000</td>\n",
       "      <td>750.000000</td>\n",
       "      <td>409.000000</td>\n",
       "      <td>4.000000</td>\n",
       "      <td>20.000000</td>\n",
       "    </tr>\n",
       "    <tr>\n",
       "      <th>max</th>\n",
       "      <td>27102.000000</td>\n",
       "      <td>0.847224</td>\n",
       "      <td>49.000000</td>\n",
       "      <td>91.000000</td>\n",
       "      <td>86.000000</td>\n",
       "      <td>2366.000000</td>\n",
       "      <td>6000.000000</td>\n",
       "      <td>24832.000000</td>\n",
       "      <td>6.000000</td>\n",
       "      <td>29.000000</td>\n",
       "    </tr>\n",
       "  </tbody>\n",
       "</table>\n",
       "</div>"
      ],
      "text/plain": [
       "       online_order    book_table          rate      location     rest_type  \\\n",
       "count  41263.000000  41263.000000  41263.000000  41263.000000  41263.000000   \n",
       "mean   22660.793568      0.741129     37.020115     35.715096     45.289727   \n",
       "std     6144.123431      0.249846      4.399848     26.406399     26.085202   \n",
       "min    14161.000000      0.152776     18.000000      0.000000      0.000000   \n",
       "25%    14161.000000      0.847224     34.000000     12.000000     24.000000   \n",
       "50%    27102.000000      0.847224     37.000000     31.000000     37.000000   \n",
       "75%    27102.000000      0.847224     40.000000     54.000000     73.000000   \n",
       "max    27102.000000      0.847224     49.000000     91.000000     86.000000   \n",
       "\n",
       "           cuisines  approx_cost(for two people)     menu_item  \\\n",
       "count  41263.000000                 41263.000000  41263.000000   \n",
       "mean    1208.839129                   603.914063    668.438213   \n",
       "std      670.720623                   464.942973   1467.678594   \n",
       "min        0.000000                    40.000000      2.000000   \n",
       "25%      590.000000                   300.000000      2.000000   \n",
       "50%     1255.000000                   500.000000      2.000000   \n",
       "75%     1700.000000                   750.000000    409.000000   \n",
       "max     2366.000000                  6000.000000  24832.000000   \n",
       "\n",
       "       listed_in(type)  listed_in(city)  \n",
       "count     41263.000000     41263.000000  \n",
       "mean          2.806946        14.254538  \n",
       "std           1.170420         8.277449  \n",
       "min           0.000000         0.000000  \n",
       "25%           2.000000         7.000000  \n",
       "50%           2.000000        15.000000  \n",
       "75%           4.000000        20.000000  \n",
       "max           6.000000        29.000000  "
      ]
     },
     "execution_count": 27,
     "metadata": {},
     "output_type": "execute_result"
    }
   ],
   "source": [
    "data.describe()"
   ]
  },
  {
   "cell_type": "markdown",
   "metadata": {
    "id": "UDwmbNeaMWbn"
   },
   "source": [
    "В качестве целевого признака возьмем признак `rate`."
   ]
  },
  {
   "cell_type": "code",
   "execution_count": 28,
   "metadata": {
    "id": "pbflbhaCMboy"
   },
   "outputs": [],
   "source": [
    "# DataFrame не содержащий целевой признак\n",
    "Y = data['rate']\n",
    "X_ALL = data.drop('rate', axis=1)"
   ]
  },
  {
   "cell_type": "code",
   "execution_count": 29,
   "metadata": {
    "colab": {
     "base_uri": "https://localhost:8080/",
     "height": 423
    },
    "id": "WAlB8uD1oc_v",
    "outputId": "120f77b8-1e69-4f1d-bcae-34b19a4f549f"
   },
   "outputs": [
    {
     "data": {
      "text/html": [
       "<div>\n",
       "<style scoped>\n",
       "    .dataframe tbody tr th:only-of-type {\n",
       "        vertical-align: middle;\n",
       "    }\n",
       "\n",
       "    .dataframe tbody tr th {\n",
       "        vertical-align: top;\n",
       "    }\n",
       "\n",
       "    .dataframe thead th {\n",
       "        text-align: right;\n",
       "    }\n",
       "</style>\n",
       "<table border=\"1\" class=\"dataframe\">\n",
       "  <thead>\n",
       "    <tr style=\"text-align: right;\">\n",
       "      <th></th>\n",
       "      <th>online_order</th>\n",
       "      <th>book_table</th>\n",
       "      <th>location</th>\n",
       "      <th>rest_type</th>\n",
       "      <th>cuisines</th>\n",
       "      <th>approx_cost(for two people)</th>\n",
       "      <th>menu_item</th>\n",
       "      <th>listed_in(type)</th>\n",
       "      <th>listed_in(city)</th>\n",
       "    </tr>\n",
       "  </thead>\n",
       "  <tbody>\n",
       "    <tr>\n",
       "      <th>0</th>\n",
       "      <td>27102</td>\n",
       "      <td>0.152776</td>\n",
       "      <td>1</td>\n",
       "      <td>24</td>\n",
       "      <td>1894</td>\n",
       "      <td>800</td>\n",
       "      <td>2</td>\n",
       "      <td>0</td>\n",
       "      <td>1</td>\n",
       "    </tr>\n",
       "    <tr>\n",
       "      <th>1</th>\n",
       "      <td>27102</td>\n",
       "      <td>0.847224</td>\n",
       "      <td>1</td>\n",
       "      <td>24</td>\n",
       "      <td>816</td>\n",
       "      <td>800</td>\n",
       "      <td>2</td>\n",
       "      <td>0</td>\n",
       "      <td>1</td>\n",
       "    </tr>\n",
       "    <tr>\n",
       "      <th>2</th>\n",
       "      <td>27102</td>\n",
       "      <td>0.847224</td>\n",
       "      <td>1</td>\n",
       "      <td>19</td>\n",
       "      <td>653</td>\n",
       "      <td>800</td>\n",
       "      <td>2</td>\n",
       "      <td>0</td>\n",
       "      <td>1</td>\n",
       "    </tr>\n",
       "    <tr>\n",
       "      <th>3</th>\n",
       "      <td>14161</td>\n",
       "      <td>0.847224</td>\n",
       "      <td>1</td>\n",
       "      <td>73</td>\n",
       "      <td>2221</td>\n",
       "      <td>300</td>\n",
       "      <td>2</td>\n",
       "      <td>0</td>\n",
       "      <td>1</td>\n",
       "    </tr>\n",
       "    <tr>\n",
       "      <th>4</th>\n",
       "      <td>14161</td>\n",
       "      <td>0.847224</td>\n",
       "      <td>4</td>\n",
       "      <td>24</td>\n",
       "      <td>1921</td>\n",
       "      <td>600</td>\n",
       "      <td>2</td>\n",
       "      <td>0</td>\n",
       "      <td>1</td>\n",
       "    </tr>\n",
       "    <tr>\n",
       "      <th>...</th>\n",
       "      <td>...</td>\n",
       "      <td>...</td>\n",
       "      <td>...</td>\n",
       "      <td>...</td>\n",
       "      <td>...</td>\n",
       "      <td>...</td>\n",
       "      <td>...</td>\n",
       "      <td>...</td>\n",
       "      <td>...</td>\n",
       "    </tr>\n",
       "    <tr>\n",
       "      <th>51709</th>\n",
       "      <td>14161</td>\n",
       "      <td>0.847224</td>\n",
       "      <td>88</td>\n",
       "      <td>25</td>\n",
       "      <td>1785</td>\n",
       "      <td>800</td>\n",
       "      <td>2</td>\n",
       "      <td>6</td>\n",
       "      <td>29</td>\n",
       "    </tr>\n",
       "    <tr>\n",
       "      <th>51711</th>\n",
       "      <td>14161</td>\n",
       "      <td>0.847224</td>\n",
       "      <td>88</td>\n",
       "      <td>25</td>\n",
       "      <td>101</td>\n",
       "      <td>800</td>\n",
       "      <td>2</td>\n",
       "      <td>6</td>\n",
       "      <td>29</td>\n",
       "    </tr>\n",
       "    <tr>\n",
       "      <th>51712</th>\n",
       "      <td>14161</td>\n",
       "      <td>0.847224</td>\n",
       "      <td>88</td>\n",
       "      <td>6</td>\n",
       "      <td>866</td>\n",
       "      <td>1500</td>\n",
       "      <td>2</td>\n",
       "      <td>6</td>\n",
       "      <td>29</td>\n",
       "    </tr>\n",
       "    <tr>\n",
       "      <th>51715</th>\n",
       "      <td>14161</td>\n",
       "      <td>0.152776</td>\n",
       "      <td>26</td>\n",
       "      <td>6</td>\n",
       "      <td>1207</td>\n",
       "      <td>2500</td>\n",
       "      <td>2</td>\n",
       "      <td>6</td>\n",
       "      <td>29</td>\n",
       "    </tr>\n",
       "    <tr>\n",
       "      <th>51716</th>\n",
       "      <td>14161</td>\n",
       "      <td>0.847224</td>\n",
       "      <td>26</td>\n",
       "      <td>7</td>\n",
       "      <td>1231</td>\n",
       "      <td>1500</td>\n",
       "      <td>2</td>\n",
       "      <td>6</td>\n",
       "      <td>29</td>\n",
       "    </tr>\n",
       "  </tbody>\n",
       "</table>\n",
       "<p>41263 rows × 9 columns</p>\n",
       "</div>"
      ],
      "text/plain": [
       "       online_order  book_table  location  rest_type  cuisines  \\\n",
       "0             27102    0.152776         1         24      1894   \n",
       "1             27102    0.847224         1         24       816   \n",
       "2             27102    0.847224         1         19       653   \n",
       "3             14161    0.847224         1         73      2221   \n",
       "4             14161    0.847224         4         24      1921   \n",
       "...             ...         ...       ...        ...       ...   \n",
       "51709         14161    0.847224        88         25      1785   \n",
       "51711         14161    0.847224        88         25       101   \n",
       "51712         14161    0.847224        88          6       866   \n",
       "51715         14161    0.152776        26          6      1207   \n",
       "51716         14161    0.847224        26          7      1231   \n",
       "\n",
       "       approx_cost(for two people)  menu_item  listed_in(type)  \\\n",
       "0                              800          2                0   \n",
       "1                              800          2                0   \n",
       "2                              800          2                0   \n",
       "3                              300          2                0   \n",
       "4                              600          2                0   \n",
       "...                            ...        ...              ...   \n",
       "51709                          800          2                6   \n",
       "51711                          800          2                6   \n",
       "51712                         1500          2                6   \n",
       "51715                         2500          2                6   \n",
       "51716                         1500          2                6   \n",
       "\n",
       "       listed_in(city)  \n",
       "0                    1  \n",
       "1                    1  \n",
       "2                    1  \n",
       "3                    1  \n",
       "4                    1  \n",
       "...                ...  \n",
       "51709               29  \n",
       "51711               29  \n",
       "51712               29  \n",
       "51715               29  \n",
       "51716               29  \n",
       "\n",
       "[41263 rows x 9 columns]"
      ]
     },
     "execution_count": 29,
     "metadata": {},
     "output_type": "execute_result"
    }
   ],
   "source": [
    "X_ALL"
   ]
  },
  {
   "cell_type": "code",
   "execution_count": 30,
   "metadata": {
    "colab": {
     "base_uri": "https://localhost:8080/"
    },
    "id": "CcE91Kueof11",
    "outputId": "fcb3fc08-e626-4cea-d671-9efec7df73e2"
   },
   "outputs": [
    {
     "data": {
      "text/plain": [
       "0        41\n",
       "1        41\n",
       "2        38\n",
       "3        37\n",
       "4        38\n",
       "         ..\n",
       "51709    37\n",
       "51711    25\n",
       "51712    36\n",
       "51715    43\n",
       "51716    34\n",
       "Name: rate, Length: 41263, dtype: int64"
      ]
     },
     "execution_count": 30,
     "metadata": {},
     "output_type": "execute_result"
    }
   ],
   "source": [
    "Y"
   ]
  },
  {
   "cell_type": "code",
   "execution_count": 31,
   "metadata": {
    "id": "ooz0cFgyMkT7"
   },
   "outputs": [],
   "source": [
    "# Функция для восстановления датафрейма\n",
    "# на основе масштабированных данных\n",
    "def arr_to_df(arr_scaled):\n",
    "    res = pd.DataFrame(arr_scaled, columns=X_ALL.columns)\n",
    "    return res"
   ]
  },
  {
   "cell_type": "code",
   "execution_count": 32,
   "metadata": {
    "colab": {
     "base_uri": "https://localhost:8080/"
    },
    "id": "GOMSyjRQMmOm",
    "outputId": "2b17563c-a367-4e4a-af46-76f2eebdf3fc"
   },
   "outputs": [
    {
     "data": {
      "text/plain": [
       "((33010, 9), (8253, 9))"
      ]
     },
     "execution_count": 32,
     "metadata": {},
     "output_type": "execute_result"
    }
   ],
   "source": [
    "# Разделим выборку на обучающую и тестовую\n",
    "X_train, X_test, y_train, y_test = train_test_split(X_ALL, data['rate'],\n",
    "                                                    test_size=0.2,\n",
    "                                                    random_state=1)\n",
    "# Преобразуем массивы в DataFrame\n",
    "X_train_df = arr_to_df(X_train)\n",
    "X_test_df = arr_to_df(X_test)\n",
    "\n",
    "X_train_df.shape, X_test_df.shape"
   ]
  },
  {
   "cell_type": "markdown",
   "metadata": {
    "id": "JK5qjivqv20a"
   },
   "source": [
    "## Масштабирование признаков"
   ]
  },
  {
   "cell_type": "markdown",
   "metadata": {
    "id": "c7NNk5Y1_MAP"
   },
   "source": [
    "### Масштабирование на основе Z-оценки"
   ]
  },
  {
   "cell_type": "code",
   "execution_count": 33,
   "metadata": {
    "id": "lwh7z2FpVmSY"
   },
   "outputs": [],
   "source": [
    "x_col_list = ['approx_cost(for two people)', 'cuisines', 'rest_type']"
   ]
  },
  {
   "cell_type": "code",
   "execution_count": 34,
   "metadata": {
    "colab": {
     "base_uri": "https://localhost:8080/",
     "height": 423
    },
    "id": "cfufzp5LNIEX",
    "outputId": "694a3487-28bc-4780-ec70-d2cc05d79eba"
   },
   "outputs": [
    {
     "data": {
      "text/html": [
       "<div>\n",
       "<style scoped>\n",
       "    .dataframe tbody tr th:only-of-type {\n",
       "        vertical-align: middle;\n",
       "    }\n",
       "\n",
       "    .dataframe tbody tr th {\n",
       "        vertical-align: top;\n",
       "    }\n",
       "\n",
       "    .dataframe thead th {\n",
       "        text-align: right;\n",
       "    }\n",
       "</style>\n",
       "<table border=\"1\" class=\"dataframe\">\n",
       "  <thead>\n",
       "    <tr style=\"text-align: right;\">\n",
       "      <th></th>\n",
       "      <th>online_order</th>\n",
       "      <th>book_table</th>\n",
       "      <th>location</th>\n",
       "      <th>rest_type</th>\n",
       "      <th>cuisines</th>\n",
       "      <th>approx_cost(for two people)</th>\n",
       "      <th>menu_item</th>\n",
       "      <th>listed_in(type)</th>\n",
       "      <th>listed_in(city)</th>\n",
       "    </tr>\n",
       "  </thead>\n",
       "  <tbody>\n",
       "    <tr>\n",
       "      <th>0</th>\n",
       "      <td>0.722847</td>\n",
       "      <td>-2.354894</td>\n",
       "      <td>-1.314663</td>\n",
       "      <td>-0.816171</td>\n",
       "      <td>1.021542</td>\n",
       "      <td>0.421747</td>\n",
       "      <td>-0.454082</td>\n",
       "      <td>-2.398267</td>\n",
       "      <td>-1.601302</td>\n",
       "    </tr>\n",
       "    <tr>\n",
       "      <th>1</th>\n",
       "      <td>0.722847</td>\n",
       "      <td>0.424648</td>\n",
       "      <td>-1.314663</td>\n",
       "      <td>-0.816171</td>\n",
       "      <td>-0.585704</td>\n",
       "      <td>0.421747</td>\n",
       "      <td>-0.454082</td>\n",
       "      <td>-2.398267</td>\n",
       "      <td>-1.601302</td>\n",
       "    </tr>\n",
       "    <tr>\n",
       "      <th>2</th>\n",
       "      <td>0.722847</td>\n",
       "      <td>0.424648</td>\n",
       "      <td>-1.314663</td>\n",
       "      <td>-1.007853</td>\n",
       "      <td>-0.828729</td>\n",
       "      <td>0.421747</td>\n",
       "      <td>-0.454082</td>\n",
       "      <td>-2.398267</td>\n",
       "      <td>-1.601302</td>\n",
       "    </tr>\n",
       "    <tr>\n",
       "      <th>3</th>\n",
       "      <td>-1.383419</td>\n",
       "      <td>0.424648</td>\n",
       "      <td>-1.314663</td>\n",
       "      <td>1.062311</td>\n",
       "      <td>1.509083</td>\n",
       "      <td>-0.653667</td>\n",
       "      <td>-0.454082</td>\n",
       "      <td>-2.398267</td>\n",
       "      <td>-1.601302</td>\n",
       "    </tr>\n",
       "    <tr>\n",
       "      <th>4</th>\n",
       "      <td>-1.383419</td>\n",
       "      <td>0.424648</td>\n",
       "      <td>-1.201053</td>\n",
       "      <td>-0.816171</td>\n",
       "      <td>1.061798</td>\n",
       "      <td>-0.008418</td>\n",
       "      <td>-0.454082</td>\n",
       "      <td>-2.398267</td>\n",
       "      <td>-1.601302</td>\n",
       "    </tr>\n",
       "    <tr>\n",
       "      <th>...</th>\n",
       "      <td>...</td>\n",
       "      <td>...</td>\n",
       "      <td>...</td>\n",
       "      <td>...</td>\n",
       "      <td>...</td>\n",
       "      <td>...</td>\n",
       "      <td>...</td>\n",
       "      <td>...</td>\n",
       "      <td>...</td>\n",
       "    </tr>\n",
       "    <tr>\n",
       "      <th>41258</th>\n",
       "      <td>-1.383419</td>\n",
       "      <td>0.424648</td>\n",
       "      <td>1.980033</td>\n",
       "      <td>-0.777835</td>\n",
       "      <td>0.859028</td>\n",
       "      <td>0.421747</td>\n",
       "      <td>-0.454082</td>\n",
       "      <td>2.728160</td>\n",
       "      <td>1.781423</td>\n",
       "    </tr>\n",
       "    <tr>\n",
       "      <th>41259</th>\n",
       "      <td>-1.383419</td>\n",
       "      <td>0.424648</td>\n",
       "      <td>1.980033</td>\n",
       "      <td>-0.777835</td>\n",
       "      <td>-1.651735</td>\n",
       "      <td>0.421747</td>\n",
       "      <td>-0.454082</td>\n",
       "      <td>2.728160</td>\n",
       "      <td>1.781423</td>\n",
       "    </tr>\n",
       "    <tr>\n",
       "      <th>41260</th>\n",
       "      <td>-1.383419</td>\n",
       "      <td>0.424648</td>\n",
       "      <td>1.980033</td>\n",
       "      <td>-1.506226</td>\n",
       "      <td>-0.511157</td>\n",
       "      <td>1.927326</td>\n",
       "      <td>-0.454082</td>\n",
       "      <td>2.728160</td>\n",
       "      <td>1.781423</td>\n",
       "    </tr>\n",
       "    <tr>\n",
       "      <th>41261</th>\n",
       "      <td>-1.383419</td>\n",
       "      <td>-2.354894</td>\n",
       "      <td>-0.367911</td>\n",
       "      <td>-1.506226</td>\n",
       "      <td>-0.002742</td>\n",
       "      <td>4.078154</td>\n",
       "      <td>-0.454082</td>\n",
       "      <td>2.728160</td>\n",
       "      <td>1.781423</td>\n",
       "    </tr>\n",
       "    <tr>\n",
       "      <th>41262</th>\n",
       "      <td>-1.383419</td>\n",
       "      <td>0.424648</td>\n",
       "      <td>-0.367911</td>\n",
       "      <td>-1.467889</td>\n",
       "      <td>0.033041</td>\n",
       "      <td>1.927326</td>\n",
       "      <td>-0.454082</td>\n",
       "      <td>2.728160</td>\n",
       "      <td>1.781423</td>\n",
       "    </tr>\n",
       "  </tbody>\n",
       "</table>\n",
       "<p>41263 rows × 9 columns</p>\n",
       "</div>"
      ],
      "text/plain": [
       "       online_order  book_table  location  rest_type  cuisines  \\\n",
       "0          0.722847   -2.354894 -1.314663  -0.816171  1.021542   \n",
       "1          0.722847    0.424648 -1.314663  -0.816171 -0.585704   \n",
       "2          0.722847    0.424648 -1.314663  -1.007853 -0.828729   \n",
       "3         -1.383419    0.424648 -1.314663   1.062311  1.509083   \n",
       "4         -1.383419    0.424648 -1.201053  -0.816171  1.061798   \n",
       "...             ...         ...       ...        ...       ...   \n",
       "41258     -1.383419    0.424648  1.980033  -0.777835  0.859028   \n",
       "41259     -1.383419    0.424648  1.980033  -0.777835 -1.651735   \n",
       "41260     -1.383419    0.424648  1.980033  -1.506226 -0.511157   \n",
       "41261     -1.383419   -2.354894 -0.367911  -1.506226 -0.002742   \n",
       "41262     -1.383419    0.424648 -0.367911  -1.467889  0.033041   \n",
       "\n",
       "       approx_cost(for two people)  menu_item  listed_in(type)  \\\n",
       "0                         0.421747  -0.454082        -2.398267   \n",
       "1                         0.421747  -0.454082        -2.398267   \n",
       "2                         0.421747  -0.454082        -2.398267   \n",
       "3                        -0.653667  -0.454082        -2.398267   \n",
       "4                        -0.008418  -0.454082        -2.398267   \n",
       "...                            ...        ...              ...   \n",
       "41258                     0.421747  -0.454082         2.728160   \n",
       "41259                     0.421747  -0.454082         2.728160   \n",
       "41260                     1.927326  -0.454082         2.728160   \n",
       "41261                     4.078154  -0.454082         2.728160   \n",
       "41262                     1.927326  -0.454082         2.728160   \n",
       "\n",
       "       listed_in(city)  \n",
       "0            -1.601302  \n",
       "1            -1.601302  \n",
       "2            -1.601302  \n",
       "3            -1.601302  \n",
       "4            -1.601302  \n",
       "...                ...  \n",
       "41258         1.781423  \n",
       "41259         1.781423  \n",
       "41260         1.781423  \n",
       "41261         1.781423  \n",
       "41262         1.781423  \n",
       "\n",
       "[41263 rows x 9 columns]"
      ]
     },
     "execution_count": 34,
     "metadata": {},
     "output_type": "execute_result"
    }
   ],
   "source": [
    "# Обучаем StandardScaler на всей выборке и масштабируем\n",
    "cs11 = StandardScaler()\n",
    "data_cs11_scaled_temp = cs11.fit_transform(X_ALL)\n",
    "# формируем DataFrame на основе массива\n",
    "data_cs11_scaled =  arr_to_df(data_cs11_scaled_temp)\n",
    "data_cs11_scaled"
   ]
  },
  {
   "cell_type": "code",
   "execution_count": 35,
   "metadata": {
    "colab": {
     "base_uri": "https://localhost:8080/",
     "height": 300
    },
    "id": "NEc4WbD_R6f4",
    "outputId": "0e405f3b-7607-4da1-bdd4-f7203f6a9e53"
   },
   "outputs": [
    {
     "data": {
      "text/html": [
       "<div>\n",
       "<style scoped>\n",
       "    .dataframe tbody tr th:only-of-type {\n",
       "        vertical-align: middle;\n",
       "    }\n",
       "\n",
       "    .dataframe tbody tr th {\n",
       "        vertical-align: top;\n",
       "    }\n",
       "\n",
       "    .dataframe thead th {\n",
       "        text-align: right;\n",
       "    }\n",
       "</style>\n",
       "<table border=\"1\" class=\"dataframe\">\n",
       "  <thead>\n",
       "    <tr style=\"text-align: right;\">\n",
       "      <th></th>\n",
       "      <th>online_order</th>\n",
       "      <th>book_table</th>\n",
       "      <th>location</th>\n",
       "      <th>rest_type</th>\n",
       "      <th>cuisines</th>\n",
       "      <th>approx_cost(for two people)</th>\n",
       "      <th>menu_item</th>\n",
       "      <th>listed_in(type)</th>\n",
       "      <th>listed_in(city)</th>\n",
       "    </tr>\n",
       "  </thead>\n",
       "  <tbody>\n",
       "    <tr>\n",
       "      <th>count</th>\n",
       "      <td>4.126300e+04</td>\n",
       "      <td>4.126300e+04</td>\n",
       "      <td>4.126300e+04</td>\n",
       "      <td>4.126300e+04</td>\n",
       "      <td>4.126300e+04</td>\n",
       "      <td>4.126300e+04</td>\n",
       "      <td>4.126300e+04</td>\n",
       "      <td>4.126300e+04</td>\n",
       "      <td>4.126300e+04</td>\n",
       "    </tr>\n",
       "    <tr>\n",
       "      <th>mean</th>\n",
       "      <td>-7.419485e-15</td>\n",
       "      <td>-1.037194e-14</td>\n",
       "      <td>3.465485e-14</td>\n",
       "      <td>1.616906e-15</td>\n",
       "      <td>-4.776935e-16</td>\n",
       "      <td>-2.669066e-15</td>\n",
       "      <td>1.197844e-14</td>\n",
       "      <td>-6.791617e-15</td>\n",
       "      <td>7.446222e-14</td>\n",
       "    </tr>\n",
       "    <tr>\n",
       "      <th>std</th>\n",
       "      <td>1.000012e+00</td>\n",
       "      <td>1.000012e+00</td>\n",
       "      <td>1.000012e+00</td>\n",
       "      <td>1.000012e+00</td>\n",
       "      <td>1.000012e+00</td>\n",
       "      <td>1.000012e+00</td>\n",
       "      <td>1.000012e+00</td>\n",
       "      <td>1.000012e+00</td>\n",
       "      <td>1.000012e+00</td>\n",
       "    </tr>\n",
       "    <tr>\n",
       "      <th>min</th>\n",
       "      <td>-1.383419e+00</td>\n",
       "      <td>-2.354894e+00</td>\n",
       "      <td>-1.352533e+00</td>\n",
       "      <td>-1.736244e+00</td>\n",
       "      <td>-1.802321e+00</td>\n",
       "      <td>-1.212882e+00</td>\n",
       "      <td>-4.540819e-01</td>\n",
       "      <td>-2.398267e+00</td>\n",
       "      <td>-1.722114e+00</td>\n",
       "    </tr>\n",
       "    <tr>\n",
       "      <th>25%</th>\n",
       "      <td>-1.383419e+00</td>\n",
       "      <td>4.246475e-01</td>\n",
       "      <td>-8.980923e-01</td>\n",
       "      <td>-8.161710e-01</td>\n",
       "      <td>-9.226593e-01</td>\n",
       "      <td>-6.536667e-01</td>\n",
       "      <td>-4.540819e-01</td>\n",
       "      <td>-6.894579e-01</td>\n",
       "      <td>-8.764326e-01</td>\n",
       "    </tr>\n",
       "    <tr>\n",
       "      <th>50%</th>\n",
       "      <td>7.228468e-01</td>\n",
       "      <td>4.246475e-01</td>\n",
       "      <td>-1.785610e-01</td>\n",
       "      <td>-3.177981e-01</td>\n",
       "      <td>6.882363e-02</td>\n",
       "      <td>-2.235012e-01</td>\n",
       "      <td>-4.540819e-01</td>\n",
       "      <td>-6.894579e-01</td>\n",
       "      <td>9.006049e-02</td>\n",
       "    </tr>\n",
       "    <tr>\n",
       "      <th>75%</th>\n",
       "      <td>7.228468e-01</td>\n",
       "      <td>4.246475e-01</td>\n",
       "      <td>6.924506e-01</td>\n",
       "      <td>1.062311e+00</td>\n",
       "      <td>7.322972e-01</td>\n",
       "      <td>3.142056e-01</td>\n",
       "      <td>-1.767699e-01</td>\n",
       "      <td>1.019351e+00</td>\n",
       "      <td>6.941187e-01</td>\n",
       "    </tr>\n",
       "    <tr>\n",
       "      <th>max</th>\n",
       "      <td>7.228468e-01</td>\n",
       "      <td>4.246475e-01</td>\n",
       "      <td>2.093643e+00</td>\n",
       "      <td>1.560684e+00</td>\n",
       "      <td>1.725271e+00</td>\n",
       "      <td>1.160605e+01</td>\n",
       "      <td>1.646400e+01</td>\n",
       "      <td>2.728160e+00</td>\n",
       "      <td>1.781423e+00</td>\n",
       "    </tr>\n",
       "  </tbody>\n",
       "</table>\n",
       "</div>"
      ],
      "text/plain": [
       "       online_order    book_table      location     rest_type      cuisines  \\\n",
       "count  4.126300e+04  4.126300e+04  4.126300e+04  4.126300e+04  4.126300e+04   \n",
       "mean  -7.419485e-15 -1.037194e-14  3.465485e-14  1.616906e-15 -4.776935e-16   \n",
       "std    1.000012e+00  1.000012e+00  1.000012e+00  1.000012e+00  1.000012e+00   \n",
       "min   -1.383419e+00 -2.354894e+00 -1.352533e+00 -1.736244e+00 -1.802321e+00   \n",
       "25%   -1.383419e+00  4.246475e-01 -8.980923e-01 -8.161710e-01 -9.226593e-01   \n",
       "50%    7.228468e-01  4.246475e-01 -1.785610e-01 -3.177981e-01  6.882363e-02   \n",
       "75%    7.228468e-01  4.246475e-01  6.924506e-01  1.062311e+00  7.322972e-01   \n",
       "max    7.228468e-01  4.246475e-01  2.093643e+00  1.560684e+00  1.725271e+00   \n",
       "\n",
       "       approx_cost(for two people)     menu_item  listed_in(type)  \\\n",
       "count                 4.126300e+04  4.126300e+04     4.126300e+04   \n",
       "mean                 -2.669066e-15  1.197844e-14    -6.791617e-15   \n",
       "std                   1.000012e+00  1.000012e+00     1.000012e+00   \n",
       "min                  -1.212882e+00 -4.540819e-01    -2.398267e+00   \n",
       "25%                  -6.536667e-01 -4.540819e-01    -6.894579e-01   \n",
       "50%                  -2.235012e-01 -4.540819e-01    -6.894579e-01   \n",
       "75%                   3.142056e-01 -1.767699e-01     1.019351e+00   \n",
       "max                   1.160605e+01  1.646400e+01     2.728160e+00   \n",
       "\n",
       "       listed_in(city)  \n",
       "count     4.126300e+04  \n",
       "mean      7.446222e-14  \n",
       "std       1.000012e+00  \n",
       "min      -1.722114e+00  \n",
       "25%      -8.764326e-01  \n",
       "50%       9.006049e-02  \n",
       "75%       6.941187e-01  \n",
       "max       1.781423e+00  "
      ]
     },
     "execution_count": 35,
     "metadata": {},
     "output_type": "execute_result"
    }
   ],
   "source": [
    "data_cs11_scaled.describe()"
   ]
  },
  {
   "cell_type": "markdown",
   "metadata": {
    "id": "VjzwzG6bR91m"
   },
   "source": [
    "Построим плотность распределения:"
   ]
  },
  {
   "cell_type": "code",
   "execution_count": 36,
   "metadata": {
    "id": "ICkM4usNR8nI"
   },
   "outputs": [],
   "source": [
    "def draw_kde(col_list, df1, df2, label1, label2):\n",
    "    fig, (ax1, ax2) = plt.subplots(\n",
    "        ncols=2, figsize=(12, 5))\n",
    "    # первый график\n",
    "    ax1.set_title(label1)\n",
    "    sns.kdeplot(data=df1[col_list], ax=ax1)\n",
    "    # второй график\n",
    "    ax2.set_title(label2)\n",
    "    sns.kdeplot(data=df2[col_list], ax=ax2)\n",
    "    plt.show()"
   ]
  },
  {
   "cell_type": "code",
   "execution_count": 37,
   "metadata": {
    "colab": {
     "base_uri": "https://localhost:8080/",
     "height": 486
    },
    "id": "8_2PLJtTSBNG",
    "outputId": "9ae89113-b79b-4723-ea4c-e8e4c66452ef"
   },
   "outputs": [
    {
     "data": {
      "image/png": "[encoded data removed]",
      "text/plain": [
       "<Figure size 864x360 with 2 Axes>"
      ]
     },
     "metadata": {
      "needs_background": "light"
     },
     "output_type": "display_data"
    }
   ],
   "source": [
    "draw_kde(x_col_list, data, data_cs11_scaled, 'до масштабирования', 'после масштабирования')"
   ]
  },
  {
   "cell_type": "markdown",
   "metadata": {
    "id": "zRDD3wh1SVZi"
   },
   "source": [
    "Обучаем StandardScaler на обучающей выборке и масштабируем обучающую и тестовую выборки:"
   ]
  },
  {
   "cell_type": "code",
   "execution_count": 38,
   "metadata": {
    "id": "OwgB0iuESBVo"
   },
   "outputs": [],
   "source": [
    "cs12 = StandardScaler()\n",
    "cs12.fit(X_train)\n",
    "data_cs12_scaled_train_temp = cs12.transform(X_train)\n",
    "data_cs12_scaled_test_temp = cs12.transform(X_test)\n",
    "# формируем DataFrame на основе массива\n",
    "data_cs12_scaled_train = arr_to_df(data_cs12_scaled_train_temp)\n",
    "data_cs12_scaled_test = arr_to_df(data_cs12_scaled_test_temp)"
   ]
  },
  {
   "cell_type": "code",
   "execution_count": 39,
   "metadata": {
    "colab": {
     "base_uri": "https://localhost:8080/",
     "height": 300
    },
    "id": "gJcoaKWQSaMQ",
    "outputId": "7e89e608-a8c7-48d3-9c7f-18f71c7c3a75"
   },
   "outputs": [
    {
     "data": {
      "text/html": [
       "<div>\n",
       "<style scoped>\n",
       "    .dataframe tbody tr th:only-of-type {\n",
       "        vertical-align: middle;\n",
       "    }\n",
       "\n",
       "    .dataframe tbody tr th {\n",
       "        vertical-align: top;\n",
       "    }\n",
       "\n",
       "    .dataframe thead th {\n",
       "        text-align: right;\n",
       "    }\n",
       "</style>\n",
       "<table border=\"1\" class=\"dataframe\">\n",
       "  <thead>\n",
       "    <tr style=\"text-align: right;\">\n",
       "      <th></th>\n",
       "      <th>online_order</th>\n",
       "      <th>book_table</th>\n",
       "      <th>location</th>\n",
       "      <th>rest_type</th>\n",
       "      <th>cuisines</th>\n",
       "      <th>approx_cost(for two people)</th>\n",
       "      <th>menu_item</th>\n",
       "      <th>listed_in(type)</th>\n",
       "      <th>listed_in(city)</th>\n",
       "    </tr>\n",
       "  </thead>\n",
       "  <tbody>\n",
       "    <tr>\n",
       "      <th>count</th>\n",
       "      <td>3.301000e+04</td>\n",
       "      <td>3.301000e+04</td>\n",
       "      <td>3.301000e+04</td>\n",
       "      <td>3.301000e+04</td>\n",
       "      <td>3.301000e+04</td>\n",
       "      <td>3.301000e+04</td>\n",
       "      <td>3.301000e+04</td>\n",
       "      <td>3.301000e+04</td>\n",
       "      <td>3.301000e+04</td>\n",
       "    </tr>\n",
       "    <tr>\n",
       "      <th>mean</th>\n",
       "      <td>-1.326590e-15</td>\n",
       "      <td>2.584993e-16</td>\n",
       "      <td>8.811828e-17</td>\n",
       "      <td>-4.397506e-17</td>\n",
       "      <td>-9.972668e-17</td>\n",
       "      <td>-1.018735e-15</td>\n",
       "      <td>1.491398e-15</td>\n",
       "      <td>-5.940164e-16</td>\n",
       "      <td>-1.602273e-16</td>\n",
       "    </tr>\n",
       "    <tr>\n",
       "      <th>std</th>\n",
       "      <td>1.000015e+00</td>\n",
       "      <td>1.000015e+00</td>\n",
       "      <td>1.000015e+00</td>\n",
       "      <td>1.000015e+00</td>\n",
       "      <td>1.000015e+00</td>\n",
       "      <td>1.000015e+00</td>\n",
       "      <td>1.000015e+00</td>\n",
       "      <td>1.000015e+00</td>\n",
       "      <td>1.000015e+00</td>\n",
       "    </tr>\n",
       "    <tr>\n",
       "      <th>min</th>\n",
       "      <td>-1.382830e+00</td>\n",
       "      <td>-2.368809e+00</td>\n",
       "      <td>-1.355221e+00</td>\n",
       "      <td>-1.732957e+00</td>\n",
       "      <td>-1.794476e+00</td>\n",
       "      <td>-1.212742e+00</td>\n",
       "      <td>-4.541267e-01</td>\n",
       "      <td>-2.394130e+00</td>\n",
       "      <td>-1.725648e+00</td>\n",
       "    </tr>\n",
       "    <tr>\n",
       "      <th>25%</th>\n",
       "      <td>-1.382830e+00</td>\n",
       "      <td>4.221531e-01</td>\n",
       "      <td>-8.916524e-01</td>\n",
       "      <td>-8.126818e-01</td>\n",
       "      <td>-9.191788e-01</td>\n",
       "      <td>-6.515972e-01</td>\n",
       "      <td>-4.541267e-01</td>\n",
       "      <td>-6.894593e-01</td>\n",
       "      <td>-8.788154e-01</td>\n",
       "    </tr>\n",
       "    <tr>\n",
       "      <th>50%</th>\n",
       "      <td>7.231547e-01</td>\n",
       "      <td>4.221531e-01</td>\n",
       "      <td>-1.821086e-01</td>\n",
       "      <td>-3.141996e-01</td>\n",
       "      <td>6.106488e-02</td>\n",
       "      <td>-2.199476e-01</td>\n",
       "      <td>-4.541267e-01</td>\n",
       "      <td>-6.894593e-01</td>\n",
       "      <td>8.899308e-02</td>\n",
       "    </tr>\n",
       "    <tr>\n",
       "      <th>75%</th>\n",
       "      <td>7.231547e-01</td>\n",
       "      <td>4.221531e-01</td>\n",
       "      <td>6.882650e-01</td>\n",
       "      <td>1.066213e+00</td>\n",
       "      <td>7.361454e-01</td>\n",
       "      <td>2.117020e-01</td>\n",
       "      <td>-1.802842e-01</td>\n",
       "      <td>1.015211e+00</td>\n",
       "      <td>6.938734e-01</td>\n",
       "    </tr>\n",
       "    <tr>\n",
       "      <th>max</th>\n",
       "      <td>7.231547e-01</td>\n",
       "      <td>4.221531e-01</td>\n",
       "      <td>2.088431e+00</td>\n",
       "      <td>1.564695e+00</td>\n",
       "      <td>1.727554e+00</td>\n",
       "      <td>1.165042e+01</td>\n",
       "      <td>8.848344e+00</td>\n",
       "      <td>2.719881e+00</td>\n",
       "      <td>1.782658e+00</td>\n",
       "    </tr>\n",
       "  </tbody>\n",
       "</table>\n",
       "</div>"
      ],
      "text/plain": [
       "       online_order    book_table      location     rest_type      cuisines  \\\n",
       "count  3.301000e+04  3.301000e+04  3.301000e+04  3.301000e+04  3.301000e+04   \n",
       "mean  -1.326590e-15  2.584993e-16  8.811828e-17 -4.397506e-17 -9.972668e-17   \n",
       "std    1.000015e+00  1.000015e+00  1.000015e+00  1.000015e+00  1.000015e+00   \n",
       "min   -1.382830e+00 -2.368809e+00 -1.355221e+00 -1.732957e+00 -1.794476e+00   \n",
       "25%   -1.382830e+00  4.221531e-01 -8.916524e-01 -8.126818e-01 -9.191788e-01   \n",
       "50%    7.231547e-01  4.221531e-01 -1.821086e-01 -3.141996e-01  6.106488e-02   \n",
       "75%    7.231547e-01  4.221531e-01  6.882650e-01  1.066213e+00  7.361454e-01   \n",
       "max    7.231547e-01  4.221531e-01  2.088431e+00  1.564695e+00  1.727554e+00   \n",
       "\n",
       "       approx_cost(for two people)     menu_item  listed_in(type)  \\\n",
       "count                 3.301000e+04  3.301000e+04     3.301000e+04   \n",
       "mean                 -1.018735e-15  1.491398e-15    -5.940164e-16   \n",
       "std                   1.000015e+00  1.000015e+00     1.000015e+00   \n",
       "min                  -1.212742e+00 -4.541267e-01    -2.394130e+00   \n",
       "25%                  -6.515972e-01 -4.541267e-01    -6.894593e-01   \n",
       "50%                  -2.199476e-01 -4.541267e-01    -6.894593e-01   \n",
       "75%                   2.117020e-01 -1.802842e-01     1.015211e+00   \n",
       "max                   1.165042e+01  8.848344e+00     2.719881e+00   \n",
       "\n",
       "       listed_in(city)  \n",
       "count     3.301000e+04  \n",
       "mean     -1.602273e-16  \n",
       "std       1.000015e+00  \n",
       "min      -1.725648e+00  \n",
       "25%      -8.788154e-01  \n",
       "50%       8.899308e-02  \n",
       "75%       6.938734e-01  \n",
       "max       1.782658e+00  "
      ]
     },
     "execution_count": 39,
     "metadata": {},
     "output_type": "execute_result"
    }
   ],
   "source": [
    "data_cs12_scaled_train.describe()"
   ]
  },
  {
   "cell_type": "code",
   "execution_count": 40,
   "metadata": {
    "colab": {
     "base_uri": "https://localhost:8080/",
     "height": 300
    },
    "id": "j3ukXKN0ScI0",
    "outputId": "a7787fa0-9747-45fe-9b91-b0153ded9e1b"
   },
   "outputs": [
    {
     "data": {
      "text/html": [
       "<div>\n",
       "<style scoped>\n",
       "    .dataframe tbody tr th:only-of-type {\n",
       "        vertical-align: middle;\n",
       "    }\n",
       "\n",
       "    .dataframe tbody tr th {\n",
       "        vertical-align: top;\n",
       "    }\n",
       "\n",
       "    .dataframe thead th {\n",
       "        text-align: right;\n",
       "    }\n",
       "</style>\n",
       "<table border=\"1\" class=\"dataframe\">\n",
       "  <thead>\n",
       "    <tr style=\"text-align: right;\">\n",
       "      <th></th>\n",
       "      <th>online_order</th>\n",
       "      <th>book_table</th>\n",
       "      <th>location</th>\n",
       "      <th>rest_type</th>\n",
       "      <th>cuisines</th>\n",
       "      <th>approx_cost(for two people)</th>\n",
       "      <th>menu_item</th>\n",
       "      <th>listed_in(type)</th>\n",
       "      <th>listed_in(city)</th>\n",
       "    </tr>\n",
       "  </thead>\n",
       "  <tbody>\n",
       "    <tr>\n",
       "      <th>count</th>\n",
       "      <td>8253.000000</td>\n",
       "      <td>8253.000000</td>\n",
       "      <td>8253.000000</td>\n",
       "      <td>8253.000000</td>\n",
       "      <td>8253.000000</td>\n",
       "      <td>8253.000000</td>\n",
       "      <td>8253.000000</td>\n",
       "      <td>8253.000000</td>\n",
       "      <td>8253.000000</td>\n",
       "    </tr>\n",
       "    <tr>\n",
       "      <th>mean</th>\n",
       "      <td>0.002021</td>\n",
       "      <td>-0.021195</td>\n",
       "      <td>-0.018391</td>\n",
       "      <td>0.018340</td>\n",
       "      <td>0.025013</td>\n",
       "      <td>0.021623</td>\n",
       "      <td>-0.000744</td>\n",
       "      <td>-0.008355</td>\n",
       "      <td>-0.005950</td>\n",
       "    </tr>\n",
       "    <tr>\n",
       "      <th>std</th>\n",
       "      <td>0.999392</td>\n",
       "      <td>1.020263</td>\n",
       "      <td>0.996258</td>\n",
       "      <td>1.001023</td>\n",
       "      <td>0.991899</td>\n",
       "      <td>1.017010</td>\n",
       "      <td>0.998914</td>\n",
       "      <td>0.987863</td>\n",
       "      <td>1.006833</td>\n",
       "    </tr>\n",
       "    <tr>\n",
       "      <th>min</th>\n",
       "      <td>-1.382830</td>\n",
       "      <td>-2.368809</td>\n",
       "      <td>-1.355221</td>\n",
       "      <td>-1.732957</td>\n",
       "      <td>-1.794476</td>\n",
       "      <td>-1.212742</td>\n",
       "      <td>-0.454127</td>\n",
       "      <td>-2.394130</td>\n",
       "      <td>-1.725648</td>\n",
       "    </tr>\n",
       "    <tr>\n",
       "      <th>25%</th>\n",
       "      <td>-1.382830</td>\n",
       "      <td>0.422153</td>\n",
       "      <td>-0.901113</td>\n",
       "      <td>-0.812682</td>\n",
       "      <td>-0.901316</td>\n",
       "      <td>-0.651597</td>\n",
       "      <td>-0.454127</td>\n",
       "      <td>-0.689459</td>\n",
       "      <td>-0.878815</td>\n",
       "    </tr>\n",
       "    <tr>\n",
       "      <th>50%</th>\n",
       "      <td>0.723155</td>\n",
       "      <td>0.422153</td>\n",
       "      <td>-0.182109</td>\n",
       "      <td>-0.314200</td>\n",
       "      <td>0.133262</td>\n",
       "      <td>-0.219948</td>\n",
       "      <td>-0.454127</td>\n",
       "      <td>-0.689459</td>\n",
       "      <td>0.088993</td>\n",
       "    </tr>\n",
       "    <tr>\n",
       "      <th>75%</th>\n",
       "      <td>0.723155</td>\n",
       "      <td>0.422153</td>\n",
       "      <td>0.688265</td>\n",
       "      <td>1.066213</td>\n",
       "      <td>0.736145</td>\n",
       "      <td>0.319614</td>\n",
       "      <td>-0.138731</td>\n",
       "      <td>1.015211</td>\n",
       "      <td>0.693873</td>\n",
       "    </tr>\n",
       "    <tr>\n",
       "      <th>max</th>\n",
       "      <td>0.723155</td>\n",
       "      <td>0.422153</td>\n",
       "      <td>2.088431</td>\n",
       "      <td>1.564695</td>\n",
       "      <td>1.727554</td>\n",
       "      <td>8.413044</td>\n",
       "      <td>16.460075</td>\n",
       "      <td>2.719881</td>\n",
       "      <td>1.782658</td>\n",
       "    </tr>\n",
       "  </tbody>\n",
       "</table>\n",
       "</div>"
      ],
      "text/plain": [
       "       online_order   book_table     location    rest_type     cuisines  \\\n",
       "count   8253.000000  8253.000000  8253.000000  8253.000000  8253.000000   \n",
       "mean       0.002021    -0.021195    -0.018391     0.018340     0.025013   \n",
       "std        0.999392     1.020263     0.996258     1.001023     0.991899   \n",
       "min       -1.382830    -2.368809    -1.355221    -1.732957    -1.794476   \n",
       "25%       -1.382830     0.422153    -0.901113    -0.812682    -0.901316   \n",
       "50%        0.723155     0.422153    -0.182109    -0.314200     0.133262   \n",
       "75%        0.723155     0.422153     0.688265     1.066213     0.736145   \n",
       "max        0.723155     0.422153     2.088431     1.564695     1.727554   \n",
       "\n",
       "       approx_cost(for two people)    menu_item  listed_in(type)  \\\n",
       "count                  8253.000000  8253.000000      8253.000000   \n",
       "mean                      0.021623    -0.000744        -0.008355   \n",
       "std                       1.017010     0.998914         0.987863   \n",
       "min                      -1.212742    -0.454127        -2.394130   \n",
       "25%                      -0.651597    -0.454127        -0.689459   \n",
       "50%                      -0.219948    -0.454127        -0.689459   \n",
       "75%                       0.319614    -0.138731         1.015211   \n",
       "max                       8.413044    16.460075         2.719881   \n",
       "\n",
       "       listed_in(city)  \n",
       "count      8253.000000  \n",
       "mean         -0.005950  \n",
       "std           1.006833  \n",
       "min          -1.725648  \n",
       "25%          -0.878815  \n",
       "50%           0.088993  \n",
       "75%           0.693873  \n",
       "max           1.782658  "
      ]
     },
     "execution_count": 40,
     "metadata": {},
     "output_type": "execute_result"
    }
   ],
   "source": [
    "data_cs12_scaled_test.describe()"
   ]
  },
  {
   "cell_type": "code",
   "execution_count": 41,
   "metadata": {
    "colab": {
     "base_uri": "https://localhost:8080/",
     "height": 468
    },
    "id": "Xf4WojpDSeac",
    "outputId": "5aa46721-ac64-47c0-f34f-748f4f798382"
   },
   "outputs": [
    {
     "data": {
      "image/png": "[encoded data removed]",
      "text/plain": [
       "<Figure size 864x360 with 2 Axes>"
      ]
     },
     "metadata": {
      "needs_background": "light"
     },
     "output_type": "display_data"
    }
   ],
   "source": [
    "draw_kde(x_col_list, data_cs12_scaled_train, data_cs12_scaled_test, 'обучающая', 'тестовая')"
   ]
  },
  {
   "cell_type": "markdown",
   "metadata": {
    "id": "eI5L2BMHSpk1"
   },
   "source": [
    "### Масштабирование Mean Normalization"
   ]
  },
  {
   "cell_type": "code",
   "execution_count": 42,
   "metadata": {
    "id": "fwo4ytxOSu4r"
   },
   "outputs": [],
   "source": [
    "class MeanNormalisation:\n",
    "\n",
    "    def fit(self, param_df):\n",
    "        self.means = X_train.mean(axis=0)\n",
    "        maxs = X_train.max(axis=0)\n",
    "        mins = X_train.min(axis=0)\n",
    "        self.ranges = maxs - mins\n",
    "\n",
    "    def transform(self, param_df):\n",
    "        param_df_scaled = (param_df - self.means) / self.ranges\n",
    "        return param_df_scaled\n",
    "\n",
    "    def fit_transform(self, param_df):\n",
    "        self.fit(param_df)\n",
    "        return self.transform(param_df)"
   ]
  },
  {
   "cell_type": "code",
   "execution_count": 43,
   "metadata": {
    "colab": {
     "base_uri": "https://localhost:8080/",
     "height": 300
    },
    "id": "4epU3XsgSxIY",
    "outputId": "4f4682c4-3469-46fe-dfba-50a814b94a72"
   },
   "outputs": [
    {
     "data": {
      "text/html": [
       "<div>\n",
       "<style scoped>\n",
       "    .dataframe tbody tr th:only-of-type {\n",
       "        vertical-align: middle;\n",
       "    }\n",
       "\n",
       "    .dataframe tbody tr th {\n",
       "        vertical-align: top;\n",
       "    }\n",
       "\n",
       "    .dataframe thead th {\n",
       "        text-align: right;\n",
       "    }\n",
       "</style>\n",
       "<table border=\"1\" class=\"dataframe\">\n",
       "  <thead>\n",
       "    <tr style=\"text-align: right;\">\n",
       "      <th></th>\n",
       "      <th>online_order</th>\n",
       "      <th>book_table</th>\n",
       "      <th>location</th>\n",
       "      <th>rest_type</th>\n",
       "      <th>cuisines</th>\n",
       "      <th>approx_cost(for two people)</th>\n",
       "      <th>menu_item</th>\n",
       "      <th>listed_in(type)</th>\n",
       "      <th>listed_in(city)</th>\n",
       "    </tr>\n",
       "  </thead>\n",
       "  <tbody>\n",
       "    <tr>\n",
       "      <th>count</th>\n",
       "      <td>41263.000000</td>\n",
       "      <td>41263.000000</td>\n",
       "      <td>41263.000000</td>\n",
       "      <td>41263.000000</td>\n",
       "      <td>41263.000000</td>\n",
       "      <td>41263.000000</td>\n",
       "      <td>41263.000000</td>\n",
       "      <td>41263.000000</td>\n",
       "      <td>41263.000000</td>\n",
       "    </tr>\n",
       "    <tr>\n",
       "      <th>mean</th>\n",
       "      <td>0.000192</td>\n",
       "      <td>-0.001519</td>\n",
       "      <td>-0.001068</td>\n",
       "      <td>0.001112</td>\n",
       "      <td>0.001420</td>\n",
       "      <td>0.000336</td>\n",
       "      <td>-0.000016</td>\n",
       "      <td>-0.000327</td>\n",
       "      <td>-0.000339</td>\n",
       "    </tr>\n",
       "    <tr>\n",
       "      <th>std</th>\n",
       "      <td>0.474780</td>\n",
       "      <td>0.359776</td>\n",
       "      <td>0.290180</td>\n",
       "      <td>0.303316</td>\n",
       "      <td>0.283483</td>\n",
       "      <td>0.078011</td>\n",
       "      <td>0.107475</td>\n",
       "      <td>0.195070</td>\n",
       "      <td>0.285429</td>\n",
       "    </tr>\n",
       "    <tr>\n",
       "      <th>min</th>\n",
       "      <td>-0.656619</td>\n",
       "      <td>-0.848743</td>\n",
       "      <td>-0.393542</td>\n",
       "      <td>-0.525512</td>\n",
       "      <td>-0.509501</td>\n",
       "      <td>-0.094280</td>\n",
       "      <td>-0.048818</td>\n",
       "      <td>-0.468151</td>\n",
       "      <td>-0.491875</td>\n",
       "    </tr>\n",
       "    <tr>\n",
       "      <th>25%</th>\n",
       "      <td>-0.656619</td>\n",
       "      <td>0.151257</td>\n",
       "      <td>-0.261674</td>\n",
       "      <td>-0.246443</td>\n",
       "      <td>-0.260135</td>\n",
       "      <td>-0.050656</td>\n",
       "      <td>-0.048818</td>\n",
       "      <td>-0.134818</td>\n",
       "      <td>-0.250496</td>\n",
       "    </tr>\n",
       "    <tr>\n",
       "      <th>50%</th>\n",
       "      <td>0.343381</td>\n",
       "      <td>0.151257</td>\n",
       "      <td>-0.052882</td>\n",
       "      <td>-0.095280</td>\n",
       "      <td>0.020931</td>\n",
       "      <td>-0.017099</td>\n",
       "      <td>-0.048818</td>\n",
       "      <td>-0.134818</td>\n",
       "      <td>0.025366</td>\n",
       "    </tr>\n",
       "    <tr>\n",
       "      <th>75%</th>\n",
       "      <td>0.343381</td>\n",
       "      <td>0.151257</td>\n",
       "      <td>0.199865</td>\n",
       "      <td>0.323325</td>\n",
       "      <td>0.209012</td>\n",
       "      <td>0.024847</td>\n",
       "      <td>-0.019014</td>\n",
       "      <td>0.198516</td>\n",
       "      <td>0.197780</td>\n",
       "    </tr>\n",
       "    <tr>\n",
       "      <th>max</th>\n",
       "      <td>0.343381</td>\n",
       "      <td>0.151257</td>\n",
       "      <td>0.606458</td>\n",
       "      <td>0.474488</td>\n",
       "      <td>0.490499</td>\n",
       "      <td>0.905720</td>\n",
       "      <td>1.769431</td>\n",
       "      <td>0.531849</td>\n",
       "      <td>0.508125</td>\n",
       "    </tr>\n",
       "  </tbody>\n",
       "</table>\n",
       "</div>"
      ],
      "text/plain": [
       "       online_order    book_table      location     rest_type      cuisines  \\\n",
       "count  41263.000000  41263.000000  41263.000000  41263.000000  41263.000000   \n",
       "mean       0.000192     -0.001519     -0.001068      0.001112      0.001420   \n",
       "std        0.474780      0.359776      0.290180      0.303316      0.283483   \n",
       "min       -0.656619     -0.848743     -0.393542     -0.525512     -0.509501   \n",
       "25%       -0.656619      0.151257     -0.261674     -0.246443     -0.260135   \n",
       "50%        0.343381      0.151257     -0.052882     -0.095280      0.020931   \n",
       "75%        0.343381      0.151257      0.199865      0.323325      0.209012   \n",
       "max        0.343381      0.151257      0.606458      0.474488      0.490499   \n",
       "\n",
       "       approx_cost(for two people)     menu_item  listed_in(type)  \\\n",
       "count                 41263.000000  41263.000000     41263.000000   \n",
       "mean                      0.000336     -0.000016        -0.000327   \n",
       "std                       0.078011      0.107475         0.195070   \n",
       "min                      -0.094280     -0.048818        -0.468151   \n",
       "25%                      -0.050656     -0.048818        -0.134818   \n",
       "50%                      -0.017099     -0.048818        -0.134818   \n",
       "75%                       0.024847     -0.019014         0.198516   \n",
       "max                       0.905720      1.769431         0.531849   \n",
       "\n",
       "       listed_in(city)  \n",
       "count     41263.000000  \n",
       "mean         -0.000339  \n",
       "std           0.285429  \n",
       "min          -0.491875  \n",
       "25%          -0.250496  \n",
       "50%           0.025366  \n",
       "75%           0.197780  \n",
       "max           0.508125  "
      ]
     },
     "execution_count": 43,
     "metadata": {},
     "output_type": "execute_result"
    }
   ],
   "source": [
    "sc21 = MeanNormalisation()\n",
    "data_cs21_scaled = sc21.fit_transform(X_ALL)\n",
    "data_cs21_scaled.describe()"
   ]
  },
  {
   "cell_type": "code",
   "execution_count": 44,
   "metadata": {
    "id": "Y9uhY3pxSzGV"
   },
   "outputs": [],
   "source": [
    "cs22 = MeanNormalisation()\n",
    "cs22.fit(X_train)\n",
    "data_cs22_scaled_train = cs22.transform(X_train)\n",
    "data_cs22_scaled_test = cs22.transform(X_test)"
   ]
  },
  {
   "cell_type": "code",
   "execution_count": 45,
   "metadata": {
    "colab": {
     "base_uri": "https://localhost:8080/",
     "height": 300
    },
    "id": "YsJyPQNGS08t",
    "outputId": "0e0d0512-c33d-4e59-ba85-08699f738cf7"
   },
   "outputs": [
    {
     "data": {
      "text/html": [
       "<div>\n",
       "<style scoped>\n",
       "    .dataframe tbody tr th:only-of-type {\n",
       "        vertical-align: middle;\n",
       "    }\n",
       "\n",
       "    .dataframe tbody tr th {\n",
       "        vertical-align: top;\n",
       "    }\n",
       "\n",
       "    .dataframe thead th {\n",
       "        text-align: right;\n",
       "    }\n",
       "</style>\n",
       "<table border=\"1\" class=\"dataframe\">\n",
       "  <thead>\n",
       "    <tr style=\"text-align: right;\">\n",
       "      <th></th>\n",
       "      <th>online_order</th>\n",
       "      <th>book_table</th>\n",
       "      <th>location</th>\n",
       "      <th>rest_type</th>\n",
       "      <th>cuisines</th>\n",
       "      <th>approx_cost(for two people)</th>\n",
       "      <th>menu_item</th>\n",
       "      <th>listed_in(type)</th>\n",
       "      <th>listed_in(city)</th>\n",
       "    </tr>\n",
       "  </thead>\n",
       "  <tbody>\n",
       "    <tr>\n",
       "      <th>count</th>\n",
       "      <td>3.301000e+04</td>\n",
       "      <td>3.301000e+04</td>\n",
       "      <td>3.301000e+04</td>\n",
       "      <td>3.301000e+04</td>\n",
       "      <td>3.301000e+04</td>\n",
       "      <td>3.301000e+04</td>\n",
       "      <td>3.301000e+04</td>\n",
       "      <td>3.301000e+04</td>\n",
       "      <td>3.301000e+04</td>\n",
       "    </tr>\n",
       "    <tr>\n",
       "      <th>mean</th>\n",
       "      <td>-4.283221e-16</td>\n",
       "      <td>-5.499503e-13</td>\n",
       "      <td>5.077479e-17</td>\n",
       "      <td>-6.701656e-17</td>\n",
       "      <td>2.766729e-18</td>\n",
       "      <td>-3.997169e-17</td>\n",
       "      <td>-1.368482e-16</td>\n",
       "      <td>7.105860e-17</td>\n",
       "      <td>-1.272670e-17</td>\n",
       "    </tr>\n",
       "    <tr>\n",
       "      <th>std</th>\n",
       "      <td>4.748445e-01</td>\n",
       "      <td>3.583048e-01</td>\n",
       "      <td>2.903938e-01</td>\n",
       "      <td>3.032507e-01</td>\n",
       "      <td>2.839315e-01</td>\n",
       "      <td>7.774259e-02</td>\n",
       "      <td>1.075000e-01</td>\n",
       "      <td>1.955442e-01</td>\n",
       "      <td>2.850422e-01</td>\n",
       "    </tr>\n",
       "    <tr>\n",
       "      <th>min</th>\n",
       "      <td>-6.566192e-01</td>\n",
       "      <td>-8.487428e-01</td>\n",
       "      <td>-3.935418e-01</td>\n",
       "      <td>-5.255124e-01</td>\n",
       "      <td>-5.095006e-01</td>\n",
       "      <td>-9.428024e-02</td>\n",
       "      <td>-4.881786e-02</td>\n",
       "      <td>-4.681511e-01</td>\n",
       "      <td>-4.918750e-01</td>\n",
       "    </tr>\n",
       "    <tr>\n",
       "      <th>25%</th>\n",
       "      <td>-6.566192e-01</td>\n",
       "      <td>1.512572e-01</td>\n",
       "      <td>-2.589264e-01</td>\n",
       "      <td>-2.464426e-01</td>\n",
       "      <td>-2.609799e-01</td>\n",
       "      <td>-5.065608e-02</td>\n",
       "      <td>-4.881786e-02</td>\n",
       "      <td>-1.348177e-01</td>\n",
       "      <td>-2.504957e-01</td>\n",
       "    </tr>\n",
       "    <tr>\n",
       "      <th>50%</th>\n",
       "      <td>3.433808e-01</td>\n",
       "      <td>1.512572e-01</td>\n",
       "      <td>-5.288241e-02</td>\n",
       "      <td>-9.527980e-02</td>\n",
       "      <td>1.733798e-02</td>\n",
       "      <td>-1.709903e-02</td>\n",
       "      <td>-4.881786e-02</td>\n",
       "      <td>-1.348177e-01</td>\n",
       "      <td>2.536640e-02</td>\n",
       "    </tr>\n",
       "    <tr>\n",
       "      <th>75%</th>\n",
       "      <td>3.433808e-01</td>\n",
       "      <td>1.512572e-01</td>\n",
       "      <td>1.998648e-01</td>\n",
       "      <td>3.233249e-01</td>\n",
       "      <td>2.090117e-01</td>\n",
       "      <td>1.645801e-02</td>\n",
       "      <td>-1.938025e-02</td>\n",
       "      <td>1.985156e-01</td>\n",
       "      <td>1.977802e-01</td>\n",
       "    </tr>\n",
       "    <tr>\n",
       "      <th>max</th>\n",
       "      <td>3.433808e-01</td>\n",
       "      <td>1.512572e-01</td>\n",
       "      <td>6.064582e-01</td>\n",
       "      <td>4.744876e-01</td>\n",
       "      <td>4.904994e-01</td>\n",
       "      <td>9.057198e-01</td>\n",
       "      <td>9.511821e-01</td>\n",
       "      <td>5.318489e-01</td>\n",
       "      <td>5.081250e-01</td>\n",
       "    </tr>\n",
       "  </tbody>\n",
       "</table>\n",
       "</div>"
      ],
      "text/plain": [
       "       online_order    book_table      location     rest_type      cuisines  \\\n",
       "count  3.301000e+04  3.301000e+04  3.301000e+04  3.301000e+04  3.301000e+04   \n",
       "mean  -4.283221e-16 -5.499503e-13  5.077479e-17 -6.701656e-17  2.766729e-18   \n",
       "std    4.748445e-01  3.583048e-01  2.903938e-01  3.032507e-01  2.839315e-01   \n",
       "min   -6.566192e-01 -8.487428e-01 -3.935418e-01 -5.255124e-01 -5.095006e-01   \n",
       "25%   -6.566192e-01  1.512572e-01 -2.589264e-01 -2.464426e-01 -2.609799e-01   \n",
       "50%    3.433808e-01  1.512572e-01 -5.288241e-02 -9.527980e-02  1.733798e-02   \n",
       "75%    3.433808e-01  1.512572e-01  1.998648e-01  3.233249e-01  2.090117e-01   \n",
       "max    3.433808e-01  1.512572e-01  6.064582e-01  4.744876e-01  4.904994e-01   \n",
       "\n",
       "       approx_cost(for two people)     menu_item  listed_in(type)  \\\n",
       "count                 3.301000e+04  3.301000e+04     3.301000e+04   \n",
       "mean                 -3.997169e-17 -1.368482e-16     7.105860e-17   \n",
       "std                   7.774259e-02  1.075000e-01     1.955442e-01   \n",
       "min                  -9.428024e-02 -4.881786e-02    -4.681511e-01   \n",
       "25%                  -5.065608e-02 -4.881786e-02    -1.348177e-01   \n",
       "50%                  -1.709903e-02 -4.881786e-02    -1.348177e-01   \n",
       "75%                   1.645801e-02 -1.938025e-02     1.985156e-01   \n",
       "max                   9.057198e-01  9.511821e-01     5.318489e-01   \n",
       "\n",
       "       listed_in(city)  \n",
       "count     3.301000e+04  \n",
       "mean     -1.272670e-17  \n",
       "std       2.850422e-01  \n",
       "min      -4.918750e-01  \n",
       "25%      -2.504957e-01  \n",
       "50%       2.536640e-02  \n",
       "75%       1.977802e-01  \n",
       "max       5.081250e-01  "
      ]
     },
     "execution_count": 45,
     "metadata": {},
     "output_type": "execute_result"
    }
   ],
   "source": [
    "data_cs22_scaled_train.describe()"
   ]
  },
  {
   "cell_type": "code",
   "execution_count": 46,
   "metadata": {
    "colab": {
     "base_uri": "https://localhost:8080/",
     "height": 300
    },
    "id": "x67PoWL9S2S8",
    "outputId": "249df740-3993-4792-cbe4-c95c2331fe55"
   },
   "outputs": [
    {
     "data": {
      "text/html": [
       "<div>\n",
       "<style scoped>\n",
       "    .dataframe tbody tr th:only-of-type {\n",
       "        vertical-align: middle;\n",
       "    }\n",
       "\n",
       "    .dataframe tbody tr th {\n",
       "        vertical-align: top;\n",
       "    }\n",
       "\n",
       "    .dataframe thead th {\n",
       "        text-align: right;\n",
       "    }\n",
       "</style>\n",
       "<table border=\"1\" class=\"dataframe\">\n",
       "  <thead>\n",
       "    <tr style=\"text-align: right;\">\n",
       "      <th></th>\n",
       "      <th>online_order</th>\n",
       "      <th>book_table</th>\n",
       "      <th>location</th>\n",
       "      <th>rest_type</th>\n",
       "      <th>cuisines</th>\n",
       "      <th>approx_cost(for two people)</th>\n",
       "      <th>menu_item</th>\n",
       "      <th>listed_in(type)</th>\n",
       "      <th>listed_in(city)</th>\n",
       "    </tr>\n",
       "  </thead>\n",
       "  <tbody>\n",
       "    <tr>\n",
       "      <th>count</th>\n",
       "      <td>8253.000000</td>\n",
       "      <td>8253.000000</td>\n",
       "      <td>8253.000000</td>\n",
       "      <td>8253.000000</td>\n",
       "      <td>8253.000000</td>\n",
       "      <td>8253.000000</td>\n",
       "      <td>8253.000000</td>\n",
       "      <td>8253.000000</td>\n",
       "      <td>8253.000000</td>\n",
       "    </tr>\n",
       "    <tr>\n",
       "      <th>mean</th>\n",
       "      <td>0.000960</td>\n",
       "      <td>-0.007594</td>\n",
       "      <td>-0.005341</td>\n",
       "      <td>0.005562</td>\n",
       "      <td>0.007102</td>\n",
       "      <td>0.001681</td>\n",
       "      <td>-0.000080</td>\n",
       "      <td>-0.001634</td>\n",
       "      <td>-0.001696</td>\n",
       "    </tr>\n",
       "    <tr>\n",
       "      <th>std</th>\n",
       "      <td>0.474548</td>\n",
       "      <td>0.365560</td>\n",
       "      <td>0.289303</td>\n",
       "      <td>0.303556</td>\n",
       "      <td>0.281627</td>\n",
       "      <td>0.079064</td>\n",
       "      <td>0.107382</td>\n",
       "      <td>0.193168</td>\n",
       "      <td>0.286986</td>\n",
       "    </tr>\n",
       "    <tr>\n",
       "      <th>min</th>\n",
       "      <td>-0.656619</td>\n",
       "      <td>-0.848743</td>\n",
       "      <td>-0.393542</td>\n",
       "      <td>-0.525512</td>\n",
       "      <td>-0.509501</td>\n",
       "      <td>-0.094280</td>\n",
       "      <td>-0.048818</td>\n",
       "      <td>-0.468151</td>\n",
       "      <td>-0.491875</td>\n",
       "    </tr>\n",
       "    <tr>\n",
       "      <th>25%</th>\n",
       "      <td>-0.656619</td>\n",
       "      <td>0.151257</td>\n",
       "      <td>-0.261674</td>\n",
       "      <td>-0.246443</td>\n",
       "      <td>-0.255908</td>\n",
       "      <td>-0.050656</td>\n",
       "      <td>-0.048818</td>\n",
       "      <td>-0.134818</td>\n",
       "      <td>-0.250496</td>\n",
       "    </tr>\n",
       "    <tr>\n",
       "      <th>50%</th>\n",
       "      <td>0.343381</td>\n",
       "      <td>0.151257</td>\n",
       "      <td>-0.052882</td>\n",
       "      <td>-0.095280</td>\n",
       "      <td>0.037837</td>\n",
       "      <td>-0.017099</td>\n",
       "      <td>-0.048818</td>\n",
       "      <td>-0.134818</td>\n",
       "      <td>0.025366</td>\n",
       "    </tr>\n",
       "    <tr>\n",
       "      <th>75%</th>\n",
       "      <td>0.343381</td>\n",
       "      <td>0.151257</td>\n",
       "      <td>0.199865</td>\n",
       "      <td>0.323325</td>\n",
       "      <td>0.209012</td>\n",
       "      <td>0.024847</td>\n",
       "      <td>-0.014913</td>\n",
       "      <td>0.198516</td>\n",
       "      <td>0.197780</td>\n",
       "    </tr>\n",
       "    <tr>\n",
       "      <th>max</th>\n",
       "      <td>0.343381</td>\n",
       "      <td>0.151257</td>\n",
       "      <td>0.606458</td>\n",
       "      <td>0.474488</td>\n",
       "      <td>0.490499</td>\n",
       "      <td>0.654042</td>\n",
       "      <td>1.769431</td>\n",
       "      <td>0.531849</td>\n",
       "      <td>0.508125</td>\n",
       "    </tr>\n",
       "  </tbody>\n",
       "</table>\n",
       "</div>"
      ],
      "text/plain": [
       "       online_order   book_table     location    rest_type     cuisines  \\\n",
       "count   8253.000000  8253.000000  8253.000000  8253.000000  8253.000000   \n",
       "mean       0.000960    -0.007594    -0.005341     0.005562     0.007102   \n",
       "std        0.474548     0.365560     0.289303     0.303556     0.281627   \n",
       "min       -0.656619    -0.848743    -0.393542    -0.525512    -0.509501   \n",
       "25%       -0.656619     0.151257    -0.261674    -0.246443    -0.255908   \n",
       "50%        0.343381     0.151257    -0.052882    -0.095280     0.037837   \n",
       "75%        0.343381     0.151257     0.199865     0.323325     0.209012   \n",
       "max        0.343381     0.151257     0.606458     0.474488     0.490499   \n",
       "\n",
       "       approx_cost(for two people)    menu_item  listed_in(type)  \\\n",
       "count                  8253.000000  8253.000000      8253.000000   \n",
       "mean                      0.001681    -0.000080        -0.001634   \n",
       "std                       0.079064     0.107382         0.193168   \n",
       "min                      -0.094280    -0.048818        -0.468151   \n",
       "25%                      -0.050656    -0.048818        -0.134818   \n",
       "50%                      -0.017099    -0.048818        -0.134818   \n",
       "75%                       0.024847    -0.014913         0.198516   \n",
       "max                       0.654042     1.769431         0.531849   \n",
       "\n",
       "       listed_in(city)  \n",
       "count      8253.000000  \n",
       "mean         -0.001696  \n",
       "std           0.286986  \n",
       "min          -0.491875  \n",
       "25%          -0.250496  \n",
       "50%           0.025366  \n",
       "75%           0.197780  \n",
       "max           0.508125  "
      ]
     },
     "execution_count": 46,
     "metadata": {},
     "output_type": "execute_result"
    }
   ],
   "source": [
    "data_cs22_scaled_test.describe()"
   ]
  },
  {
   "cell_type": "code",
   "execution_count": 47,
   "metadata": {
    "colab": {
     "base_uri": "https://localhost:8080/",
     "height": 486
    },
    "id": "rofJRMd-S4VB",
    "outputId": "07b5208b-a5a7-495e-b024-e28e644daaf6"
   },
   "outputs": [
    {
     "data": {
      "image/png": "[encoded data removed]",
      "text/plain": [
       "<Figure size 864x360 with 2 Axes>"
      ]
     },
     "metadata": {
      "needs_background": "light"
     },
     "output_type": "display_data"
    }
   ],
   "source": [
    "draw_kde(x_col_list, data, data_cs21_scaled, 'до масштабирования', 'после масштабирования')"
   ]
  },
  {
   "cell_type": "code",
   "execution_count": 48,
   "metadata": {
    "colab": {
     "base_uri": "https://localhost:8080/",
     "height": 468
    },
    "id": "R8fFD1rhS74o",
    "outputId": "ab5d7e4b-02d3-4b5d-84bf-ddef0a78350a"
   },
   "outputs": [
    {
     "data": {
      "image/png": "[encoded data removed]",
      "text/plain": [
       "<Figure size 864x360 with 2 Axes>"
      ]
     },
     "metadata": {
      "needs_background": "light"
     },
     "output_type": "display_data"
    }
   ],
   "source": [
    "draw_kde(x_col_list, data_cs22_scaled_train, data_cs22_scaled_test, 'обучающая', 'тестовая')"
   ]
  },
  {
   "cell_type": "markdown",
   "metadata": {
    "id": "EBvpAcmRTAIm"
   },
   "source": [
    "### MinMax масштабирование"
   ]
  },
  {
   "cell_type": "code",
   "execution_count": 49,
   "metadata": {
    "colab": {
     "base_uri": "https://localhost:8080/",
     "height": 300
    },
    "id": "NjErEOaKTCtJ",
    "outputId": "2b81a40c-a878-4785-90a1-79ab300db947"
   },
   "outputs": [
    {
     "data": {
      "text/html": [
       "<div>\n",
       "<style scoped>\n",
       "    .dataframe tbody tr th:only-of-type {\n",
       "        vertical-align: middle;\n",
       "    }\n",
       "\n",
       "    .dataframe tbody tr th {\n",
       "        vertical-align: top;\n",
       "    }\n",
       "\n",
       "    .dataframe thead th {\n",
       "        text-align: right;\n",
       "    }\n",
       "</style>\n",
       "<table border=\"1\" class=\"dataframe\">\n",
       "  <thead>\n",
       "    <tr style=\"text-align: right;\">\n",
       "      <th></th>\n",
       "      <th>online_order</th>\n",
       "      <th>book_table</th>\n",
       "      <th>location</th>\n",
       "      <th>rest_type</th>\n",
       "      <th>cuisines</th>\n",
       "      <th>approx_cost(for two people)</th>\n",
       "      <th>menu_item</th>\n",
       "      <th>listed_in(type)</th>\n",
       "      <th>listed_in(city)</th>\n",
       "    </tr>\n",
       "  </thead>\n",
       "  <tbody>\n",
       "    <tr>\n",
       "      <th>count</th>\n",
       "      <td>41263.000000</td>\n",
       "      <td>41263.000000</td>\n",
       "      <td>41263.000000</td>\n",
       "      <td>41263.000000</td>\n",
       "      <td>41263.000000</td>\n",
       "      <td>41263.000000</td>\n",
       "      <td>41263.000000</td>\n",
       "      <td>41263.000000</td>\n",
       "      <td>41263.000000</td>\n",
       "    </tr>\n",
       "    <tr>\n",
       "      <th>mean</th>\n",
       "      <td>0.656811</td>\n",
       "      <td>0.847224</td>\n",
       "      <td>0.392474</td>\n",
       "      <td>0.526625</td>\n",
       "      <td>0.510921</td>\n",
       "      <td>0.094616</td>\n",
       "      <td>0.026840</td>\n",
       "      <td>0.467824</td>\n",
       "      <td>0.491536</td>\n",
       "    </tr>\n",
       "    <tr>\n",
       "      <th>std</th>\n",
       "      <td>0.474780</td>\n",
       "      <td>0.359776</td>\n",
       "      <td>0.290180</td>\n",
       "      <td>0.303316</td>\n",
       "      <td>0.283483</td>\n",
       "      <td>0.078011</td>\n",
       "      <td>0.059109</td>\n",
       "      <td>0.195070</td>\n",
       "      <td>0.285429</td>\n",
       "    </tr>\n",
       "    <tr>\n",
       "      <th>min</th>\n",
       "      <td>0.000000</td>\n",
       "      <td>0.000000</td>\n",
       "      <td>0.000000</td>\n",
       "      <td>0.000000</td>\n",
       "      <td>0.000000</td>\n",
       "      <td>0.000000</td>\n",
       "      <td>0.000000</td>\n",
       "      <td>0.000000</td>\n",
       "      <td>0.000000</td>\n",
       "    </tr>\n",
       "    <tr>\n",
       "      <th>25%</th>\n",
       "      <td>0.000000</td>\n",
       "      <td>1.000000</td>\n",
       "      <td>0.131868</td>\n",
       "      <td>0.279070</td>\n",
       "      <td>0.249366</td>\n",
       "      <td>0.043624</td>\n",
       "      <td>0.000000</td>\n",
       "      <td>0.333333</td>\n",
       "      <td>0.241379</td>\n",
       "    </tr>\n",
       "    <tr>\n",
       "      <th>50%</th>\n",
       "      <td>1.000000</td>\n",
       "      <td>1.000000</td>\n",
       "      <td>0.340659</td>\n",
       "      <td>0.430233</td>\n",
       "      <td>0.530431</td>\n",
       "      <td>0.077181</td>\n",
       "      <td>0.000000</td>\n",
       "      <td>0.333333</td>\n",
       "      <td>0.517241</td>\n",
       "    </tr>\n",
       "    <tr>\n",
       "      <th>75%</th>\n",
       "      <td>1.000000</td>\n",
       "      <td>1.000000</td>\n",
       "      <td>0.593407</td>\n",
       "      <td>0.848837</td>\n",
       "      <td>0.718512</td>\n",
       "      <td>0.119128</td>\n",
       "      <td>0.016391</td>\n",
       "      <td>0.666667</td>\n",
       "      <td>0.689655</td>\n",
       "    </tr>\n",
       "    <tr>\n",
       "      <th>max</th>\n",
       "      <td>1.000000</td>\n",
       "      <td>1.000000</td>\n",
       "      <td>1.000000</td>\n",
       "      <td>1.000000</td>\n",
       "      <td>1.000000</td>\n",
       "      <td>1.000000</td>\n",
       "      <td>1.000000</td>\n",
       "      <td>1.000000</td>\n",
       "      <td>1.000000</td>\n",
       "    </tr>\n",
       "  </tbody>\n",
       "</table>\n",
       "</div>"
      ],
      "text/plain": [
       "       online_order    book_table      location     rest_type      cuisines  \\\n",
       "count  41263.000000  41263.000000  41263.000000  41263.000000  41263.000000   \n",
       "mean       0.656811      0.847224      0.392474      0.526625      0.510921   \n",
       "std        0.474780      0.359776      0.290180      0.303316      0.283483   \n",
       "min        0.000000      0.000000      0.000000      0.000000      0.000000   \n",
       "25%        0.000000      1.000000      0.131868      0.279070      0.249366   \n",
       "50%        1.000000      1.000000      0.340659      0.430233      0.530431   \n",
       "75%        1.000000      1.000000      0.593407      0.848837      0.718512   \n",
       "max        1.000000      1.000000      1.000000      1.000000      1.000000   \n",
       "\n",
       "       approx_cost(for two people)     menu_item  listed_in(type)  \\\n",
       "count                 41263.000000  41263.000000     41263.000000   \n",
       "mean                      0.094616      0.026840         0.467824   \n",
       "std                       0.078011      0.059109         0.195070   \n",
       "min                       0.000000      0.000000         0.000000   \n",
       "25%                       0.043624      0.000000         0.333333   \n",
       "50%                       0.077181      0.000000         0.333333   \n",
       "75%                       0.119128      0.016391         0.666667   \n",
       "max                       1.000000      1.000000         1.000000   \n",
       "\n",
       "       listed_in(city)  \n",
       "count     41263.000000  \n",
       "mean          0.491536  \n",
       "std           0.285429  \n",
       "min           0.000000  \n",
       "25%           0.241379  \n",
       "50%           0.517241  \n",
       "75%           0.689655  \n",
       "max           1.000000  "
      ]
     },
     "execution_count": 49,
     "metadata": {},
     "output_type": "execute_result"
    }
   ],
   "source": [
    "# Обучаем StandardScaler на всей выборке и масштабируем\n",
    "cs31 = MinMaxScaler()\n",
    "data_cs31_scaled_temp = cs31.fit_transform(X_ALL)\n",
    "# формируем DataFrame на основе массива\n",
    "data_cs31_scaled = arr_to_df(data_cs31_scaled_temp)\n",
    "data_cs31_scaled.describe()"
   ]
  },
  {
   "cell_type": "code",
   "execution_count": 50,
   "metadata": {
    "id": "2tLvfihPTGAT"
   },
   "outputs": [],
   "source": [
    "cs32 = MinMaxScaler()\n",
    "cs32.fit(X_train)\n",
    "data_cs32_scaled_train_temp = cs32.transform(X_train)\n",
    "data_cs32_scaled_test_temp = cs32.transform(X_test)\n",
    "# формируем DataFrame на основе массива\n",
    "data_cs32_scaled_train = arr_to_df(data_cs32_scaled_train_temp)\n",
    "data_cs32_scaled_test = arr_to_df(data_cs32_scaled_test_temp)"
   ]
  },
  {
   "cell_type": "code",
   "execution_count": 51,
   "metadata": {
    "colab": {
     "base_uri": "https://localhost:8080/",
     "height": 486
    },
    "id": "1EAwUf-MTHjX",
    "outputId": "380f08b0-38f1-4341-a930-2709d7e544ff"
   },
   "outputs": [
    {
     "data": {
      "image/png": "[encoded data removed]",
      "text/plain": [
       "<Figure size 864x360 with 2 Axes>"
      ]
     },
     "metadata": {
      "needs_background": "light"
     },
     "output_type": "display_data"
    }
   ],
   "source": [
    "draw_kde(x_col_list, data, data_cs31_scaled, 'до масштабирования', 'после масштабирования')"
   ]
  },
  {
   "cell_type": "code",
   "execution_count": 52,
   "metadata": {
    "colab": {
     "base_uri": "https://localhost:8080/",
     "height": 468
    },
    "id": "IuInUWTpTI_K",
    "outputId": "5618c4c5-1c70-46ad-846a-b716fbd44851"
   },
   "outputs": [
    {
     "data": {
      "image/png": "[encoded data removed]",
      "text/plain": [
       "<Figure size 864x360 with 2 Axes>"
      ]
     },
     "metadata": {
      "needs_background": "light"
     },
     "output_type": "display_data"
    }
   ],
   "source": [
    "draw_kde(x_col_list, data_cs32_scaled_train, data_cs32_scaled_test, 'обучающая', 'тестовая')"
   ]
  },
  {
   "cell_type": "markdown",
   "metadata": {
    "id": "46prPtxOTQAE"
   },
   "source": [
    "## Обработка выбросов"
   ]
  },
  {
   "cell_type": "code",
   "execution_count": 53,
   "metadata": {
    "id": "5_yN66CcT2aA"
   },
   "outputs": [],
   "source": [
    "def diagnostic_plots(df, variable, title):\n",
    "    fig, ax = plt.subplots(figsize=(10,7))\n",
    "    # гистограмма\n",
    "    plt.subplot(2, 2, 1)\n",
    "    df[variable].hist(bins=30)\n",
    "    ## Q-Q plot\n",
    "    plt.subplot(2, 2, 2)\n",
    "    stats.probplot(df[variable], dist=\"norm\", plot=plt)\n",
    "    # ящик с усами\n",
    "    plt.subplot(2, 2, 3)\n",
    "    sns.violinplot(x=df[variable])\n",
    "    # ящик с усами\n",
    "    plt.subplot(2, 2, 4)\n",
    "    sns.boxplot(x=df[variable])\n",
    "    fig.suptitle(title)\n",
    "    plt.show()"
   ]
  },
  {
   "cell_type": "code",
   "execution_count": 54,
   "metadata": {
    "id": "H50-VuchT6p-"
   },
   "outputs": [],
   "source": [
    "from enum import Enum\n",
    "class OutlierBoundaryType(Enum):\n",
    "    SIGMA = 1\n",
    "    QUANTILE = 2\n",
    "    IRQ = 3"
   ]
  },
  {
   "cell_type": "code",
   "execution_count": 55,
   "metadata": {
    "id": "YHYIZ_62UFA6"
   },
   "outputs": [],
   "source": [
    "# Функция вычисления верхней и нижней границы выбросов\n",
    "def get_outlier_boundaries(df, col, outlier_boundary_type: OutlierBoundaryType):\n",
    "    if outlier_boundary_type == OutlierBoundaryType.SIGMA:\n",
    "        K1 = 3\n",
    "        lower_boundary = df[col].mean() - (K1 * df[col].std())\n",
    "        upper_boundary = df[col].mean() + (K1 * df[col].std())\n",
    "\n",
    "    elif outlier_boundary_type == OutlierBoundaryType.QUANTILE:\n",
    "        lower_boundary = df[col].quantile(0.05)\n",
    "        upper_boundary = df[col].quantile(0.95)\n",
    "\n",
    "    elif outlier_boundary_type == OutlierBoundaryType.IRQ:\n",
    "        K2 = 1.5\n",
    "        IQR = df[col].quantile(0.75) - df[col].quantile(0.25)\n",
    "        lower_boundary = df[col].quantile(0.25) - (K2 * IQR)\n",
    "        upper_boundary = df[col].quantile(0.75) + (K2 * IQR)\n",
    "\n",
    "    else:\n",
    "        raise NameError('Unknown Outlier Boundary Type')\n",
    "\n",
    "    return lower_boundary, upper_boundary"
   ]
  },
  {
   "cell_type": "markdown",
   "metadata": {
    "id": "hE_QsJnETSJb"
   },
   "source": [
    "### Удаление выбросов"
   ]
  },
  {
   "cell_type": "markdown",
   "metadata": {
    "id": "q_Lq-Pe1Wubi"
   },
   "source": [
    "Воспользуемся методом OutlierBoundaryType.SIGMA:"
   ]
  },
  {
   "cell_type": "code",
   "execution_count": 56,
   "metadata": {
    "colab": {
     "base_uri": "https://localhost:8080/",
     "height": 1000
    },
    "id": "sl0RSSe7TYmC",
    "outputId": "b5c5d9a8-3f03-494f-d8e5-0a189978549d"
   },
   "outputs": [
    {
     "data": {
      "image/png": "[encoded data removed]",
      "text/plain": [
       "<Figure size 720x504 with 4 Axes>"
      ]
     },
     "metadata": {
      "needs_background": "light"
     },
     "output_type": "display_data"
    },
    {
     "data": {
      "image/png": "[encoded data removed]",
      "text/plain": [
       "<Figure size 720x504 with 4 Axes>"
      ]
     },
     "metadata": {
      "needs_background": "light"
     },
     "output_type": "display_data"
    },
    {
     "data": {
      "image/png": "[encoded data removed]",
      "text/plain": [
       "<Figure size 720x504 with 4 Axes>"
      ]
     },
     "metadata": {
      "needs_background": "light"
     },
     "output_type": "display_data"
    }
   ],
   "source": [
    "for col in x_col_list:\n",
    "        # Вычисление верхней и нижней границы\n",
    "        lower_boundary, upper_boundary = get_outlier_boundaries(data, col, OutlierBoundaryType.SIGMA)\n",
    "        # Флаги для удаления выбросов\n",
    "        outliers_temp = np.where(data[col] > upper_boundary, True,\n",
    "                                 np.where(data[col] < lower_boundary, True, False))\n",
    "        # Удаление данных на основе флага\n",
    "        data_trimmed = data.loc[~(outliers_temp), ]\n",
    "        title = 'Поле-{}, метод-{}, строк-{}'.format(col, OutlierBoundaryType.SIGMA, data_trimmed.shape[0])\n",
    "        diagnostic_plots(data_trimmed, col, title)"
   ]
  },
  {
   "cell_type": "markdown",
   "metadata": {
    "id": "jdficH0PWP5l"
   },
   "source": [
    "### Замена выбросов"
   ]
  },
  {
   "cell_type": "markdown",
   "metadata": {
    "id": "O8aHb4hsW8it"
   },
   "source": [
    "Проведём замену выбросов с помощью метода OutlierBoundaryType.SIGMA:"
   ]
  },
  {
   "cell_type": "code",
   "execution_count": 57,
   "metadata": {
    "colab": {
     "base_uri": "https://localhost:8080/",
     "height": 1000
    },
    "id": "9GICemgIWR5U",
    "outputId": "1461cc10-145b-41c7-9eec-ac4c555565c3"
   },
   "outputs": [
    {
     "data": {
      "image/png": "[encoded data removed]",
      "text/plain": [
       "<Figure size 720x504 with 4 Axes>"
      ]
     },
     "metadata": {
      "needs_background": "light"
     },
     "output_type": "display_data"
    },
    {
     "data": {
      "image/png": "[encoded data removed]",
      "text/plain": [
       "<Figure size 720x504 with 4 Axes>"
      ]
     },
     "metadata": {
      "needs_background": "light"
     },
     "output_type": "display_data"
    },
    {
     "data": {
      "image/png": "[encoded data removed]",
      "text/plain": [
       "<Figure size 720x504 with 4 Axes>"
      ]
     },
     "metadata": {
      "needs_background": "light"
     },
     "output_type": "display_data"
    }
   ],
   "source": [
    "for col in x_col_list:\n",
    "        # Вычисление верхней и нижней границы\n",
    "        lower_boundary, upper_boundary = get_outlier_boundaries(data, col, OutlierBoundaryType.SIGMA)\n",
    "        # Изменение данных\n",
    "        data[col] = np.where(data[col] > upper_boundary, upper_boundary,\n",
    "                                 np.where(data[col] < lower_boundary, lower_boundary, data[col]))\n",
    "        title = 'Поле-{}, метод-{}'.format(col, OutlierBoundaryType.SIGMA)\n",
    "        diagnostic_plots(data, col, title)"
   ]
  },
  {
   "cell_type": "markdown",
   "metadata": {
    "id": "23JG7jADeMA9"
   },
   "source": [
    "## Отбор признаков"
   ]
  },
  {
   "cell_type": "markdown",
   "metadata": {
    "id": "azWDEZMCeTuj"
   },
   "source": [
    "### Метод фильтрации (filter)"
   ]
  },
  {
   "cell_type": "markdown",
   "metadata": {
    "id": "W213PvZEet8P"
   },
   "source": [
    "Воспользуемся методом \"Удаление константных и псевдоконстантных (почти константных) признаков\"."
   ]
  },
  {
   "cell_type": "code",
   "execution_count": 58,
   "metadata": {
    "colab": {
     "base_uri": "https://localhost:8080/"
    },
    "id": "H137aRZcejZs",
    "outputId": "7511bbb2-09cc-430c-eb0e-4aae0b2210ae"
   },
   "outputs": [
    {
     "data": {
      "text/plain": [
       "4313"
      ]
     },
     "execution_count": 58,
     "metadata": {},
     "output_type": "execute_result"
    }
   ],
   "source": [
    "len(data['menu_item'].unique())"
   ]
  },
  {
   "cell_type": "markdown",
   "metadata": {
    "id": "DkwomKbSSKcb"
   },
   "source": [
    "С помощью VarianceThreshold попробуем обнаружить больше таких признаков:"
   ]
  },
  {
   "cell_type": "code",
   "execution_count": 59,
   "metadata": {
    "id": "mphAQGGQQ9cE"
   },
   "outputs": [],
   "source": [
    "from sklearn.feature_selection import VarianceThreshold"
   ]
  },
  {
   "cell_type": "code",
   "execution_count": 60,
   "metadata": {
    "colab": {
     "base_uri": "https://localhost:8080/"
    },
    "id": "p8x0-r8NSjjT",
    "outputId": "3d8a366e-6313-4234-d1c9-c4b2af448238"
   },
   "outputs": [
    {
     "data": {
      "text/plain": [
       "array([3.77493379e+07, 6.24213032e-02, 1.93581975e+01, 6.97281019e+02,\n",
       "       6.80421281e+02, 4.49855252e+05, 1.72655069e+05, 2.15402825e+06,\n",
       "       1.36985021e+00, 6.85144945e+01])"
      ]
     },
     "execution_count": 60,
     "metadata": {},
     "output_type": "execute_result"
    }
   ],
   "source": [
    "selector = VarianceThreshold(threshold=0.15)\n",
    "selector.fit(data)\n",
    "# Значения дисперсий для каждого признака\n",
    "selector.variances_"
   ]
  },
  {
   "cell_type": "markdown",
   "metadata": {
    "id": "mjnKqwlhSoe3"
   },
   "source": [
    "Удалим константные и псевдоконстантные признаки:"
   ]
  },
  {
   "cell_type": "code",
   "execution_count": 61,
   "metadata": {
    "colab": {
     "base_uri": "https://localhost:8080/"
    },
    "id": "KhdbLztFSsZ2",
    "outputId": "bffb6e91-a885-4155-8554-7932f470a11e"
   },
   "outputs": [
    {
     "data": {
      "text/plain": [
       "array([[2.7102e+04, 4.1000e+01, 1.0000e+00, ..., 2.0000e+00, 0.0000e+00,\n",
       "        1.0000e+00],\n",
       "       [2.7102e+04, 4.1000e+01, 1.0000e+00, ..., 2.0000e+00, 0.0000e+00,\n",
       "        1.0000e+00],\n",
       "       [2.7102e+04, 3.8000e+01, 1.0000e+00, ..., 2.0000e+00, 0.0000e+00,\n",
       "        1.0000e+00],\n",
       "       ...,\n",
       "       [1.4161e+04, 3.6000e+01, 8.8000e+01, ..., 2.0000e+00, 6.0000e+00,\n",
       "        2.9000e+01],\n",
       "       [1.4161e+04, 4.3000e+01, 2.6000e+01, ..., 2.0000e+00, 6.0000e+00,\n",
       "        2.9000e+01],\n",
       "       [1.4161e+04, 3.4000e+01, 2.6000e+01, ..., 2.0000e+00, 6.0000e+00,\n",
       "        2.9000e+01]])"
      ]
     },
     "execution_count": 61,
     "metadata": {},
     "output_type": "execute_result"
    }
   ],
   "source": [
    "selector.transform(data)"
   ]
  },
  {
   "cell_type": "markdown",
   "metadata": {
    "id": "QYne9WfieXUo"
   },
   "source": [
    "### Метод обертывания (wrapper)"
   ]
  },
  {
   "cell_type": "markdown",
   "metadata": {
    "id": "c675VCcVhS9A"
   },
   "source": [
    "Будем использовать алгоритм полного перебора."
   ]
  },
  {
   "cell_type": "code",
   "execution_count": 62,
   "metadata": {
    "id": "zA4Z0jy5ej71"
   },
   "outputs": [],
   "source": [
    "from mlxtend.feature_selection import ExhaustiveFeatureSelector as EFS\n",
    "from sklearn.neighbors import KNeighborsClassifier\n",
    "\n",
    "knn = KNeighborsClassifier(n_neighbors=3)"
   ]
  },
  {
   "cell_type": "code",
   "execution_count": 64,
   "metadata": {
    "id": "Omdsprq4rKUx"
   },
   "outputs": [
    {
     "name": "stderr",
     "output_type": "stream",
     "text": [
      "Features: 246/246"
     ]
    },
    {
     "name": "stdout",
     "output_type": "stream",
     "text": [
      "Best accuracy score: 0.65\n",
      "Best subset (indices): (2, 3, 4, 5)\n",
      "Best subset (corresponding names): ('location', 'rest_type', 'cuisines', 'approx_cost(for two people)')\n"
     ]
    }
   ],
   "source": [
    "efs1 = EFS(knn,\n",
    "           min_features=2,\n",
    "           max_features=4,\n",
    "           scoring='accuracy',\n",
    "           print_progress=True,\n",
    "           cv=4)\n",
    "\n",
    "efs1 = efs1.fit(X_train, y_train)\n",
    "\n",
    "print('Best accuracy score: %.2f' % efs1.best_score_)\n",
    "print('Best subset (indices):', efs1.best_idx_)\n",
    "print('Best subset (corresponding names):', efs1.best_feature_names_)"
   ]
  },
  {
   "cell_type": "markdown",
   "metadata": {
    "id": "Dr2MaUELpMSZ"
   },
   "source": [
    "Набор очень большой, применять данный метод к нему очень трудозатратно, ядро не справляется."
   ]
  },
  {
   "cell_type": "markdown",
   "metadata": {
    "id": "0CXZH59DeaUj"
   },
   "source": [
    "### Метод вложений (embedded)"
   ]
  },
  {
   "cell_type": "markdown",
   "metadata": {
    "id": "xAEo1gFoeu_W"
   },
   "source": [
    "Применим линейную регрессию:"
   ]
  },
  {
   "cell_type": "code",
   "execution_count": 65,
   "metadata": {
    "id": "lx0E76aje-dX"
   },
   "outputs": [],
   "source": [
    "from sklearn.linear_model import Lasso"
   ]
  },
  {
   "cell_type": "code",
   "execution_count": 66,
   "metadata": {
    "colab": {
     "base_uri": "https://localhost:8080/"
    },
    "id": "QdcjDv4SekYv",
    "outputId": "5a217597-8357-47a9-a880-ac0c7d03af1d"
   },
   "outputs": [
    {
     "data": {
      "text/plain": [
       "[('online_order', 9.587560889424847e-05),\n",
       " ('book_table', -0.0),\n",
       " ('rate', 0.0035244206406411494),\n",
       " ('location', -0.013149794651649695),\n",
       " ('rest_type', -0.0002633022938218233),\n",
       " ('cuisines', 0.003541090138488024),\n",
       " ('approx_cost(for two people)', 2.1329815051364655e-05),\n",
       " ('menu_item', 0.0),\n",
       " ('listed_in(type)', -0.0)]"
      ]
     },
     "execution_count": 66,
     "metadata": {},
     "output_type": "execute_result"
    }
   ],
   "source": [
    "# Используем L1-регуляризацию\n",
    "e_ls1 = Lasso(random_state=1)\n",
    "e_ls1.fit(X_train, y_train)\n",
    "# Коэффициенты регрессии\n",
    "list(zip(data.columns.tolist(), e_ls1.coef_))"
   ]
  },
  {
   "cell_type": "code",
   "execution_count": 67,
   "metadata": {
    "id": "0xxmWUPsqxpw"
   },
   "outputs": [],
   "source": [
    "from sklearn.feature_selection import SelectFromModel"
   ]
  },
  {
   "cell_type": "code",
   "execution_count": 68,
   "metadata": {
    "colab": {
     "base_uri": "https://localhost:8080/"
    },
    "id": "b4FQWy0Eqs3T",
    "outputId": "1cd2903e-aa99-4ad2-e408-1f4edde8d7f1"
   },
   "outputs": [
    {
     "data": {
      "text/plain": [
       "[('online_order', True),\n",
       " ('book_table', False),\n",
       " ('rate', True),\n",
       " ('location', True),\n",
       " ('rest_type', True),\n",
       " ('cuisines', True),\n",
       " ('approx_cost(for two people)', True),\n",
       " ('menu_item', False),\n",
       " ('listed_in(type)', False)]"
      ]
     },
     "execution_count": 68,
     "metadata": {},
     "output_type": "execute_result"
    }
   ],
   "source": [
    "sel_e_ls1 = SelectFromModel(e_ls1)\n",
    "sel_e_ls1.fit(X_train, y_train)\n",
    "list(zip(data.columns.tolist(), sel_e_ls1.get_support()))"
   ]
  }
 ],
 "metadata": {
  "colab": {
   "provenance": []
  },
  "kernelspec": {
   "display_name": "Python 3 (ipykernel)",
   "language": "python",
   "name": "python3"
  },
  "language_info": {
   "codemirror_mode": {
    "name": "ipython",
    "version": 3
   },
   "file_extension": ".py",
   "mimetype": "text/x-python",
   "name": "python",
   "nbconvert_exporter": "python",
   "pygments_lexer": "ipython3",
   "version": "3.9.7"
  }
 },
 "nbformat": 4,
 "nbformat_minor": 4
}
