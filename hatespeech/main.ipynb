{
 "cells": [
  {
   "cell_type": "markdown",
   "metadata": {},
   "source": [
    "# Hate Speech Detection"
   ]
  },
  {
   "cell_type": "code",
   "execution_count": 1,
   "metadata": {},
   "outputs": [],
   "source": [
    "import pandas as panda\n",
    "from nltk.tokenize import word_tokenize\n",
    "from nltk.corpus import stopwords\n",
    "from nltk.stem.porter import *\n",
    "import string\n",
    "import nltk\n",
    "from sklearn.feature_extraction.text import CountVectorizer\n",
    "from sklearn.feature_extraction.text import TfidfVectorizer\n",
    "from sklearn.metrics import confusion_matrix\n",
    "import seaborn\n",
    "from textstat.textstat import *\n",
    "from sklearn.linear_model import LogisticRegression\n",
    "from sklearn.model_selection import train_test_split\n",
    "from sklearn.metrics import f1_score\n",
    "from sklearn.feature_selection import SelectFromModel\n",
    "from sklearn.metrics import classification_report\n",
    "from sklearn.metrics import accuracy_score\n",
    "from sklearn.svm import LinearSVC\n",
    "from sklearn.ensemble import RandomForestClassifier\n",
    "from sklearn.naive_bayes import GaussianNB\n",
    "import numpy as np\n",
    "from nltk.sentiment.vader import SentimentIntensityAnalyzer as VS\n",
    "import warnings\n",
    "warnings.simplefilter(action='ignore', category=FutureWarning)\n",
    "%matplotlib inline"
   ]
  },
  {
   "cell_type": "code",
   "execution_count": 2,
   "metadata": {},
   "outputs": [
    {
     "data": {
      "text/html": [
       "<div>\n",
       "<style scoped>\n",
       "    .dataframe tbody tr th:only-of-type {\n",
       "        vertical-align: middle;\n",
       "    }\n",
       "\n",
       "    .dataframe tbody tr th {\n",
       "        vertical-align: top;\n",
       "    }\n",
       "\n",
       "    .dataframe thead th {\n",
       "        text-align: right;\n",
       "    }\n",
       "</style>\n",
       "<table border=\"1\" class=\"dataframe\">\n",
       "  <thead>\n",
       "    <tr style=\"text-align: right;\">\n",
       "      <th></th>\n",
       "      <th>Unnamed: 0</th>\n",
       "      <th>count</th>\n",
       "      <th>hate_speech</th>\n",
       "      <th>offensive_language</th>\n",
       "      <th>neither</th>\n",
       "      <th>class</th>\n",
       "      <th>tweet</th>\n",
       "    </tr>\n",
       "  </thead>\n",
       "  <tbody>\n",
       "    <tr>\n",
       "      <th>0</th>\n",
       "      <td>0</td>\n",
       "      <td>3</td>\n",
       "      <td>0</td>\n",
       "      <td>0</td>\n",
       "      <td>3</td>\n",
       "      <td>2</td>\n",
       "      <td>!!! RT @mayasolovely: As a woman you shouldn't...</td>\n",
       "    </tr>\n",
       "    <tr>\n",
       "      <th>1</th>\n",
       "      <td>1</td>\n",
       "      <td>3</td>\n",
       "      <td>0</td>\n",
       "      <td>3</td>\n",
       "      <td>0</td>\n",
       "      <td>1</td>\n",
       "      <td>!!!!! RT @mleew17: boy dats cold...tyga dwn ba...</td>\n",
       "    </tr>\n",
       "    <tr>\n",
       "      <th>2</th>\n",
       "      <td>2</td>\n",
       "      <td>3</td>\n",
       "      <td>0</td>\n",
       "      <td>3</td>\n",
       "      <td>0</td>\n",
       "      <td>1</td>\n",
       "      <td>!!!!!!! RT @UrKindOfBrand Dawg!!!! RT @80sbaby...</td>\n",
       "    </tr>\n",
       "    <tr>\n",
       "      <th>3</th>\n",
       "      <td>3</td>\n",
       "      <td>3</td>\n",
       "      <td>0</td>\n",
       "      <td>2</td>\n",
       "      <td>1</td>\n",
       "      <td>1</td>\n",
       "      <td>!!!!!!!!! RT @C_G_Anderson: @viva_based she lo...</td>\n",
       "    </tr>\n",
       "    <tr>\n",
       "      <th>4</th>\n",
       "      <td>4</td>\n",
       "      <td>6</td>\n",
       "      <td>0</td>\n",
       "      <td>6</td>\n",
       "      <td>0</td>\n",
       "      <td>1</td>\n",
       "      <td>!!!!!!!!!!!!! RT @ShenikaRoberts: The shit you...</td>\n",
       "    </tr>\n",
       "    <tr>\n",
       "      <th>...</th>\n",
       "      <td>...</td>\n",
       "      <td>...</td>\n",
       "      <td>...</td>\n",
       "      <td>...</td>\n",
       "      <td>...</td>\n",
       "      <td>...</td>\n",
       "      <td>...</td>\n",
       "    </tr>\n",
       "    <tr>\n",
       "      <th>24778</th>\n",
       "      <td>25291</td>\n",
       "      <td>3</td>\n",
       "      <td>0</td>\n",
       "      <td>2</td>\n",
       "      <td>1</td>\n",
       "      <td>1</td>\n",
       "      <td>you's a muthaf***in lie &amp;#8220;@LifeAsKing: @2...</td>\n",
       "    </tr>\n",
       "    <tr>\n",
       "      <th>24779</th>\n",
       "      <td>25292</td>\n",
       "      <td>3</td>\n",
       "      <td>0</td>\n",
       "      <td>1</td>\n",
       "      <td>2</td>\n",
       "      <td>2</td>\n",
       "      <td>you've gone and broke the wrong heart baby, an...</td>\n",
       "    </tr>\n",
       "    <tr>\n",
       "      <th>24780</th>\n",
       "      <td>25294</td>\n",
       "      <td>3</td>\n",
       "      <td>0</td>\n",
       "      <td>3</td>\n",
       "      <td>0</td>\n",
       "      <td>1</td>\n",
       "      <td>young buck wanna eat!!.. dat nigguh like I ain...</td>\n",
       "    </tr>\n",
       "    <tr>\n",
       "      <th>24781</th>\n",
       "      <td>25295</td>\n",
       "      <td>6</td>\n",
       "      <td>0</td>\n",
       "      <td>6</td>\n",
       "      <td>0</td>\n",
       "      <td>1</td>\n",
       "      <td>youu got wild bitches tellin you lies</td>\n",
       "    </tr>\n",
       "    <tr>\n",
       "      <th>24782</th>\n",
       "      <td>25296</td>\n",
       "      <td>3</td>\n",
       "      <td>0</td>\n",
       "      <td>0</td>\n",
       "      <td>3</td>\n",
       "      <td>2</td>\n",
       "      <td>~~Ruffled | Ntac Eileen Dahlia - Beautiful col...</td>\n",
       "    </tr>\n",
       "  </tbody>\n",
       "</table>\n",
       "<p>24783 rows × 7 columns</p>\n",
       "</div>"
      ],
      "text/plain": [
       "       Unnamed: 0  count  hate_speech  offensive_language  neither  class  \\\n",
       "0               0      3            0                   0        3      2   \n",
       "1               1      3            0                   3        0      1   \n",
       "2               2      3            0                   3        0      1   \n",
       "3               3      3            0                   2        1      1   \n",
       "4               4      6            0                   6        0      1   \n",
       "...           ...    ...          ...                 ...      ...    ...   \n",
       "24778       25291      3            0                   2        1      1   \n",
       "24779       25292      3            0                   1        2      2   \n",
       "24780       25294      3            0                   3        0      1   \n",
       "24781       25295      6            0                   6        0      1   \n",
       "24782       25296      3            0                   0        3      2   \n",
       "\n",
       "                                                   tweet  \n",
       "0      !!! RT @mayasolovely: As a woman you shouldn't...  \n",
       "1      !!!!! RT @mleew17: boy dats cold...tyga dwn ba...  \n",
       "2      !!!!!!! RT @UrKindOfBrand Dawg!!!! RT @80sbaby...  \n",
       "3      !!!!!!!!! RT @C_G_Anderson: @viva_based she lo...  \n",
       "4      !!!!!!!!!!!!! RT @ShenikaRoberts: The shit you...  \n",
       "...                                                  ...  \n",
       "24778  you's a muthaf***in lie &#8220;@LifeAsKing: @2...  \n",
       "24779  you've gone and broke the wrong heart baby, an...  \n",
       "24780  young buck wanna eat!!.. dat nigguh like I ain...  \n",
       "24781              youu got wild bitches tellin you lies  \n",
       "24782  ~~Ruffled | Ntac Eileen Dahlia - Beautiful col...  \n",
       "\n",
       "[24783 rows x 7 columns]"
      ]
     },
     "execution_count": 2,
     "metadata": {},
     "output_type": "execute_result"
    }
   ],
   "source": [
    "dataset = panda.read_csv(\"../data/HateSpeechData.csv\")\n",
    "dataset"
   ]
  },
  {
   "cell_type": "code",
   "execution_count": 3,
   "metadata": {},
   "outputs": [
    {
     "name": "stdout",
     "output_type": "stream",
     "text": [
      "   Unnamed: 0  count  hate_speech  offensive_language  neither  class  \\\n",
      "0           0      3            0                   0        3      2   \n",
      "1           1      3            0                   3        0      1   \n",
      "2           2      3            0                   3        0      1   \n",
      "3           3      3            0                   2        1      1   \n",
      "4           4      6            0                   6        0      1   \n",
      "\n",
      "                                               tweet  text length  \n",
      "0  !!! RT @mayasolovely: As a woman you shouldn't...          140  \n",
      "1  !!!!! RT @mleew17: boy dats cold...tyga dwn ba...           85  \n",
      "2  !!!!!!! RT @UrKindOfBrand Dawg!!!! RT @80sbaby...          120  \n",
      "3  !!!!!!!!! RT @C_G_Anderson: @viva_based she lo...           62  \n",
      "4  !!!!!!!!!!!!! RT @ShenikaRoberts: The shit you...          137  \n"
     ]
    }
   ],
   "source": [
    "# Добавляем поле с длиной твита\n",
    "dataset['text length'] = dataset['tweet'].apply(len)\n",
    "print(dataset.head())"
   ]
  },
  {
   "cell_type": "code",
   "execution_count": 4,
   "metadata": {},
   "outputs": [
    {
     "data": {
      "text/plain": [
       "<seaborn.axisgrid.FacetGrid at 0x7fd7b84cf9a0>"
      ]
     },
     "execution_count": 4,
     "metadata": {},
     "output_type": "execute_result"
    },
    {
     "data": {
      "image/png": "[encoded data removed]",
      "text/plain": [
       "<Figure size 648x216 with 3 Axes>"
      ]
     },
     "metadata": {
      "needs_background": "light"
     },
     "output_type": "display_data"
    }
   ],
   "source": [
    "import seaborn as sns\n",
    "import matplotlib.pyplot as plt\n",
    "graph = sns.FacetGrid(data=dataset, col='class')\n",
    "graph.map(plt.hist, 'text length', bins=50)"
   ]
  },
  {
   "cell_type": "markdown",
   "metadata": {},
   "source": [
    "1. Распределение длины текста почти одинаково во всех трех классах\n",
    "2. Количество твитов класса 1 намного выше"
   ]
  },
  {
   "cell_type": "code",
   "execution_count": 5,
   "metadata": {},
   "outputs": [
    {
     "data": {
      "text/plain": [
       "<AxesSubplot:xlabel='class', ylabel='text length'>"
      ]
     },
     "execution_count": 5,
     "metadata": {},
     "output_type": "execute_result"
    },
    {
     "data": {
      "image/png": "[encoded data removed]",
      "text/plain": [
       "<Figure size 432x288 with 1 Axes>"
      ]
     },
     "metadata": {
      "needs_background": "light"
     },
     "output_type": "display_data"
    }
   ],
   "source": [
    "sns.boxplot(x='class', y='text length', data=dataset)"
   ]
  },
  {
   "cell_type": "markdown",
   "metadata": {},
   "source": [
    "Судя по диаграмме, твиты класса 1 содержат гораздо более длинный текст. Также присутствуют выбросы, поэтому длину текста не стоит учитывать"
   ]
  },
  {
   "cell_type": "code",
   "execution_count": 6,
   "metadata": {},
   "outputs": [
    {
     "data": {
      "text/plain": [
       "<AxesSubplot:>"
      ]
     },
     "execution_count": 6,
     "metadata": {},
     "output_type": "execute_result"
    },
    {
     "data": {
      "image/png": "[encoded data removed]",
      "text/plain": [
       "<Figure size 432x288 with 1 Axes>"
      ]
     },
     "metadata": {
      "needs_background": "light"
     },
     "output_type": "display_data"
    }
   ],
   "source": [
    "dataset['class'].hist()"
   ]
  },
  {
   "cell_type": "markdown",
   "metadata": {},
   "source": [
    "Большинство твитов оскорбительные"
   ]
  },
  {
   "cell_type": "code",
   "execution_count": 7,
   "metadata": {},
   "outputs": [],
   "source": [
    "tweet=dataset.tweet"
   ]
  },
  {
   "cell_type": "markdown",
   "metadata": {},
   "source": [
    "## Предобработка"
   ]
  },
  {
   "cell_type": "code",
   "execution_count": 8,
   "metadata": {},
   "outputs": [
    {
     "name": "stdout",
     "output_type": "stream",
     "text": [
      "                                               tweet  \\\n",
      "0  !!! RT @mayasolovely: As a woman you shouldn't...   \n",
      "1  !!!!! RT @mleew17: boy dats cold...tyga dwn ba...   \n",
      "2  !!!!!!! RT @UrKindOfBrand Dawg!!!! RT @80sbaby...   \n",
      "3  !!!!!!!!! RT @C_G_Anderson: @viva_based she lo...   \n",
      "4  !!!!!!!!!!!!! RT @ShenikaRoberts: The shit you...   \n",
      "5  !!!!!!!!!!!!!!!!!!\"@T_Madison_x: The shit just...   \n",
      "6  !!!!!!\"@__BrighterDays: I can not just sit up ...   \n",
      "7  !!!!&#8220;@selfiequeenbri: cause I'm tired of...   \n",
      "8  \" &amp; you might not get ya bitch back &amp; ...   \n",
      "9  \" @rhythmixx_ :hobbies include: fighting Maria...   \n",
      "\n",
      "                                    processed_tweets  \n",
      "0  woman complain clean hous amp man alway take t...  \n",
      "1  boy dat cold tyga dwn bad cuffin dat hoe st place  \n",
      "2         dawg ever fuck bitch start cri confus shit  \n",
      "3                                   look like tranni  \n",
      "4     shit hear might true might faker bitch told ya  \n",
      "5      shit blow claim faith somebodi still fuck hoe  \n",
      "6              sit hate anoth bitch got much shit go  \n",
      "7            caus tire big bitch come us skinni girl  \n",
      "8               amp might get ya bitch back amp that  \n",
      "9                    hobbi includ fight mariam bitch  \n"
     ]
    }
   ],
   "source": [
    "## 1. Удаление знаков препинания и заглавных букв\n",
    "## 2. Токенизация\n",
    "## 3. Удаление стоп-слов\n",
    "## 4. Стемминг\n",
    "\n",
    "stopwords = nltk.corpus.stopwords.words(\"english\")\n",
    "\n",
    "#extending the stopwords to include other words used in twitter such as retweet(rt) etc.\n",
    "other_exclusions = [\"#ff\", \"ff\", \"rt\"]\n",
    "stopwords.extend(other_exclusions)\n",
    "stemmer = PorterStemmer()\n",
    "\n",
    "def preprocess(tweet):  \n",
    "    \n",
    "    # removal of extra spaces\n",
    "    regex_pat = re.compile(r'\\s+')\n",
    "    tweet_space = tweet.str.replace(regex_pat, ' ')\n",
    "\n",
    "    # removal of @name[mention]\n",
    "    regex_pat = re.compile(r'@[\\w\\-]+')\n",
    "    tweet_name = tweet_space.str.replace(regex_pat, '')\n",
    "\n",
    "    # removal of links[https://abc.com]\n",
    "    giant_url_regex =  re.compile('http[s]?://(?:[a-zA-Z]|[0-9]|[$-_@.&+]|'\n",
    "            '[!*\\(\\),]|(?:%[0-9a-fA-F][0-9a-fA-F]))+')\n",
    "    tweets = tweet_name.str.replace(giant_url_regex, '')\n",
    "    \n",
    "    # removal of punctuations and numbers\n",
    "    punc_remove = tweets.str.replace(\"[^a-zA-Z]\", \" \")\n",
    "    # remove whitespace with a single space\n",
    "    newtweet=punc_remove.str.replace(r'\\s+', ' ')\n",
    "    # remove leading and trailing whitespace\n",
    "    newtweet=newtweet.str.replace(r'^\\s+|\\s+?$','')\n",
    "    # replace normal numbers with numbr\n",
    "    newtweet=newtweet.str.replace(r'\\d+(\\.\\d+)?','numbr')\n",
    "    # removal of capitalization\n",
    "    tweet_lower = newtweet.str.lower()\n",
    "    \n",
    "    # tokenizing\n",
    "    tokenized_tweet = tweet_lower.apply(lambda x: x.split())\n",
    "    \n",
    "    # removal of stopwords\n",
    "    tokenized_tweet=  tokenized_tweet.apply(lambda x: [item for item in x if item not in stopwords])\n",
    "    \n",
    "    # stemming of the tweets\n",
    "    tokenized_tweet = tokenized_tweet.apply(lambda x: [stemmer.stem(i) for i in x]) \n",
    "    \n",
    "    for i in range(len(tokenized_tweet)):\n",
    "        tokenized_tweet[i] = ' '.join(tokenized_tweet[i])\n",
    "        tweets_p= tokenized_tweet\n",
    "    \n",
    "    return tweets_p\n",
    "\n",
    "processed_tweets = preprocess(tweet)   \n",
    "\n",
    "dataset['processed_tweets'] = processed_tweets\n",
    "print(dataset[[\"tweet\",\"processed_tweets\"]].head(10))"
   ]
  },
  {
   "cell_type": "markdown",
   "metadata": {},
   "source": [
    "## Построение доп признаков"
   ]
  },
  {
   "cell_type": "code",
   "execution_count": 9,
   "metadata": {},
   "outputs": [
    {
     "data": {
      "text/plain": [
       "<24783x6441 sparse matrix of type '<class 'numpy.float64'>'\n",
       "\twith 189618 stored elements in Compressed Sparse Row format>"
      ]
     },
     "execution_count": 9,
     "metadata": {},
     "output_type": "execute_result"
    }
   ],
   "source": [
    "#TF-IDF Features-F1\n",
    "# https://scikit-learn.org/stable/modules/generated/sklearn.feature_extraction.text.TfidfVectorizer.html\n",
    "tfidf_vectorizer = TfidfVectorizer(ngram_range=(1, 2),max_df=0.75, min_df=5, max_features=10000)\n",
    "\n",
    "# TF-IDF feature matrix\n",
    "tfidf = tfidf_vectorizer.fit_transform(dataset['processed_tweets'] )\n",
    "tfidf"
   ]
  },
  {
   "cell_type": "markdown",
   "metadata": {},
   "source": [
    "### Запуск различных моделей. Использование TFIDF без дополнительных признаков."
   ]
  },
  {
   "cell_type": "code",
   "execution_count": 10,
   "metadata": {},
   "outputs": [
    {
     "name": "stdout",
     "output_type": "stream",
     "text": [
      "              precision    recall  f1-score   support\n",
      "\n",
      "           0       0.56      0.18      0.27       290\n",
      "           1       0.92      0.96      0.94      3832\n",
      "           2       0.85      0.84      0.85       835\n",
      "\n",
      "    accuracy                           0.90      4957\n",
      "   macro avg       0.77      0.66      0.68      4957\n",
      "weighted avg       0.88      0.90      0.88      4957\n",
      "\n",
      "Logistic Regression, Accuracy Score: 0.8975186604801291\n"
     ]
    },
    {
     "name": "stderr",
     "output_type": "stream",
     "text": [
      "/Users/vadim/opt/anaconda3/lib/python3.9/site-packages/sklearn/linear_model/_logistic.py:763: ConvergenceWarning: lbfgs failed to converge (status=1):\n",
      "STOP: TOTAL NO. of ITERATIONS REACHED LIMIT.\n",
      "\n",
      "Increase the number of iterations (max_iter) or scale the data as shown in:\n",
      "    https://scikit-learn.org/stable/modules/preprocessing.html\n",
      "Please also refer to the documentation for alternative solver options:\n",
      "    https://scikit-learn.org/stable/modules/linear_model.html#logistic-regression\n",
      "  n_iter_i = _check_optimize_result(\n"
     ]
    }
   ],
   "source": [
    "# If you don't specify the random_state in the code, \n",
    "# then every time you run(execute) your code a new random value is generated \n",
    "# and the train and test datasets would have different values each time.\n",
    "X = tfidf\n",
    "y = dataset['class'].astype(int)\n",
    "X_train_tfidf, X_test_tfidf, y_train, y_test = train_test_split(X, y, random_state=42, test_size=0.2)\n",
    "model = LogisticRegression().fit(X_train_tfidf,y_train)\n",
    "y_preds = model.predict(X_test_tfidf)\n",
    "report = classification_report( y_test, y_preds )\n",
    "print(report)\n",
    "acc=accuracy_score(y_test,y_preds)\n",
    "print(\"Logistic Regression, Accuracy Score:\" , acc)\n"
   ]
  },
  {
   "cell_type": "code",
   "execution_count": 11,
   "metadata": {},
   "outputs": [
    {
     "name": "stdout",
     "output_type": "stream",
     "text": [
      "              precision    recall  f1-score   support\n",
      "\n",
      "           0       0.53      0.17      0.26       290\n",
      "           1       0.93      0.96      0.94      3832\n",
      "           2       0.83      0.91      0.87       835\n",
      "\n",
      "    accuracy                           0.90      4957\n",
      "   macro avg       0.76      0.68      0.69      4957\n",
      "weighted avg       0.89      0.90      0.89      4957\n",
      "\n",
      "Random Forest, Accuracy Score: 0.9035707080895703\n"
     ]
    }
   ],
   "source": [
    "X_train_tfidf, X_test_tfidf, y_train, y_test = train_test_split(X, y, random_state=42, test_size=0.2)\n",
    "rf=RandomForestClassifier()\n",
    "rf.fit(X_train_tfidf,y_train)\n",
    "y_preds = rf.predict(X_test_tfidf)\n",
    "acc1=accuracy_score(y_test,y_preds)\n",
    "report = classification_report( y_test, y_preds )\n",
    "print(report)\n",
    "print(\"Random Forest, Accuracy Score:\",acc1)"
   ]
  },
  {
   "cell_type": "code",
   "execution_count": 12,
   "metadata": {},
   "outputs": [
    {
     "name": "stdout",
     "output_type": "stream",
     "text": [
      "              precision    recall  f1-score   support\n",
      "\n",
      "           0       0.10      0.39      0.16       290\n",
      "           1       0.89      0.68      0.77      3832\n",
      "           2       0.54      0.58      0.56       835\n",
      "\n",
      "    accuracy                           0.65      4957\n",
      "   macro avg       0.51      0.55      0.50      4957\n",
      "weighted avg       0.79      0.65      0.70      4957\n",
      "\n",
      "Naive Bayes, Accuracy Score: 0.6491829735727255\n"
     ]
    }
   ],
   "source": [
    "X_train_tfidf, X_test_tfidf, y_train, y_test = train_test_split(X.toarray(), y, random_state=42, test_size=0.2)\n",
    "nb=GaussianNB()\n",
    "nb.fit(X_train_tfidf,y_train)\n",
    "y_preds = nb.predict(X_test_tfidf)\n",
    "acc2=accuracy_score(y_test,y_preds)\n",
    "report = classification_report( y_test, y_preds )\n",
    "print(report)\n",
    "print(\"Naive Bayes, Accuracy Score:\",acc2)"
   ]
  },
  {
   "cell_type": "code",
   "execution_count": 13,
   "metadata": {},
   "outputs": [
    {
     "name": "stdout",
     "output_type": "stream",
     "text": [
      "              precision    recall  f1-score   support\n",
      "\n",
      "           0       0.46      0.26      0.33       290\n",
      "           1       0.92      0.95      0.94      3832\n",
      "           2       0.83      0.85      0.84       835\n",
      "\n",
      "    accuracy                           0.89      4957\n",
      "   macro avg       0.74      0.69      0.70      4957\n",
      "weighted avg       0.88      0.89      0.89      4957\n",
      "\n",
      "SVM, Accuracy Score: 0.8932822271535202\n"
     ]
    }
   ],
   "source": [
    "support = LinearSVC(random_state=20)\n",
    "support.fit(X_train_tfidf,y_train)\n",
    "y_preds = support.predict(X_test_tfidf)\n",
    "acc3=accuracy_score(y_test,y_preds)\n",
    "report = classification_report( y_test, y_preds )\n",
    "print(report)\n",
    "print(\"SVM, Accuracy Score:\" , acc3)"
   ]
  },
  {
   "cell_type": "code",
   "execution_count": 14,
   "metadata": {},
   "outputs": [
    {
     "data": {
      "image/png": "[encoded data removed]",
      "text/plain": [
       "<Figure size 432x288 with 1 Axes>"
      ]
     },
     "metadata": {
      "needs_background": "light"
     },
     "output_type": "display_data"
    }
   ],
   "source": [
    "objects = ('Logistic', 'RandomForest', 'Naive_bayes', 'SVM')\n",
    "y_pos = np.arange(len(objects))\n",
    "performance = [acc,acc1,acc2,acc3]\n",
    "plt.bar(y_pos, performance, align='center', alpha=0.5)\n",
    "plt.xticks(y_pos, objects)\n",
    "plt.ylabel('Accuracy')\n",
    "plt.title('Algorithm Comparision for F1')\n",
    "plt.show()"
   ]
  },
  {
   "cell_type": "markdown",
   "metadata": {},
   "source": [
    "### Анализ тональности с использованием оценок полярности в качестве признаков"
   ]
  },
  {
   "cell_type": "code",
   "execution_count": 15,
   "metadata": {},
   "outputs": [
    {
     "data": {
      "text/html": [
       "<div>\n",
       "<style scoped>\n",
       "    .dataframe tbody tr th:only-of-type {\n",
       "        vertical-align: middle;\n",
       "    }\n",
       "\n",
       "    .dataframe tbody tr th {\n",
       "        vertical-align: top;\n",
       "    }\n",
       "\n",
       "    .dataframe thead th {\n",
       "        text-align: right;\n",
       "    }\n",
       "</style>\n",
       "<table border=\"1\" class=\"dataframe\">\n",
       "  <thead>\n",
       "    <tr style=\"text-align: right;\">\n",
       "      <th></th>\n",
       "      <th>Neg</th>\n",
       "      <th>Pos</th>\n",
       "      <th>Neu</th>\n",
       "      <th>Compound</th>\n",
       "      <th>url_tag</th>\n",
       "      <th>mention_tag</th>\n",
       "      <th>hash_tag</th>\n",
       "    </tr>\n",
       "  </thead>\n",
       "  <tbody>\n",
       "    <tr>\n",
       "      <th>0</th>\n",
       "      <td>0.000</td>\n",
       "      <td>0.120</td>\n",
       "      <td>0.880</td>\n",
       "      <td>0.4563</td>\n",
       "      <td>0.0</td>\n",
       "      <td>1.0</td>\n",
       "      <td>0.0</td>\n",
       "    </tr>\n",
       "    <tr>\n",
       "      <th>1</th>\n",
       "      <td>0.237</td>\n",
       "      <td>0.000</td>\n",
       "      <td>0.763</td>\n",
       "      <td>-0.6876</td>\n",
       "      <td>0.0</td>\n",
       "      <td>1.0</td>\n",
       "      <td>0.0</td>\n",
       "    </tr>\n",
       "    <tr>\n",
       "      <th>2</th>\n",
       "      <td>0.538</td>\n",
       "      <td>0.000</td>\n",
       "      <td>0.462</td>\n",
       "      <td>-0.9550</td>\n",
       "      <td>0.0</td>\n",
       "      <td>2.0</td>\n",
       "      <td>0.0</td>\n",
       "    </tr>\n",
       "    <tr>\n",
       "      <th>3</th>\n",
       "      <td>0.000</td>\n",
       "      <td>0.344</td>\n",
       "      <td>0.656</td>\n",
       "      <td>0.5673</td>\n",
       "      <td>0.0</td>\n",
       "      <td>2.0</td>\n",
       "      <td>0.0</td>\n",
       "    </tr>\n",
       "    <tr>\n",
       "      <th>4</th>\n",
       "      <td>0.249</td>\n",
       "      <td>0.081</td>\n",
       "      <td>0.669</td>\n",
       "      <td>-0.7762</td>\n",
       "      <td>0.0</td>\n",
       "      <td>1.0</td>\n",
       "      <td>1.0</td>\n",
       "    </tr>\n",
       "    <tr>\n",
       "      <th>...</th>\n",
       "      <td>...</td>\n",
       "      <td>...</td>\n",
       "      <td>...</td>\n",
       "      <td>...</td>\n",
       "      <td>...</td>\n",
       "      <td>...</td>\n",
       "      <td>...</td>\n",
       "    </tr>\n",
       "    <tr>\n",
       "      <th>24778</th>\n",
       "      <td>0.000</td>\n",
       "      <td>0.000</td>\n",
       "      <td>1.000</td>\n",
       "      <td>0.0000</td>\n",
       "      <td>0.0</td>\n",
       "      <td>3.0</td>\n",
       "      <td>3.0</td>\n",
       "    </tr>\n",
       "    <tr>\n",
       "      <th>24779</th>\n",
       "      <td>0.454</td>\n",
       "      <td>0.000</td>\n",
       "      <td>0.546</td>\n",
       "      <td>-0.8074</td>\n",
       "      <td>0.0</td>\n",
       "      <td>0.0</td>\n",
       "      <td>0.0</td>\n",
       "    </tr>\n",
       "    <tr>\n",
       "      <th>24780</th>\n",
       "      <td>0.000</td>\n",
       "      <td>0.219</td>\n",
       "      <td>0.781</td>\n",
       "      <td>0.4738</td>\n",
       "      <td>0.0</td>\n",
       "      <td>0.0</td>\n",
       "      <td>0.0</td>\n",
       "    </tr>\n",
       "    <tr>\n",
       "      <th>24781</th>\n",
       "      <td>0.573</td>\n",
       "      <td>0.000</td>\n",
       "      <td>0.427</td>\n",
       "      <td>-0.7717</td>\n",
       "      <td>0.0</td>\n",
       "      <td>0.0</td>\n",
       "      <td>0.0</td>\n",
       "    </tr>\n",
       "    <tr>\n",
       "      <th>24782</th>\n",
       "      <td>0.000</td>\n",
       "      <td>0.218</td>\n",
       "      <td>0.782</td>\n",
       "      <td>0.5994</td>\n",
       "      <td>1.0</td>\n",
       "      <td>0.0</td>\n",
       "      <td>0.0</td>\n",
       "    </tr>\n",
       "  </tbody>\n",
       "</table>\n",
       "<p>24783 rows × 7 columns</p>\n",
       "</div>"
      ],
      "text/plain": [
       "         Neg    Pos    Neu  Compound  url_tag  mention_tag  hash_tag\n",
       "0      0.000  0.120  0.880    0.4563      0.0          1.0       0.0\n",
       "1      0.237  0.000  0.763   -0.6876      0.0          1.0       0.0\n",
       "2      0.538  0.000  0.462   -0.9550      0.0          2.0       0.0\n",
       "3      0.000  0.344  0.656    0.5673      0.0          2.0       0.0\n",
       "4      0.249  0.081  0.669   -0.7762      0.0          1.0       1.0\n",
       "...      ...    ...    ...       ...      ...          ...       ...\n",
       "24778  0.000  0.000  1.000    0.0000      0.0          3.0       3.0\n",
       "24779  0.454  0.000  0.546   -0.8074      0.0          0.0       0.0\n",
       "24780  0.000  0.219  0.781    0.4738      0.0          0.0       0.0\n",
       "24781  0.573  0.000  0.427   -0.7717      0.0          0.0       0.0\n",
       "24782  0.000  0.218  0.782    0.5994      1.0          0.0       0.0\n",
       "\n",
       "[24783 rows x 7 columns]"
      ]
     },
     "execution_count": 15,
     "metadata": {},
     "output_type": "execute_result"
    }
   ],
   "source": [
    "\n",
    "sentiment_analyzer = VS()\n",
    "def count_tags(tweet_c):  \n",
    "    \n",
    "    space_pattern = '\\s+'\n",
    "    giant_url_regex = ('http[s]?://(?:[a-zA-Z]|[0-9]|[$-_@.&+]|'\n",
    "        '[!*\\(\\),]|(?:%[0-9a-fA-F][0-9a-fA-F]))+')\n",
    "    mention_regex = '@[\\w\\-]+'\n",
    "    hashtag_regex = '#[\\w\\-]+'\n",
    "    parsed_text = re.sub(space_pattern, ' ', tweet_c)\n",
    "    parsed_text = re.sub(giant_url_regex, 'URLHERE', parsed_text)\n",
    "    parsed_text = re.sub(mention_regex, 'MENTIONHERE', parsed_text)\n",
    "    parsed_text = re.sub(hashtag_regex, 'HASHTAGHERE', parsed_text)\n",
    "    return(parsed_text.count('URLHERE'),parsed_text.count('MENTIONHERE'),parsed_text.count('HASHTAGHERE'))\n",
    "\n",
    "def sentiment_analysis(tweet):   \n",
    "    sentiment = sentiment_analyzer.polarity_scores(tweet)    \n",
    "    twitter_objs = count_tags(tweet)\n",
    "    features = [sentiment['neg'], sentiment['pos'], sentiment['neu'], sentiment['compound'],twitter_objs[0], twitter_objs[1],\n",
    "                twitter_objs[2]]\n",
    "    #features = pandas.DataFrame(features)\n",
    "    return features\n",
    "\n",
    "def sentiment_analysis_array(tweets):\n",
    "    features=[]\n",
    "    for t in tweets:\n",
    "        features.append(sentiment_analysis(t))\n",
    "    return np.array(features)\n",
    "\n",
    "final_features = sentiment_analysis_array(tweet)\n",
    "#final_features\n",
    "\n",
    "new_features = panda.DataFrame({'Neg':final_features[:,0],'Pos':final_features[:,1],'Neu':final_features[:,2],'Compound':final_features[:,3],\n",
    "                            'url_tag':final_features[:,4],'mention_tag':final_features[:,5],'hash_tag':final_features[:,6]})\n",
    "new_features"
   ]
  },
  {
   "cell_type": "code",
   "execution_count": 16,
   "metadata": {},
   "outputs": [
    {
     "data": {
      "text/plain": [
       "(24783, 6448)"
      ]
     },
     "execution_count": 16,
     "metadata": {},
     "output_type": "execute_result"
    }
   ],
   "source": [
    "# F2-Conctaenation of tf-idf scores and sentiment scores\n",
    "tfidf_a = tfidf.toarray()\n",
    "modelling_features = np.concatenate([tfidf_a,final_features],axis=1)\n",
    "modelling_features.shape"
   ]
  },
  {
   "cell_type": "markdown",
   "metadata": {},
   "source": [
    "### Запуск различных моделей. Использование TFIDF и дополнительных признаков."
   ]
  },
  {
   "cell_type": "code",
   "execution_count": 17,
   "metadata": {},
   "outputs": [
    {
     "name": "stderr",
     "output_type": "stream",
     "text": [
      "/Users/vadim/opt/anaconda3/lib/python3.9/site-packages/sklearn/linear_model/_logistic.py:763: ConvergenceWarning: lbfgs failed to converge (status=1):\n",
      "STOP: TOTAL NO. of ITERATIONS REACHED LIMIT.\n",
      "\n",
      "Increase the number of iterations (max_iter) or scale the data as shown in:\n",
      "    https://scikit-learn.org/stable/modules/preprocessing.html\n",
      "Please also refer to the documentation for alternative solver options:\n",
      "    https://scikit-learn.org/stable/modules/linear_model.html#logistic-regression\n",
      "  n_iter_i = _check_optimize_result(\n"
     ]
    },
    {
     "name": "stdout",
     "output_type": "stream",
     "text": [
      "              precision    recall  f1-score   support\n",
      "\n",
      "           0       0.60      0.19      0.29       290\n",
      "           1       0.92      0.96      0.94      3832\n",
      "           2       0.85      0.84      0.85       835\n",
      "\n",
      "    accuracy                           0.90      4957\n",
      "   macro avg       0.79      0.67      0.69      4957\n",
      "weighted avg       0.89      0.90      0.89      4957\n",
      "\n",
      "Logistic Regression,Accuracy Score: 0.898930804922332\n"
     ]
    }
   ],
   "source": [
    "# Running the model Using TFIDF with some features from sentiment analysis\n",
    "\n",
    "X = panda.DataFrame(modelling_features)\n",
    "y = dataset['class'].astype(int)\n",
    "X_train_bow, X_test_bow, y_train, y_test = train_test_split(X, y, random_state=42, test_size=0.2)\n",
    "\n",
    "model = LogisticRegression().fit(X_train_bow,y_train)\n",
    "y_preds = model.predict(X_test_bow)\n",
    "report = classification_report( y_test, y_preds )\n",
    "print(report)\n",
    "acc=accuracy_score(y_test,y_preds)\n",
    "print(\"Logistic Regression,Accuracy Score:\" , acc)"
   ]
  },
  {
   "cell_type": "code",
   "execution_count": 18,
   "metadata": {},
   "outputs": [
    {
     "name": "stdout",
     "output_type": "stream",
     "text": [
      "              precision    recall  f1-score   support\n",
      "\n",
      "           0       0.49      0.13      0.21       290\n",
      "           1       0.91      0.97      0.94      3832\n",
      "           2       0.85      0.83      0.84       835\n",
      "\n",
      "    accuracy                           0.89      4957\n",
      "   macro avg       0.75      0.64      0.66      4957\n",
      "weighted avg       0.88      0.89      0.88      4957\n",
      "\n",
      "Random Forest, Accuracy Score: 0.8944926366754085\n"
     ]
    }
   ],
   "source": [
    "X = panda.DataFrame(modelling_features)\n",
    "y = dataset['class'].astype(int)\n",
    "X_train_bow, X_test_bow, y_train, y_test = train_test_split(X, y, random_state=42, test_size=0.2)\n",
    "rf=RandomForestClassifier()\n",
    "rf.fit(X_train_bow,y_train)\n",
    "y_preds = rf.predict(X_test_bow)\n",
    "acc1=accuracy_score(y_test,y_preds)\n",
    "report = classification_report( y_test, y_preds )\n",
    "print(report)\n",
    "print(\"Random Forest, Accuracy Score:\",acc1)"
   ]
  },
  {
   "cell_type": "code",
   "execution_count": 19,
   "metadata": {},
   "outputs": [
    {
     "name": "stdout",
     "output_type": "stream",
     "text": [
      "              precision    recall  f1-score   support\n",
      "\n",
      "           0       0.10      0.39      0.16       290\n",
      "           1       0.89      0.68      0.77      3832\n",
      "           2       0.54      0.59      0.56       835\n",
      "\n",
      "    accuracy                           0.65      4957\n",
      "   macro avg       0.51      0.55      0.50      4957\n",
      "weighted avg       0.79      0.65      0.70      4957\n",
      "\n",
      "Naive Bayes, Accuracy Score: 0.650191648174299\n"
     ]
    }
   ],
   "source": [
    "X = panda.DataFrame(modelling_features)\n",
    "y = dataset['class'].astype(int)\n",
    "X_train_bow, X_test_bow, y_train, y_test = train_test_split(X, y, random_state=42, test_size=0.2)\n",
    "nb=GaussianNB()\n",
    "nb.fit(X_train_bow,y_train)\n",
    "y_preds = nb.predict(X_test_bow)\n",
    "acc2=accuracy_score(y_test,y_preds)\n",
    "report = classification_report( y_test, y_preds )\n",
    "print(report)\n",
    "print(\"Naive Bayes, Accuracy Score:\",acc2)"
   ]
  },
  {
   "cell_type": "code",
   "execution_count": 20,
   "metadata": {},
   "outputs": [
    {
     "name": "stdout",
     "output_type": "stream",
     "text": [
      "              precision    recall  f1-score   support\n",
      "\n",
      "           0       0.46      0.26      0.33       290\n",
      "           1       0.92      0.95      0.94      3832\n",
      "           2       0.83      0.85      0.84       835\n",
      "\n",
      "    accuracy                           0.89      4957\n",
      "   macro avg       0.73      0.69      0.70      4957\n",
      "weighted avg       0.88      0.89      0.88      4957\n",
      "\n",
      "SVM, Accuracy Score: 0.8912648779503732\n"
     ]
    },
    {
     "name": "stderr",
     "output_type": "stream",
     "text": [
      "/Users/vadim/opt/anaconda3/lib/python3.9/site-packages/sklearn/svm/_base.py:985: ConvergenceWarning: Liblinear failed to converge, increase the number of iterations.\n",
      "  warnings.warn(\"Liblinear failed to converge, increase \"\n"
     ]
    }
   ],
   "source": [
    "X = panda.DataFrame(modelling_features)\n",
    "y = dataset['class'].astype(int)\n",
    "X_train_bow, X_test_bow, y_train, y_test = train_test_split(X, y, random_state=42, test_size=0.2)\n",
    "support =LinearSVC(random_state=20)\n",
    "support.fit(X_train_bow,y_train)\n",
    "y_preds = support.predict(X_test_bow)\n",
    "acc3=accuracy_score(y_test,y_preds)\n",
    "report = classification_report( y_test, y_preds )\n",
    "print(report)\n",
    "print(\"SVM, Accuracy Score:\" , acc3)"
   ]
  },
  {
   "cell_type": "code",
   "execution_count": 21,
   "metadata": {},
   "outputs": [
    {
     "data": {
      "image/png": "[encoded data removed]",
      "text/plain": [
       "<Figure size 432x288 with 1 Axes>"
      ]
     },
     "metadata": {
      "needs_background": "light"
     },
     "output_type": "display_data"
    }
   ],
   "source": [
    "objects = ('Logistic', 'RandomForest', 'Naive_bayes', 'SVM')\n",
    "y_pos = np.arange(len(objects))\n",
    "performance = [acc,acc1,acc2,acc3]\n",
    "plt.bar(y_pos, performance, align='center', alpha=0.5)\n",
    "plt.xticks(y_pos, objects)\n",
    "plt.ylabel('Accuracy')\n",
    "plt.title('Algorithm Comparision for F2')\n",
    "plt.show()"
   ]
  },
  {
   "cell_type": "code",
   "execution_count": 22,
   "metadata": {},
   "outputs": [
    {
     "data": {
      "text/html": [
       "<div>\n",
       "<style scoped>\n",
       "    .dataframe tbody tr th:only-of-type {\n",
       "        vertical-align: middle;\n",
       "    }\n",
       "\n",
       "    .dataframe tbody tr th {\n",
       "        vertical-align: top;\n",
       "    }\n",
       "\n",
       "    .dataframe thead th {\n",
       "        text-align: right;\n",
       "    }\n",
       "</style>\n",
       "<table border=\"1\" class=\"dataframe\">\n",
       "  <thead>\n",
       "    <tr style=\"text-align: right;\">\n",
       "      <th></th>\n",
       "      <th>doc2vec_vector_0</th>\n",
       "      <th>doc2vec_vector_1</th>\n",
       "      <th>doc2vec_vector_2</th>\n",
       "      <th>doc2vec_vector_3</th>\n",
       "      <th>doc2vec_vector_4</th>\n",
       "    </tr>\n",
       "  </thead>\n",
       "  <tbody>\n",
       "    <tr>\n",
       "      <th>0</th>\n",
       "      <td>0.018026</td>\n",
       "      <td>0.017211</td>\n",
       "      <td>0.097070</td>\n",
       "      <td>0.068574</td>\n",
       "      <td>0.015928</td>\n",
       "    </tr>\n",
       "    <tr>\n",
       "      <th>1</th>\n",
       "      <td>0.047766</td>\n",
       "      <td>0.085429</td>\n",
       "      <td>0.266810</td>\n",
       "      <td>0.073316</td>\n",
       "      <td>-0.072807</td>\n",
       "    </tr>\n",
       "    <tr>\n",
       "      <th>2</th>\n",
       "      <td>-0.134311</td>\n",
       "      <td>0.126408</td>\n",
       "      <td>-0.005137</td>\n",
       "      <td>0.101088</td>\n",
       "      <td>0.026595</td>\n",
       "    </tr>\n",
       "    <tr>\n",
       "      <th>3</th>\n",
       "      <td>0.096752</td>\n",
       "      <td>0.136317</td>\n",
       "      <td>-0.002050</td>\n",
       "      <td>-0.077735</td>\n",
       "      <td>0.054102</td>\n",
       "    </tr>\n",
       "    <tr>\n",
       "      <th>4</th>\n",
       "      <td>0.082045</td>\n",
       "      <td>0.012922</td>\n",
       "      <td>0.092758</td>\n",
       "      <td>-0.154263</td>\n",
       "      <td>-0.050950</td>\n",
       "    </tr>\n",
       "    <tr>\n",
       "      <th>...</th>\n",
       "      <td>...</td>\n",
       "      <td>...</td>\n",
       "      <td>...</td>\n",
       "      <td>...</td>\n",
       "      <td>...</td>\n",
       "    </tr>\n",
       "    <tr>\n",
       "      <th>24778</th>\n",
       "      <td>0.215684</td>\n",
       "      <td>-0.075122</td>\n",
       "      <td>0.254222</td>\n",
       "      <td>-0.295271</td>\n",
       "      <td>-0.042786</td>\n",
       "    </tr>\n",
       "    <tr>\n",
       "      <th>24779</th>\n",
       "      <td>-0.080566</td>\n",
       "      <td>0.119454</td>\n",
       "      <td>0.124048</td>\n",
       "      <td>-0.013470</td>\n",
       "      <td>-0.086850</td>\n",
       "    </tr>\n",
       "    <tr>\n",
       "      <th>24780</th>\n",
       "      <td>-0.122564</td>\n",
       "      <td>0.177422</td>\n",
       "      <td>0.145220</td>\n",
       "      <td>0.028246</td>\n",
       "      <td>-0.120736</td>\n",
       "    </tr>\n",
       "    <tr>\n",
       "      <th>24781</th>\n",
       "      <td>-0.073633</td>\n",
       "      <td>0.005331</td>\n",
       "      <td>0.035100</td>\n",
       "      <td>-0.165321</td>\n",
       "      <td>-0.092378</td>\n",
       "    </tr>\n",
       "    <tr>\n",
       "      <th>24782</th>\n",
       "      <td>0.569885</td>\n",
       "      <td>-0.233530</td>\n",
       "      <td>0.410167</td>\n",
       "      <td>-0.355862</td>\n",
       "      <td>0.044320</td>\n",
       "    </tr>\n",
       "  </tbody>\n",
       "</table>\n",
       "<p>24783 rows × 5 columns</p>\n",
       "</div>"
      ],
      "text/plain": [
       "       doc2vec_vector_0  doc2vec_vector_1  doc2vec_vector_2  doc2vec_vector_3  \\\n",
       "0              0.018026          0.017211          0.097070          0.068574   \n",
       "1              0.047766          0.085429          0.266810          0.073316   \n",
       "2             -0.134311          0.126408         -0.005137          0.101088   \n",
       "3              0.096752          0.136317         -0.002050         -0.077735   \n",
       "4              0.082045          0.012922          0.092758         -0.154263   \n",
       "...                 ...               ...               ...               ...   \n",
       "24778          0.215684         -0.075122          0.254222         -0.295271   \n",
       "24779         -0.080566          0.119454          0.124048         -0.013470   \n",
       "24780         -0.122564          0.177422          0.145220          0.028246   \n",
       "24781         -0.073633          0.005331          0.035100         -0.165321   \n",
       "24782          0.569885         -0.233530          0.410167         -0.355862   \n",
       "\n",
       "       doc2vec_vector_4  \n",
       "0              0.015928  \n",
       "1             -0.072807  \n",
       "2              0.026595  \n",
       "3              0.054102  \n",
       "4             -0.050950  \n",
       "...                 ...  \n",
       "24778         -0.042786  \n",
       "24779         -0.086850  \n",
       "24780         -0.120736  \n",
       "24781         -0.092378  \n",
       "24782          0.044320  \n",
       "\n",
       "[24783 rows x 5 columns]"
      ]
     },
     "execution_count": 22,
     "metadata": {},
     "output_type": "execute_result"
    }
   ],
   "source": [
    "# create doc2vec vector columns\n",
    "# Initialize and train the model\n",
    "from gensim.test.utils import common_texts\n",
    "from gensim.models.doc2vec import Doc2Vec, TaggedDocument\n",
    "#The input for a Doc2Vec model should be a list of TaggedDocument(['list','of','word'], [TAG_001]). \n",
    "#A good practice is using the indexes of sentences as the tags.\n",
    "documents = [TaggedDocument(doc, [i]) for i, doc in enumerate(dataset[\"processed_tweets\"].apply(lambda x: x.split(\" \")))]\n",
    "\n",
    "# train a Doc2Vec model with our text data\n",
    "# window- The maximum distance between the current and predicted word within a sentence.\n",
    "# mincount-Ignores all words with total frequency lower than this.\n",
    "# workers -Use these many worker threads to train the model\n",
    "#  Training Model - distributed bag of words (PV-DBOW) is employed.\n",
    "model = Doc2Vec(documents, vector_size=5, window=2, min_count=1, workers=4)\n",
    "\n",
    "#infer_vector - Infer a vector for given post-bulk training document.\n",
    "# Syntax- infer_vector(doc_words, alpha=None, min_alpha=None, epochs=None, steps=None)\n",
    "# doc_words-A document for which the vector representation will be inferred.\n",
    "\n",
    "# transform each document into a vector data\n",
    "doc2vec_df = dataset[\"processed_tweets\"].apply(lambda x: model.infer_vector(x.split(\" \"))).apply(panda.Series)\n",
    "doc2vec_df.columns = [\"doc2vec_vector_\" + str(x) for x in doc2vec_df.columns]\n",
    "doc2vec_df"
   ]
  },
  {
   "cell_type": "code",
   "execution_count": 23,
   "metadata": {},
   "outputs": [
    {
     "data": {
      "text/plain": [
       "(24783, 6453)"
      ]
     },
     "execution_count": 23,
     "metadata": {},
     "output_type": "execute_result"
    }
   ],
   "source": [
    "# conctaenation of tf-idf scores, sentiment scores and doc2vec columns\n",
    "modelling_features = np.concatenate([tfidf_a,final_features,doc2vec_df],axis=1)\n",
    "modelling_features.shape"
   ]
  },
  {
   "cell_type": "markdown",
   "metadata": {},
   "source": [
    "### Запуск моделей с использованием TFIDF с дополнительными признаками анализа настроений и doc2vec"
   ]
  },
  {
   "cell_type": "code",
   "execution_count": 24,
   "metadata": {},
   "outputs": [
    {
     "name": "stdout",
     "output_type": "stream",
     "text": [
      "              precision    recall  f1-score   support\n",
      "\n",
      "           0       0.57      0.19      0.28       290\n",
      "           1       0.92      0.96      0.94      3832\n",
      "           2       0.84      0.84      0.84       835\n",
      "\n",
      "    accuracy                           0.90      4957\n",
      "   macro avg       0.78      0.66      0.69      4957\n",
      "weighted avg       0.88      0.90      0.88      4957\n",
      "\n",
      "Logistic Regression, Accuracy Score: 0.8975186604801291\n"
     ]
    },
    {
     "name": "stderr",
     "output_type": "stream",
     "text": [
      "/Users/vadim/opt/anaconda3/lib/python3.9/site-packages/sklearn/linear_model/_logistic.py:763: ConvergenceWarning: lbfgs failed to converge (status=1):\n",
      "STOP: TOTAL NO. of ITERATIONS REACHED LIMIT.\n",
      "\n",
      "Increase the number of iterations (max_iter) or scale the data as shown in:\n",
      "    https://scikit-learn.org/stable/modules/preprocessing.html\n",
      "Please also refer to the documentation for alternative solver options:\n",
      "    https://scikit-learn.org/stable/modules/linear_model.html#logistic-regression\n",
      "  n_iter_i = _check_optimize_result(\n"
     ]
    }
   ],
   "source": [
    "X = panda.DataFrame(modelling_features)\n",
    "y = dataset['class'].astype(int)\n",
    "X_train_bow, X_test_bow, y_train, y_test = train_test_split(X, y, random_state=42, test_size=0.2)\n",
    "\n",
    "model = LogisticRegression().fit(X_train_bow,y_train)\n",
    "y_preds = model.predict(X_test_bow)\n",
    "report = classification_report( y_test, y_preds )\n",
    "print(report)\n",
    "acc=accuracy_score(y_test,y_preds)\n",
    "print(\"Logistic Regression, Accuracy Score:\" , acc)"
   ]
  },
  {
   "cell_type": "code",
   "execution_count": 25,
   "metadata": {
    "scrolled": true
   },
   "outputs": [
    {
     "name": "stdout",
     "output_type": "stream",
     "text": [
      "              precision    recall  f1-score   support\n",
      "\n",
      "           0       0.45      0.07      0.12       290\n",
      "           1       0.90      0.97      0.93      3832\n",
      "           2       0.86      0.78      0.82       835\n",
      "\n",
      "    accuracy                           0.89      4957\n",
      "   macro avg       0.74      0.61      0.63      4957\n",
      "weighted avg       0.87      0.89      0.87      4957\n",
      "\n",
      "Random Forest, Accuracy Score: 0.8884405890659673\n"
     ]
    }
   ],
   "source": [
    "X = panda.DataFrame(modelling_features)\n",
    "y = dataset['class'].astype(int)\n",
    "X_train_bow, X_test_bow, y_train, y_test = train_test_split(X, y, random_state=42, test_size=0.2)\n",
    "rf=RandomForestClassifier()\n",
    "rf.fit(X_train_bow,y_train)\n",
    "y_preds = rf.predict(X_test_bow)\n",
    "acc1=accuracy_score(y_test,y_preds)\n",
    "report = classification_report( y_test, y_preds )\n",
    "print(report)\n",
    "print(\"Random Forest, Accuracy Score:\",acc1)"
   ]
  },
  {
   "cell_type": "code",
   "execution_count": 26,
   "metadata": {},
   "outputs": [
    {
     "name": "stdout",
     "output_type": "stream",
     "text": [
      "              precision    recall  f1-score   support\n",
      "\n",
      "           0       0.10      0.39      0.16       290\n",
      "           1       0.89      0.68      0.77      3832\n",
      "           2       0.54      0.59      0.56       835\n",
      "\n",
      "    accuracy                           0.65      4957\n",
      "   macro avg       0.51      0.55      0.50      4957\n",
      "weighted avg       0.79      0.65      0.70      4957\n",
      "\n",
      "Naive Bayes, Accuracy Score: 0.650191648174299\n"
     ]
    }
   ],
   "source": [
    "X = panda.DataFrame(modelling_features)\n",
    "y = dataset['class'].astype(int)\n",
    "X_train, X_test, y_train, y_test = train_test_split(X, y, random_state=42, test_size=0.2)\n",
    "nb=GaussianNB()\n",
    "nb.fit(X_train,y_train)\n",
    "y_preds = nb.predict(X_test)\n",
    "acc2=accuracy_score(y_test,y_preds)\n",
    "report = classification_report( y_test, y_preds )\n",
    "print(report)\n",
    "print(\"Naive Bayes, Accuracy Score:\",acc2)"
   ]
  },
  {
   "cell_type": "code",
   "execution_count": 27,
   "metadata": {},
   "outputs": [
    {
     "name": "stdout",
     "output_type": "stream",
     "text": [
      "              precision    recall  f1-score   support\n",
      "\n",
      "           0       0.46      0.27      0.34       290\n",
      "           1       0.92      0.95      0.94      3832\n",
      "           2       0.83      0.85      0.84       835\n",
      "\n",
      "    accuracy                           0.89      4957\n",
      "   macro avg       0.74      0.69      0.71      4957\n",
      "weighted avg       0.88      0.89      0.89      4957\n",
      "\n",
      "SVM, Accuracy Score: 0.8924752874722615\n"
     ]
    },
    {
     "name": "stderr",
     "output_type": "stream",
     "text": [
      "/Users/vadim/opt/anaconda3/lib/python3.9/site-packages/sklearn/svm/_base.py:985: ConvergenceWarning: Liblinear failed to converge, increase the number of iterations.\n",
      "  warnings.warn(\"Liblinear failed to converge, increase \"\n"
     ]
    }
   ],
   "source": [
    "X = panda.DataFrame(modelling_features)\n",
    "y = dataset['class'].astype(int)\n",
    "X_train_bow, X_test_bow, y_train, y_test = train_test_split(X, y, random_state=42, test_size=0.2)\n",
    "support =LinearSVC(random_state=20)\n",
    "support.fit(X_train_bow,y_train)\n",
    "y_preds = support.predict(X_test_bow)\n",
    "acc3=accuracy_score(y_test,y_preds)\n",
    "report = classification_report( y_test, y_preds )\n",
    "print(report)\n",
    "print(\"SVM, Accuracy Score:\" , acc3)"
   ]
  },
  {
   "cell_type": "code",
   "execution_count": 28,
   "metadata": {},
   "outputs": [
    {
     "data": {
      "image/png": "[encoded data removed]",
      "text/plain": [
       "<Figure size 432x288 with 1 Axes>"
      ]
     },
     "metadata": {
      "needs_background": "light"
     },
     "output_type": "display_data"
    }
   ],
   "source": [
    "objects = ('Logistic', 'RandomForest', 'Naive_bayes', 'SVM')\n",
    "y_pos = np.arange(len(objects))\n",
    "performance = [acc,acc1,acc2,acc3]\n",
    "plt.bar(y_pos, performance, align='center', alpha=0.5)\n",
    "plt.xticks(y_pos, objects)\n",
    "plt.ylabel('Accuracy')\n",
    "plt.title('Algorithm Comparision')\n",
    "plt.show()"
   ]
  },
  {
   "cell_type": "code",
   "execution_count": 29,
   "metadata": {},
   "outputs": [],
   "source": [
    "#Using TFIDF with sentiment scores,doc2vec and enhanced features\n",
    "def additional_features(tweet): \n",
    "    \n",
    "    syllables = textstat.syllable_count(tweet)\n",
    "    num_chars = sum(len(w) for w in tweet)\n",
    "    num_chars_total = len(tweet)\n",
    "    num_words = len(tweet.split())\n",
    "    # avg_syl = total syllables/ total words\n",
    "    avg_syl = round(float((syllables+0.001))/float(num_words+0.001),4)\n",
    "    num_unique_terms = len(set(tweet.split()))\n",
    "    \n",
    "    #  Flesch–Kincaid readability tests are readability tests \n",
    "    #  designed to indicate how difficult a passage in English is to understand. \n",
    "    # There are two tests, the Flesch Reading Ease, and the Flesch–Kincaid Grade \n",
    "    # A text with a comparatively high score on FRE test should have a lower score on the FKRA test.\n",
    "    # Reference - https://en.wikipedia.org/wiki/Flesch%E2%80%93Kincaid_readability_tests\n",
    "    \n",
    "    ###Modified FK grade, where avg words per sentence is : just num words/1\n",
    "    FKRA = round(float(0.39 * float(num_words)/1.0) + float(11.8 * avg_syl) - 15.59,1)\n",
    "    ##Modified FRE score, where sentence fixed to 1\n",
    "    FRE = round(206.835 - 1.015*(float(num_words)/1.0) - (84.6*float(avg_syl)),2)\n",
    "    \n",
    "    add_features=[FKRA, FRE,syllables, avg_syl, num_chars, num_chars_total, num_words,\n",
    "                num_unique_terms]\n",
    "    return add_features\n",
    "\n",
    "def get_additonal_feature_array(tweets):\n",
    "    features=[]\n",
    "    for t in tweets:\n",
    "        features.append(additional_features(t))\n",
    "    return np.array(features)\n",
    "\n",
    "fFeatures = get_additonal_feature_array(processed_tweets)\n"
   ]
  },
  {
   "cell_type": "code",
   "execution_count": 30,
   "metadata": {},
   "outputs": [
    {
     "data": {
      "text/plain": [
       "(24783, 6461)"
      ]
     },
     "execution_count": 30,
     "metadata": {},
     "output_type": "execute_result"
    }
   ],
   "source": [
    "tfidf_a = tfidf.toarray()\n",
    "modelling_features_enhanced = np.concatenate([tfidf_a,final_features,doc2vec_df,fFeatures],axis=1)\n",
    "modelling_features_enhanced.shape"
   ]
  },
  {
   "cell_type": "markdown",
   "metadata": {},
   "source": [
    "### Запуск моделей. Использование TFIDF с оценками настроений, doc2vec и расширенными признаками."
   ]
  },
  {
   "cell_type": "code",
   "execution_count": 31,
   "metadata": {},
   "outputs": [
    {
     "name": "stderr",
     "output_type": "stream",
     "text": [
      "/Users/vadim/opt/anaconda3/lib/python3.9/site-packages/sklearn/linear_model/_logistic.py:763: ConvergenceWarning: lbfgs failed to converge (status=1):\n",
      "STOP: TOTAL NO. of ITERATIONS REACHED LIMIT.\n",
      "\n",
      "Increase the number of iterations (max_iter) or scale the data as shown in:\n",
      "    https://scikit-learn.org/stable/modules/preprocessing.html\n",
      "Please also refer to the documentation for alternative solver options:\n",
      "    https://scikit-learn.org/stable/modules/linear_model.html#logistic-regression\n",
      "  n_iter_i = _check_optimize_result(\n"
     ]
    },
    {
     "name": "stdout",
     "output_type": "stream",
     "text": [
      "              precision    recall  f1-score   support\n",
      "\n",
      "           0       0.00      0.00      0.00       279\n",
      "           1       0.83      0.97      0.89      3852\n",
      "           2       0.70      0.36      0.48       826\n",
      "\n",
      "    accuracy                           0.82      4957\n",
      "   macro avg       0.51      0.45      0.46      4957\n",
      "weighted avg       0.76      0.82      0.77      4957\n",
      "\n",
      "Logistic Regression, Accuracy Score: 0.8150090780714142\n"
     ]
    },
    {
     "name": "stderr",
     "output_type": "stream",
     "text": [
      "/Users/vadim/opt/anaconda3/lib/python3.9/site-packages/sklearn/metrics/_classification.py:1248: UndefinedMetricWarning: Precision and F-score are ill-defined and being set to 0.0 in labels with no predicted samples. Use `zero_division` parameter to control this behavior.\n",
      "  _warn_prf(average, modifier, msg_start, len(result))\n",
      "/Users/vadim/opt/anaconda3/lib/python3.9/site-packages/sklearn/metrics/_classification.py:1248: UndefinedMetricWarning: Precision and F-score are ill-defined and being set to 0.0 in labels with no predicted samples. Use `zero_division` parameter to control this behavior.\n",
      "  _warn_prf(average, modifier, msg_start, len(result))\n",
      "/Users/vadim/opt/anaconda3/lib/python3.9/site-packages/sklearn/metrics/_classification.py:1248: UndefinedMetricWarning: Precision and F-score are ill-defined and being set to 0.0 in labels with no predicted samples. Use `zero_division` parameter to control this behavior.\n",
      "  _warn_prf(average, modifier, msg_start, len(result))\n"
     ]
    }
   ],
   "source": [
    "# Running the model Using TFIDF with enhanced features\n",
    "\n",
    "X = panda.DataFrame(modelling_features_enhanced)\n",
    "y = dataset['class'].astype(int)\n",
    "X_train_features, X_test_features, y_train, y_test = train_test_split(X, y, random_state=0, test_size=0.2)\n",
    "\n",
    "model = LogisticRegression().fit(X_train_features,y_train)\n",
    "y_preds = model.predict(X_test_features)\n",
    "report = classification_report( y_test, y_preds )\n",
    "print(report)\n",
    "acc=accuracy_score(y_test,y_preds)\n",
    "print(\"Logistic Regression, Accuracy Score:\" , acc)"
   ]
  },
  {
   "cell_type": "code",
   "execution_count": 32,
   "metadata": {},
   "outputs": [
    {
     "data": {
      "image/png": "[encoded data removed]",
      "text/plain": [
       "<Figure size 360x360 with 1 Axes>"
      ]
     },
     "metadata": {
      "needs_background": "light"
     },
     "output_type": "display_data"
    }
   ],
   "source": [
    "#Confusion Matrix for TFIDF with additional features \n",
    "from sklearn.metrics import confusion_matrix\n",
    "confusion_matrix = confusion_matrix(y_test,y_preds)\n",
    "matrix_proportions = np.zeros((3,3))\n",
    "for i in range(0,3):\n",
    "    matrix_proportions[i,:] = confusion_matrix[i,:]/float(confusion_matrix[i,:].sum())\n",
    "names=['Hate','Offensive','Neither']\n",
    "confusion_df = panda.DataFrame(matrix_proportions, index=names,columns=names)\n",
    "plt.figure(figsize=(5,5))\n",
    "seaborn.heatmap(confusion_df,annot=True,annot_kws={\"size\": 12},cmap='YlGnBu',cbar=False, square=True,fmt='.2f')\n",
    "plt.ylabel(r'True Value',fontsize=14)\n",
    "plt.xlabel(r'Predicted Value',fontsize=14)\n",
    "plt.tick_params(labelsize=12)"
   ]
  },
  {
   "cell_type": "code",
   "execution_count": 33,
   "metadata": {},
   "outputs": [],
   "source": [
    "# From the confusion matrix its clear that the model misclassifies 78% of the hate data as offensive data. This explains the reduction in class-0\n",
    "# bar on the histogram for the predicted class and increase of bar for class-1 (offensive)."
   ]
  },
  {
   "cell_type": "code",
   "execution_count": 34,
   "metadata": {},
   "outputs": [
    {
     "name": "stdout",
     "output_type": "stream",
     "text": [
      "Predicted Class: [1 1 1 1 1 1 1 1 1 1]\n",
      "Actual Class: [2, 1, 1, 0, 2, 1, 1, 1, 2, 2]\n"
     ]
    }
   ],
   "source": [
    "testing_index=list(X_test_features.index[0:10])\n",
    "#print(testing_index)\n",
    "print(\"Predicted Class:\",y_preds[0:10])\n",
    "print(\"Actual Class:\",y_test.tolist()[0:10])"
   ]
  },
  {
   "cell_type": "code",
   "execution_count": 35,
   "metadata": {},
   "outputs": [
    {
     "data": {
      "text/plain": [
       "Text(0, 0.5, 'Count')"
      ]
     },
     "execution_count": 35,
     "metadata": {},
     "output_type": "execute_result"
    },
    {
     "data": {
      "image/png": "[encoded data removed]",
      "text/plain": [
       "<Figure size 432x288 with 1 Axes>"
      ]
     },
     "metadata": {
      "needs_background": "light"
     },
     "output_type": "display_data"
    }
   ],
   "source": [
    "# Histogram presenting the count of different classes- Actual\n",
    "ax=y_test.hist()\n",
    "ax.set_xlabel(\"Class\", labelpad=20, weight='bold', size=12)\n",
    "ax.set_ylabel(\"Count\", labelpad=20, weight='bold', size=12)"
   ]
  },
  {
   "cell_type": "code",
   "execution_count": 36,
   "metadata": {},
   "outputs": [
    {
     "data": {
      "text/plain": [
       "Text(0, 0.5, 'Count')"
      ]
     },
     "execution_count": 36,
     "metadata": {},
     "output_type": "execute_result"
    },
    {
     "data": {
      "image/png": "[encoded data removed]",
      "text/plain": [
       "<Figure size 432x288 with 1 Axes>"
      ]
     },
     "metadata": {
      "needs_background": "light"
     },
     "output_type": "display_data"
    }
   ],
   "source": [
    "# Histogram presenting the count of different classes- Predicted\n",
    "ax=panda.Series(y_preds).hist()\n",
    "ax.set_xlabel(\"Class\", labelpad=20, weight='bold', size=12)\n",
    "ax.set_ylabel(\"Count\", labelpad=20, weight='bold', size=12)"
   ]
  },
  {
   "cell_type": "code",
   "execution_count": 37,
   "metadata": {},
   "outputs": [
    {
     "name": "stdout",
     "output_type": "stream",
     "text": [
      "              precision    recall  f1-score   support\n",
      "\n",
      "           0       0.48      0.05      0.09       279\n",
      "           1       0.89      0.97      0.93      3852\n",
      "           2       0.85      0.73      0.79       826\n",
      "\n",
      "    accuracy                           0.88      4957\n",
      "   macro avg       0.74      0.59      0.60      4957\n",
      "weighted avg       0.86      0.88      0.86      4957\n",
      "\n",
      "Random Forest, Accuracy Score: 0.8827920112971556\n"
     ]
    }
   ],
   "source": [
    "X = panda.DataFrame(modelling_features_enhanced)\n",
    "y = dataset['class'].astype(int)\n",
    "X_train_features, X_test_features, y_train, y_test = train_test_split(X, y, random_state=0, test_size=0.2)\n",
    "rf=RandomForestClassifier()\n",
    "rf.fit(X_train_features,y_train)\n",
    "y_preds = rf.predict(X_test_features)\n",
    "acc1=accuracy_score(y_test,y_preds)\n",
    "report = classification_report( y_test, y_preds )\n",
    "print(report)\n",
    "print(\"Random Forest, Accuracy Score:\",acc1)"
   ]
  },
  {
   "cell_type": "code",
   "execution_count": 38,
   "metadata": {},
   "outputs": [
    {
     "name": "stdout",
     "output_type": "stream",
     "text": [
      "              precision    recall  f1-score   support\n",
      "\n",
      "           0       0.09      0.36      0.15       279\n",
      "           1       0.90      0.69      0.78      3852\n",
      "           2       0.59      0.65      0.62       826\n",
      "\n",
      "    accuracy                           0.66      4957\n",
      "   macro avg       0.53      0.57      0.51      4957\n",
      "weighted avg       0.80      0.66      0.72      4957\n",
      "\n",
      "Naive Bayes, Accuracy Score: 0.662497478313496\n"
     ]
    }
   ],
   "source": [
    "X = panda.DataFrame(modelling_features_enhanced)\n",
    "y = dataset['class'].astype(int)\n",
    "X_train_features, X_test_features, y_train, y_test = train_test_split(X, y, random_state=0, test_size=0.2)\n",
    "nb=GaussianNB()\n",
    "nb.fit(X_train_features,y_train)\n",
    "y_preds = nb.predict(X_test_features)\n",
    "acc2=accuracy_score(y_test,y_preds)\n",
    "report = classification_report( y_test, y_preds )\n",
    "print(report)\n",
    "print(\"Naive Bayes, Accuracy Score:\",acc2)"
   ]
  },
  {
   "cell_type": "code",
   "execution_count": 39,
   "metadata": {},
   "outputs": [
    {
     "data": {
      "image/png": "[encoded data removed]",
      "text/plain": [
       "<Figure size 360x360 with 1 Axes>"
      ]
     },
     "metadata": {
      "needs_background": "light"
     },
     "output_type": "display_data"
    }
   ],
   "source": [
    "#Confusion Matrix for TFIDF with additional features \n",
    "from sklearn.metrics import confusion_matrix\n",
    "confusion_matrix = confusion_matrix(y_test,y_preds)\n",
    "matrix_proportions = np.zeros((3,3))\n",
    "for i in range(0,3):\n",
    "    matrix_proportions[i,:] = confusion_matrix[i,:]/float(confusion_matrix[i,:].sum())\n",
    "names=['Hate','Offensive','Neither']\n",
    "confusion_df = panda.DataFrame(matrix_proportions, index=names,columns=names)\n",
    "plt.figure(figsize=(5,5))\n",
    "seaborn.heatmap(confusion_df,annot=True,annot_kws={\"size\": 12},cmap='YlGnBu',cbar=False, square=True,fmt='.2f')\n",
    "plt.ylabel(r'True Value',fontsize=14)\n",
    "plt.xlabel(r'Predicted Value',fontsize=14)\n",
    "plt.tick_params(labelsize=12)"
   ]
  },
  {
   "cell_type": "code",
   "execution_count": 40,
   "metadata": {},
   "outputs": [
    {
     "name": "stdout",
     "output_type": "stream",
     "text": [
      "              precision    recall  f1-score   support\n",
      "\n",
      "           0       0.17      0.59      0.26       279\n",
      "           1       0.94      0.89      0.92      3852\n",
      "           2       0.89      0.33      0.48       826\n",
      "\n",
      "    accuracy                           0.78      4957\n",
      "   macro avg       0.67      0.61      0.55      4957\n",
      "weighted avg       0.89      0.78      0.81      4957\n",
      "\n",
      "SVM, Accuracy Score: 0.7825297559007465\n"
     ]
    },
    {
     "name": "stderr",
     "output_type": "stream",
     "text": [
      "/Users/vadim/opt/anaconda3/lib/python3.9/site-packages/sklearn/svm/_base.py:985: ConvergenceWarning: Liblinear failed to converge, increase the number of iterations.\n",
      "  warnings.warn(\"Liblinear failed to converge, increase \"\n"
     ]
    }
   ],
   "source": [
    "X = panda.DataFrame(modelling_features_enhanced)\n",
    "y = dataset['class'].astype(int)\n",
    "X_train_features, X_test_features, y_train, y_test_helo = train_test_split(X, y, random_state=0, test_size=0.2)\n",
    "support =LinearSVC(random_state=20)\n",
    "support.fit(X_train_features,y_train)\n",
    "y_preds = support.predict(X_test_features)\n",
    "acc3=accuracy_score(y_test_helo,y_preds)\n",
    "report = classification_report( y_test_helo, y_preds )\n",
    "print(report)\n",
    "print(\"SVM, Accuracy Score:\" ,acc3 )"
   ]
  },
  {
   "cell_type": "code",
   "execution_count": 41,
   "metadata": {},
   "outputs": [
    {
     "data": {
      "image/png": "[encoded data removed]",
      "text/plain": [
       "<Figure size 432x288 with 1 Axes>"
      ]
     },
     "metadata": {
      "needs_background": "light"
     },
     "output_type": "display_data"
    }
   ],
   "source": [
    "objects = ('Logistic', 'RandomForest', 'Naive_bayes', 'SVM')\n",
    "y_pos = np.arange(len(objects))\n",
    "performance = [acc,acc1,acc2,acc3]\n",
    "plt.bar(y_pos, performance, align='center', alpha=0.5)\n",
    "plt.xticks(y_pos, objects)\n",
    "plt.ylabel('Accuracy')\n",
    "plt.title('Algorithm Comparision')\n",
    "plt.show()"
   ]
  },
  {
   "cell_type": "markdown",
   "metadata": {},
   "source": [
    "## Сочетание различных признаков"
   ]
  },
  {
   "cell_type": "code",
   "execution_count": 42,
   "metadata": {},
   "outputs": [
    {
     "data": {
      "text/plain": [
       "(24783, 6454)"
      ]
     },
     "execution_count": 42,
     "metadata": {},
     "output_type": "execute_result"
    }
   ],
   "source": [
    "#f1,f3 and f4 combined\n",
    "\n",
    "tfidf_a = tfidf.toarray()\n",
    "modelling_features_one = np.concatenate([tfidf_a,doc2vec_df,fFeatures],axis=1)\n",
    "modelling_features_one.shape"
   ]
  },
  {
   "cell_type": "code",
   "execution_count": 43,
   "metadata": {},
   "outputs": [
    {
     "name": "stdout",
     "output_type": "stream",
     "text": [
      "              precision    recall  f1-score   support\n",
      "\n",
      "           0       0.52      0.04      0.07       279\n",
      "           1       0.83      0.99      0.90      3852\n",
      "           2       0.90      0.38      0.53       826\n",
      "\n",
      "    accuracy                           0.83      4957\n",
      "   macro avg       0.75      0.47      0.50      4957\n",
      "weighted avg       0.83      0.83      0.80      4957\n",
      "\n",
      "SVM, Accuracy Score: 0.8349808351825702\n"
     ]
    },
    {
     "name": "stderr",
     "output_type": "stream",
     "text": [
      "/Users/vadim/opt/anaconda3/lib/python3.9/site-packages/sklearn/svm/_base.py:985: ConvergenceWarning: Liblinear failed to converge, increase the number of iterations.\n",
      "  warnings.warn(\"Liblinear failed to converge, increase \"\n"
     ]
    }
   ],
   "source": [
    "X = panda.DataFrame(modelling_features_one)\n",
    "y = dataset['class'].astype(int)\n",
    "X_train_features, X_test_features, y_train, y_test = train_test_split(X, y, random_state=0, test_size=0.2)\n",
    "support =LinearSVC(random_state=20)\n",
    "support.fit(X_train_features,y_train)\n",
    "y_preds = support.predict(X_test_features)\n",
    "acc3=accuracy_score(y_test,y_preds)\n",
    "report = classification_report( y_test, y_preds )\n",
    "print(report)\n",
    "print(\"SVM, Accuracy Score:\" ,acc3 )"
   ]
  },
  {
   "cell_type": "code",
   "execution_count": 44,
   "metadata": {},
   "outputs": [
    {
     "data": {
      "text/plain": [
       "(24783, 6456)"
      ]
     },
     "execution_count": 44,
     "metadata": {},
     "output_type": "execute_result"
    }
   ],
   "source": [
    "#f1,f2 and f4 combined\n",
    "tfidf_a = tfidf.toarray()\n",
    "modelling_features_two = np.concatenate([tfidf_a,final_features,fFeatures],axis=1)\n",
    "modelling_features_two.shape"
   ]
  },
  {
   "cell_type": "code",
   "execution_count": 45,
   "metadata": {},
   "outputs": [
    {
     "name": "stdout",
     "output_type": "stream",
     "text": [
      "              precision    recall  f1-score   support\n",
      "\n",
      "           0       0.59      0.09      0.15       279\n",
      "           1       0.89      0.98      0.93      3852\n",
      "           2       0.86      0.70      0.77       826\n",
      "\n",
      "    accuracy                           0.88      4957\n",
      "   macro avg       0.78      0.59      0.62      4957\n",
      "weighted avg       0.86      0.88      0.86      4957\n",
      "\n",
      "SVM, Accuracy Score: 0.8791607827314908\n"
     ]
    },
    {
     "name": "stderr",
     "output_type": "stream",
     "text": [
      "/Users/vadim/opt/anaconda3/lib/python3.9/site-packages/sklearn/svm/_base.py:985: ConvergenceWarning: Liblinear failed to converge, increase the number of iterations.\n",
      "  warnings.warn(\"Liblinear failed to converge, increase \"\n"
     ]
    }
   ],
   "source": [
    "X = panda.DataFrame(modelling_features_two)\n",
    "y = dataset['class'].astype(int)\n",
    "X_train_features, X_test_features, y_train, y_test = train_test_split(X, y, random_state=0, test_size=0.2)\n",
    "support =LinearSVC(random_state=20)\n",
    "support.fit(X_train_features,y_train)\n",
    "y_preds = support.predict(X_test_features)\n",
    "acc3=accuracy_score(y_test,y_preds)\n",
    "report = classification_report( y_test, y_preds )\n",
    "print(report)\n",
    "print(\"SVM, Accuracy Score:\" ,acc3 )"
   ]
  },
  {
   "cell_type": "code",
   "execution_count": 46,
   "metadata": {},
   "outputs": [
    {
     "data": {
      "text/plain": [
       "(24783, 15)"
      ]
     },
     "execution_count": 46,
     "metadata": {},
     "output_type": "execute_result"
    }
   ],
   "source": [
    "#f2,f3 and f4 combined\n",
    "modelling_features_three = np.concatenate([final_features,fFeatures],axis=1)\n",
    "modelling_features_three.shape"
   ]
  },
  {
   "cell_type": "code",
   "execution_count": 47,
   "metadata": {},
   "outputs": [
    {
     "name": "stdout",
     "output_type": "stream",
     "text": [
      "              precision    recall  f1-score   support\n",
      "\n",
      "           0       0.00      0.00      0.00       279\n",
      "           1       0.78      1.00      0.88      3852\n",
      "           2       0.62      0.03      0.06       826\n",
      "\n",
      "    accuracy                           0.78      4957\n",
      "   macro avg       0.47      0.34      0.31      4957\n",
      "weighted avg       0.71      0.78      0.69      4957\n",
      "\n",
      "SVM, Accuracy Score: 0.7795037320960259\n"
     ]
    },
    {
     "name": "stderr",
     "output_type": "stream",
     "text": [
      "/Users/vadim/opt/anaconda3/lib/python3.9/site-packages/sklearn/svm/_base.py:985: ConvergenceWarning: Liblinear failed to converge, increase the number of iterations.\n",
      "  warnings.warn(\"Liblinear failed to converge, increase \"\n",
      "/Users/vadim/opt/anaconda3/lib/python3.9/site-packages/sklearn/metrics/_classification.py:1248: UndefinedMetricWarning: Precision and F-score are ill-defined and being set to 0.0 in labels with no predicted samples. Use `zero_division` parameter to control this behavior.\n",
      "  _warn_prf(average, modifier, msg_start, len(result))\n",
      "/Users/vadim/opt/anaconda3/lib/python3.9/site-packages/sklearn/metrics/_classification.py:1248: UndefinedMetricWarning: Precision and F-score are ill-defined and being set to 0.0 in labels with no predicted samples. Use `zero_division` parameter to control this behavior.\n",
      "  _warn_prf(average, modifier, msg_start, len(result))\n",
      "/Users/vadim/opt/anaconda3/lib/python3.9/site-packages/sklearn/metrics/_classification.py:1248: UndefinedMetricWarning: Precision and F-score are ill-defined and being set to 0.0 in labels with no predicted samples. Use `zero_division` parameter to control this behavior.\n",
      "  _warn_prf(average, modifier, msg_start, len(result))\n"
     ]
    }
   ],
   "source": [
    "X = panda.DataFrame(modelling_features_three)\n",
    "y = dataset['class'].astype(int)\n",
    "X_train_features, X_test_features, y_train, y_test = train_test_split(X, y, random_state=0, test_size=0.2)\n",
    "support =LinearSVC(random_state=20)\n",
    "support.fit(X_train_features,y_train)\n",
    "y_preds = support.predict(X_test_features)\n",
    "acc3=accuracy_score(y_test,y_preds)\n",
    "report = classification_report( y_test, y_preds )\n",
    "print(report)\n",
    "print(\"SVM, Accuracy Score:\" ,acc3 )"
   ]
  },
  {
   "cell_type": "code",
   "execution_count": 48,
   "metadata": {},
   "outputs": [],
   "source": [
    "# the most important feature we found to be was the tf-idf scores which helps in better classification of hate speech.\n",
    "# Doc2vec columns are not found to be very significant in classification purpose as it makes very less difference when \n",
    "#its removed form the feature set. SVM's and RF's performance is hugely impacted when tf-idf scores are not included in the feature set."
   ]
  },
  {
   "cell_type": "code",
   "execution_count": 49,
   "metadata": {},
   "outputs": [
    {
     "name": "stdout",
     "output_type": "stream",
     "text": [
      "              precision    recall  f1-score   support\n",
      "\n",
      "           0       0.09      0.36      0.15       279\n",
      "           1       0.90      0.69      0.78      3852\n",
      "           2       0.59      0.65      0.62       826\n",
      "\n",
      "    accuracy                           0.66      4957\n",
      "   macro avg       0.53      0.57      0.51      4957\n",
      "weighted avg       0.80      0.66      0.72      4957\n",
      "\n",
      "Naive Bayes, Accuracy Score: 0.662497478313496\n"
     ]
    }
   ],
   "source": [
    "X = panda.DataFrame(modelling_features_two)\n",
    "y = dataset['class'].astype(int)\n",
    "X_train_features, X_test_features, y_train, y_test = train_test_split(X, y, random_state=0, test_size=0.2)\n",
    "nb=GaussianNB()\n",
    "nb.fit(X_train_features,y_train)\n",
    "y_preds = nb.predict(X_test_features)\n",
    "acc2=accuracy_score(y_test,y_preds)\n",
    "report = classification_report( y_test, y_preds )\n",
    "print(report)\n",
    "print(\"Naive Bayes, Accuracy Score:\",acc2)"
   ]
  },
  {
   "cell_type": "code",
   "execution_count": 50,
   "metadata": {},
   "outputs": [],
   "source": [
    "# Naive Baiyes Classifier performs significantly better with feature set of f-2,3,4 which \n",
    "#actually performs poor for Logistic Regression especially in prediction of \"hate\" label."
   ]
  },
  {
   "cell_type": "code",
   "execution_count": 51,
   "metadata": {},
   "outputs": [
    {
     "name": "stdout",
     "output_type": "stream",
     "text": [
      "              precision    recall  f1-score   support\n",
      "\n",
      "           0       0.00      0.00      0.00       279\n",
      "           1       0.81      0.96      0.88      3852\n",
      "           2       0.59      0.29      0.39       826\n",
      "\n",
      "    accuracy                           0.80      4957\n",
      "   macro avg       0.47      0.42      0.42      4957\n",
      "weighted avg       0.73      0.80      0.75      4957\n",
      "\n",
      "Logistic Regression, Accuracy Score: 0.795239055880573\n"
     ]
    },
    {
     "name": "stderr",
     "output_type": "stream",
     "text": [
      "/Users/vadim/opt/anaconda3/lib/python3.9/site-packages/sklearn/linear_model/_logistic.py:763: ConvergenceWarning: lbfgs failed to converge (status=1):\n",
      "STOP: TOTAL NO. of ITERATIONS REACHED LIMIT.\n",
      "\n",
      "Increase the number of iterations (max_iter) or scale the data as shown in:\n",
      "    https://scikit-learn.org/stable/modules/preprocessing.html\n",
      "Please also refer to the documentation for alternative solver options:\n",
      "    https://scikit-learn.org/stable/modules/linear_model.html#logistic-regression\n",
      "  n_iter_i = _check_optimize_result(\n",
      "/Users/vadim/opt/anaconda3/lib/python3.9/site-packages/sklearn/metrics/_classification.py:1248: UndefinedMetricWarning: Precision and F-score are ill-defined and being set to 0.0 in labels with no predicted samples. Use `zero_division` parameter to control this behavior.\n",
      "  _warn_prf(average, modifier, msg_start, len(result))\n",
      "/Users/vadim/opt/anaconda3/lib/python3.9/site-packages/sklearn/metrics/_classification.py:1248: UndefinedMetricWarning: Precision and F-score are ill-defined and being set to 0.0 in labels with no predicted samples. Use `zero_division` parameter to control this behavior.\n",
      "  _warn_prf(average, modifier, msg_start, len(result))\n",
      "/Users/vadim/opt/anaconda3/lib/python3.9/site-packages/sklearn/metrics/_classification.py:1248: UndefinedMetricWarning: Precision and F-score are ill-defined and being set to 0.0 in labels with no predicted samples. Use `zero_division` parameter to control this behavior.\n",
      "  _warn_prf(average, modifier, msg_start, len(result))\n"
     ]
    }
   ],
   "source": [
    "X = panda.DataFrame(modelling_features_two)\n",
    "y = dataset['class'].astype(int)\n",
    "X_train, X_test, y_train, y_test = train_test_split(X, y, random_state=0, test_size=0.2)\n",
    "\n",
    "model = LogisticRegression().fit(X_train,y_train)\n",
    "y_preds = model.predict(X_test)\n",
    "report = classification_report( y_test, y_preds )\n",
    "print(report)\n",
    "acc=accuracy_score(y_test,y_preds)\n",
    "print(\"Logistic Regression, Accuracy Score:\" , acc)"
   ]
  },
  {
   "cell_type": "code",
   "execution_count": 52,
   "metadata": {},
   "outputs": [
    {
     "name": "stdout",
     "output_type": "stream",
     "text": [
      "              precision    recall  f1-score   support\n",
      "\n",
      "           0       0.12      0.02      0.04       279\n",
      "           1       0.82      0.93      0.87      3852\n",
      "           2       0.51      0.32      0.39       826\n",
      "\n",
      "    accuracy                           0.78      4957\n",
      "   macro avg       0.48      0.43      0.43      4957\n",
      "weighted avg       0.73      0.78      0.75      4957\n",
      "\n",
      "Random Forest, Accuracy Score: 0.7797054670163406\n"
     ]
    }
   ],
   "source": [
    "X = panda.DataFrame(modelling_features_three)\n",
    "y = dataset['class'].astype(int)\n",
    "X_train, X_test, y_train, y_test = train_test_split(X, y, random_state=0, test_size=0.2)\n",
    "rf=RandomForestClassifier()\n",
    "rf.fit(X_train,y_train)\n",
    "y_preds = rf.predict(X_test)\n",
    "acc1=accuracy_score(y_test,y_preds)\n",
    "report = classification_report( y_test, y_preds )\n",
    "print(report)\n",
    "print(\"Random Forest, Accuracy Score:\",acc1)"
   ]
  },
  {
   "cell_type": "code",
   "execution_count": 53,
   "metadata": {},
   "outputs": [
    {
     "data": {
      "image/png": "[encoded data removed]",
      "text/plain": [
       "<Figure size 360x360 with 1 Axes>"
      ]
     },
     "metadata": {
      "needs_background": "light"
     },
     "output_type": "display_data"
    }
   ],
   "source": [
    "#Confusion Matrix for TFIDF with additional features \n",
    "from sklearn.metrics import confusion_matrix\n",
    "confusion_matrix = confusion_matrix(y_test,y_preds)\n",
    "matrix_proportions = np.zeros((3,3))\n",
    "for i in range(0,3):\n",
    "    matrix_proportions[i,:] = confusion_matrix[i,:]/float(confusion_matrix[i,:].sum())\n",
    "names=['Hate','Offensive','Neither']\n",
    "confusion_df = panda.DataFrame(matrix_proportions, index=names,columns=names)\n",
    "plt.figure(figsize=(5,5))\n",
    "seaborn.heatmap(confusion_df,annot=True,annot_kws={\"size\": 12},cmap='YlGnBu',cbar=False, square=True,fmt='.2f')\n",
    "plt.ylabel(r'True Value',fontsize=14)\n",
    "plt.xlabel(r'Predicted Value',fontsize=14)\n",
    "plt.tick_params(labelsize=12)"
   ]
  }
 ],
 "metadata": {
  "kernelspec": {
   "display_name": "Python 3 (ipykernel)",
   "language": "python",
   "name": "python3"
  },
  "language_info": {
   "codemirror_mode": {
    "name": "ipython",
    "version": 3
   },
   "file_extension": ".py",
   "mimetype": "text/x-python",
   "name": "python",
   "nbconvert_exporter": "python",
   "pygments_lexer": "ipython3",
   "version": "3.9.7"
  }
 },
 "nbformat": 4,
 "nbformat_minor": 2
}
